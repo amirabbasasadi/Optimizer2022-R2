{
  "nbformat": 4,
  "nbformat_minor": 0,
  "metadata": {
    "colab": {
      "name": "R22.ipynb",
      "provenance": [],
      "collapsed_sections": []
    },
    "kernelspec": {
      "name": "python3",
      "display_name": "Python 3"
    },
    "language_info": {
      "name": "python"
    },
    "widgets": {
      "application/vnd.jupyter.widget-state+json": {
        "0d840d06e30c42e8bff6f2aae57a311e": {
          "model_module": "@jupyter-widgets/controls",
          "model_name": "HBoxModel",
          "model_module_version": "1.5.0",
          "state": {
            "_dom_classes": [],
            "_model_module": "@jupyter-widgets/controls",
            "_model_module_version": "1.5.0",
            "_model_name": "HBoxModel",
            "_view_count": null,
            "_view_module": "@jupyter-widgets/controls",
            "_view_module_version": "1.5.0",
            "_view_name": "HBoxView",
            "box_style": "",
            "children": [
              "IPY_MODEL_2da8363c0a244dbdaf30931ed02e3d61",
              "IPY_MODEL_ab12242643dc42ae922475ccf72b99c8",
              "IPY_MODEL_c724ca3be7114bc3bd702fc93a387d51"
            ],
            "layout": "IPY_MODEL_e7cf1f5ebe974ec0a5756541c975464e"
          }
        },
        "2da8363c0a244dbdaf30931ed02e3d61": {
          "model_module": "@jupyter-widgets/controls",
          "model_name": "HTMLModel",
          "model_module_version": "1.5.0",
          "state": {
            "_dom_classes": [],
            "_model_module": "@jupyter-widgets/controls",
            "_model_module_version": "1.5.0",
            "_model_name": "HTMLModel",
            "_view_count": null,
            "_view_module": "@jupyter-widgets/controls",
            "_view_module_version": "1.5.0",
            "_view_name": "HTMLView",
            "description": "",
            "description_tooltip": null,
            "layout": "IPY_MODEL_ef469a71a9bd4b14ab37919cf94ee1c8",
            "placeholder": "​",
            "style": "IPY_MODEL_44266e868d9d40e18f28ef7964c1baa7",
            "value": "100%"
          }
        },
        "ab12242643dc42ae922475ccf72b99c8": {
          "model_module": "@jupyter-widgets/controls",
          "model_name": "FloatProgressModel",
          "model_module_version": "1.5.0",
          "state": {
            "_dom_classes": [],
            "_model_module": "@jupyter-widgets/controls",
            "_model_module_version": "1.5.0",
            "_model_name": "FloatProgressModel",
            "_view_count": null,
            "_view_module": "@jupyter-widgets/controls",
            "_view_module_version": "1.5.0",
            "_view_name": "ProgressView",
            "bar_style": "success",
            "description": "",
            "description_tooltip": null,
            "layout": "IPY_MODEL_70b1780495544b2fb0139c7c3c2b62b3",
            "max": 3,
            "min": 0,
            "orientation": "horizontal",
            "style": "IPY_MODEL_0debbdbad365453b86700fbd5fff0b51",
            "value": 3
          }
        },
        "c724ca3be7114bc3bd702fc93a387d51": {
          "model_module": "@jupyter-widgets/controls",
          "model_name": "HTMLModel",
          "model_module_version": "1.5.0",
          "state": {
            "_dom_classes": [],
            "_model_module": "@jupyter-widgets/controls",
            "_model_module_version": "1.5.0",
            "_model_name": "HTMLModel",
            "_view_count": null,
            "_view_module": "@jupyter-widgets/controls",
            "_view_module_version": "1.5.0",
            "_view_name": "HTMLView",
            "description": "",
            "description_tooltip": null,
            "layout": "IPY_MODEL_6adae9836abf49318fd63093799f98b1",
            "placeholder": "​",
            "style": "IPY_MODEL_d6089ad0f3584e2da0fd4d7a9e1a86ed",
            "value": " 3/3 [00:05&lt;00:00,  2.29s/it]"
          }
        },
        "e7cf1f5ebe974ec0a5756541c975464e": {
          "model_module": "@jupyter-widgets/base",
          "model_name": "LayoutModel",
          "model_module_version": "1.2.0",
          "state": {
            "_model_module": "@jupyter-widgets/base",
            "_model_module_version": "1.2.0",
            "_model_name": "LayoutModel",
            "_view_count": null,
            "_view_module": "@jupyter-widgets/base",
            "_view_module_version": "1.2.0",
            "_view_name": "LayoutView",
            "align_content": null,
            "align_items": null,
            "align_self": null,
            "border": null,
            "bottom": null,
            "display": null,
            "flex": null,
            "flex_flow": null,
            "grid_area": null,
            "grid_auto_columns": null,
            "grid_auto_flow": null,
            "grid_auto_rows": null,
            "grid_column": null,
            "grid_gap": null,
            "grid_row": null,
            "grid_template_areas": null,
            "grid_template_columns": null,
            "grid_template_rows": null,
            "height": null,
            "justify_content": null,
            "justify_items": null,
            "left": null,
            "margin": null,
            "max_height": null,
            "max_width": null,
            "min_height": null,
            "min_width": null,
            "object_fit": null,
            "object_position": null,
            "order": null,
            "overflow": null,
            "overflow_x": null,
            "overflow_y": null,
            "padding": null,
            "right": null,
            "top": null,
            "visibility": null,
            "width": null
          }
        },
        "ef469a71a9bd4b14ab37919cf94ee1c8": {
          "model_module": "@jupyter-widgets/base",
          "model_name": "LayoutModel",
          "model_module_version": "1.2.0",
          "state": {
            "_model_module": "@jupyter-widgets/base",
            "_model_module_version": "1.2.0",
            "_model_name": "LayoutModel",
            "_view_count": null,
            "_view_module": "@jupyter-widgets/base",
            "_view_module_version": "1.2.0",
            "_view_name": "LayoutView",
            "align_content": null,
            "align_items": null,
            "align_self": null,
            "border": null,
            "bottom": null,
            "display": null,
            "flex": null,
            "flex_flow": null,
            "grid_area": null,
            "grid_auto_columns": null,
            "grid_auto_flow": null,
            "grid_auto_rows": null,
            "grid_column": null,
            "grid_gap": null,
            "grid_row": null,
            "grid_template_areas": null,
            "grid_template_columns": null,
            "grid_template_rows": null,
            "height": null,
            "justify_content": null,
            "justify_items": null,
            "left": null,
            "margin": null,
            "max_height": null,
            "max_width": null,
            "min_height": null,
            "min_width": null,
            "object_fit": null,
            "object_position": null,
            "order": null,
            "overflow": null,
            "overflow_x": null,
            "overflow_y": null,
            "padding": null,
            "right": null,
            "top": null,
            "visibility": null,
            "width": null
          }
        },
        "44266e868d9d40e18f28ef7964c1baa7": {
          "model_module": "@jupyter-widgets/controls",
          "model_name": "DescriptionStyleModel",
          "model_module_version": "1.5.0",
          "state": {
            "_model_module": "@jupyter-widgets/controls",
            "_model_module_version": "1.5.0",
            "_model_name": "DescriptionStyleModel",
            "_view_count": null,
            "_view_module": "@jupyter-widgets/base",
            "_view_module_version": "1.2.0",
            "_view_name": "StyleView",
            "description_width": ""
          }
        },
        "70b1780495544b2fb0139c7c3c2b62b3": {
          "model_module": "@jupyter-widgets/base",
          "model_name": "LayoutModel",
          "model_module_version": "1.2.0",
          "state": {
            "_model_module": "@jupyter-widgets/base",
            "_model_module_version": "1.2.0",
            "_model_name": "LayoutModel",
            "_view_count": null,
            "_view_module": "@jupyter-widgets/base",
            "_view_module_version": "1.2.0",
            "_view_name": "LayoutView",
            "align_content": null,
            "align_items": null,
            "align_self": null,
            "border": null,
            "bottom": null,
            "display": null,
            "flex": null,
            "flex_flow": null,
            "grid_area": null,
            "grid_auto_columns": null,
            "grid_auto_flow": null,
            "grid_auto_rows": null,
            "grid_column": null,
            "grid_gap": null,
            "grid_row": null,
            "grid_template_areas": null,
            "grid_template_columns": null,
            "grid_template_rows": null,
            "height": null,
            "justify_content": null,
            "justify_items": null,
            "left": null,
            "margin": null,
            "max_height": null,
            "max_width": null,
            "min_height": null,
            "min_width": null,
            "object_fit": null,
            "object_position": null,
            "order": null,
            "overflow": null,
            "overflow_x": null,
            "overflow_y": null,
            "padding": null,
            "right": null,
            "top": null,
            "visibility": null,
            "width": null
          }
        },
        "0debbdbad365453b86700fbd5fff0b51": {
          "model_module": "@jupyter-widgets/controls",
          "model_name": "ProgressStyleModel",
          "model_module_version": "1.5.0",
          "state": {
            "_model_module": "@jupyter-widgets/controls",
            "_model_module_version": "1.5.0",
            "_model_name": "ProgressStyleModel",
            "_view_count": null,
            "_view_module": "@jupyter-widgets/base",
            "_view_module_version": "1.2.0",
            "_view_name": "StyleView",
            "bar_color": null,
            "description_width": ""
          }
        },
        "6adae9836abf49318fd63093799f98b1": {
          "model_module": "@jupyter-widgets/base",
          "model_name": "LayoutModel",
          "model_module_version": "1.2.0",
          "state": {
            "_model_module": "@jupyter-widgets/base",
            "_model_module_version": "1.2.0",
            "_model_name": "LayoutModel",
            "_view_count": null,
            "_view_module": "@jupyter-widgets/base",
            "_view_module_version": "1.2.0",
            "_view_name": "LayoutView",
            "align_content": null,
            "align_items": null,
            "align_self": null,
            "border": null,
            "bottom": null,
            "display": null,
            "flex": null,
            "flex_flow": null,
            "grid_area": null,
            "grid_auto_columns": null,
            "grid_auto_flow": null,
            "grid_auto_rows": null,
            "grid_column": null,
            "grid_gap": null,
            "grid_row": null,
            "grid_template_areas": null,
            "grid_template_columns": null,
            "grid_template_rows": null,
            "height": null,
            "justify_content": null,
            "justify_items": null,
            "left": null,
            "margin": null,
            "max_height": null,
            "max_width": null,
            "min_height": null,
            "min_width": null,
            "object_fit": null,
            "object_position": null,
            "order": null,
            "overflow": null,
            "overflow_x": null,
            "overflow_y": null,
            "padding": null,
            "right": null,
            "top": null,
            "visibility": null,
            "width": null
          }
        },
        "d6089ad0f3584e2da0fd4d7a9e1a86ed": {
          "model_module": "@jupyter-widgets/controls",
          "model_name": "DescriptionStyleModel",
          "model_module_version": "1.5.0",
          "state": {
            "_model_module": "@jupyter-widgets/controls",
            "_model_module_version": "1.5.0",
            "_model_name": "DescriptionStyleModel",
            "_view_count": null,
            "_view_module": "@jupyter-widgets/base",
            "_view_module_version": "1.2.0",
            "_view_name": "StyleView",
            "description_width": ""
          }
        },
        "d004835e90364dc194531377622c1c9b": {
          "model_module": "@jupyter-widgets/controls",
          "model_name": "HBoxModel",
          "model_module_version": "1.5.0",
          "state": {
            "_dom_classes": [],
            "_model_module": "@jupyter-widgets/controls",
            "_model_module_version": "1.5.0",
            "_model_name": "HBoxModel",
            "_view_count": null,
            "_view_module": "@jupyter-widgets/controls",
            "_view_module_version": "1.5.0",
            "_view_name": "HBoxView",
            "box_style": "",
            "children": [
              "IPY_MODEL_7d560dff59204d9da7d75c59900cb81b",
              "IPY_MODEL_9071684030ab49b28a1dd510c8a87d51",
              "IPY_MODEL_e9be3c6c7c0c4fd6bf4287e6a356f57b"
            ],
            "layout": "IPY_MODEL_13b280fd1c7147f598eaa79c286ee622"
          }
        },
        "7d560dff59204d9da7d75c59900cb81b": {
          "model_module": "@jupyter-widgets/controls",
          "model_name": "HTMLModel",
          "model_module_version": "1.5.0",
          "state": {
            "_dom_classes": [],
            "_model_module": "@jupyter-widgets/controls",
            "_model_module_version": "1.5.0",
            "_model_name": "HTMLModel",
            "_view_count": null,
            "_view_module": "@jupyter-widgets/controls",
            "_view_module_version": "1.5.0",
            "_view_name": "HTMLView",
            "description": "",
            "description_tooltip": null,
            "layout": "IPY_MODEL_4c98743f34544d4b893150e247679a9a",
            "placeholder": "​",
            "style": "IPY_MODEL_e978d65548dc49928c0091bc6bef90d6",
            "value": "100%"
          }
        },
        "9071684030ab49b28a1dd510c8a87d51": {
          "model_module": "@jupyter-widgets/controls",
          "model_name": "FloatProgressModel",
          "model_module_version": "1.5.0",
          "state": {
            "_dom_classes": [],
            "_model_module": "@jupyter-widgets/controls",
            "_model_module_version": "1.5.0",
            "_model_name": "FloatProgressModel",
            "_view_count": null,
            "_view_module": "@jupyter-widgets/controls",
            "_view_module_version": "1.5.0",
            "_view_name": "ProgressView",
            "bar_style": "success",
            "description": "",
            "description_tooltip": null,
            "layout": "IPY_MODEL_bfdc8b742b5e45c3a6e4448add352f78",
            "max": 3,
            "min": 0,
            "orientation": "horizontal",
            "style": "IPY_MODEL_02501906d5194b808794e08468245c1a",
            "value": 3
          }
        },
        "e9be3c6c7c0c4fd6bf4287e6a356f57b": {
          "model_module": "@jupyter-widgets/controls",
          "model_name": "HTMLModel",
          "model_module_version": "1.5.0",
          "state": {
            "_dom_classes": [],
            "_model_module": "@jupyter-widgets/controls",
            "_model_module_version": "1.5.0",
            "_model_name": "HTMLModel",
            "_view_count": null,
            "_view_module": "@jupyter-widgets/controls",
            "_view_module_version": "1.5.0",
            "_view_name": "HTMLView",
            "description": "",
            "description_tooltip": null,
            "layout": "IPY_MODEL_f2b1c9f1e9304332aac92062fe6459ad",
            "placeholder": "​",
            "style": "IPY_MODEL_a42584209d7a42deb1a359d1222b10f6",
            "value": " 3/3 [00:00&lt;00:00,  9.47it/s]"
          }
        },
        "13b280fd1c7147f598eaa79c286ee622": {
          "model_module": "@jupyter-widgets/base",
          "model_name": "LayoutModel",
          "model_module_version": "1.2.0",
          "state": {
            "_model_module": "@jupyter-widgets/base",
            "_model_module_version": "1.2.0",
            "_model_name": "LayoutModel",
            "_view_count": null,
            "_view_module": "@jupyter-widgets/base",
            "_view_module_version": "1.2.0",
            "_view_name": "LayoutView",
            "align_content": null,
            "align_items": null,
            "align_self": null,
            "border": null,
            "bottom": null,
            "display": null,
            "flex": null,
            "flex_flow": null,
            "grid_area": null,
            "grid_auto_columns": null,
            "grid_auto_flow": null,
            "grid_auto_rows": null,
            "grid_column": null,
            "grid_gap": null,
            "grid_row": null,
            "grid_template_areas": null,
            "grid_template_columns": null,
            "grid_template_rows": null,
            "height": null,
            "justify_content": null,
            "justify_items": null,
            "left": null,
            "margin": null,
            "max_height": null,
            "max_width": null,
            "min_height": null,
            "min_width": null,
            "object_fit": null,
            "object_position": null,
            "order": null,
            "overflow": null,
            "overflow_x": null,
            "overflow_y": null,
            "padding": null,
            "right": null,
            "top": null,
            "visibility": null,
            "width": null
          }
        },
        "4c98743f34544d4b893150e247679a9a": {
          "model_module": "@jupyter-widgets/base",
          "model_name": "LayoutModel",
          "model_module_version": "1.2.0",
          "state": {
            "_model_module": "@jupyter-widgets/base",
            "_model_module_version": "1.2.0",
            "_model_name": "LayoutModel",
            "_view_count": null,
            "_view_module": "@jupyter-widgets/base",
            "_view_module_version": "1.2.0",
            "_view_name": "LayoutView",
            "align_content": null,
            "align_items": null,
            "align_self": null,
            "border": null,
            "bottom": null,
            "display": null,
            "flex": null,
            "flex_flow": null,
            "grid_area": null,
            "grid_auto_columns": null,
            "grid_auto_flow": null,
            "grid_auto_rows": null,
            "grid_column": null,
            "grid_gap": null,
            "grid_row": null,
            "grid_template_areas": null,
            "grid_template_columns": null,
            "grid_template_rows": null,
            "height": null,
            "justify_content": null,
            "justify_items": null,
            "left": null,
            "margin": null,
            "max_height": null,
            "max_width": null,
            "min_height": null,
            "min_width": null,
            "object_fit": null,
            "object_position": null,
            "order": null,
            "overflow": null,
            "overflow_x": null,
            "overflow_y": null,
            "padding": null,
            "right": null,
            "top": null,
            "visibility": null,
            "width": null
          }
        },
        "e978d65548dc49928c0091bc6bef90d6": {
          "model_module": "@jupyter-widgets/controls",
          "model_name": "DescriptionStyleModel",
          "model_module_version": "1.5.0",
          "state": {
            "_model_module": "@jupyter-widgets/controls",
            "_model_module_version": "1.5.0",
            "_model_name": "DescriptionStyleModel",
            "_view_count": null,
            "_view_module": "@jupyter-widgets/base",
            "_view_module_version": "1.2.0",
            "_view_name": "StyleView",
            "description_width": ""
          }
        },
        "bfdc8b742b5e45c3a6e4448add352f78": {
          "model_module": "@jupyter-widgets/base",
          "model_name": "LayoutModel",
          "model_module_version": "1.2.0",
          "state": {
            "_model_module": "@jupyter-widgets/base",
            "_model_module_version": "1.2.0",
            "_model_name": "LayoutModel",
            "_view_count": null,
            "_view_module": "@jupyter-widgets/base",
            "_view_module_version": "1.2.0",
            "_view_name": "LayoutView",
            "align_content": null,
            "align_items": null,
            "align_self": null,
            "border": null,
            "bottom": null,
            "display": null,
            "flex": null,
            "flex_flow": null,
            "grid_area": null,
            "grid_auto_columns": null,
            "grid_auto_flow": null,
            "grid_auto_rows": null,
            "grid_column": null,
            "grid_gap": null,
            "grid_row": null,
            "grid_template_areas": null,
            "grid_template_columns": null,
            "grid_template_rows": null,
            "height": null,
            "justify_content": null,
            "justify_items": null,
            "left": null,
            "margin": null,
            "max_height": null,
            "max_width": null,
            "min_height": null,
            "min_width": null,
            "object_fit": null,
            "object_position": null,
            "order": null,
            "overflow": null,
            "overflow_x": null,
            "overflow_y": null,
            "padding": null,
            "right": null,
            "top": null,
            "visibility": null,
            "width": null
          }
        },
        "02501906d5194b808794e08468245c1a": {
          "model_module": "@jupyter-widgets/controls",
          "model_name": "ProgressStyleModel",
          "model_module_version": "1.5.0",
          "state": {
            "_model_module": "@jupyter-widgets/controls",
            "_model_module_version": "1.5.0",
            "_model_name": "ProgressStyleModel",
            "_view_count": null,
            "_view_module": "@jupyter-widgets/base",
            "_view_module_version": "1.2.0",
            "_view_name": "StyleView",
            "bar_color": null,
            "description_width": ""
          }
        },
        "f2b1c9f1e9304332aac92062fe6459ad": {
          "model_module": "@jupyter-widgets/base",
          "model_name": "LayoutModel",
          "model_module_version": "1.2.0",
          "state": {
            "_model_module": "@jupyter-widgets/base",
            "_model_module_version": "1.2.0",
            "_model_name": "LayoutModel",
            "_view_count": null,
            "_view_module": "@jupyter-widgets/base",
            "_view_module_version": "1.2.0",
            "_view_name": "LayoutView",
            "align_content": null,
            "align_items": null,
            "align_self": null,
            "border": null,
            "bottom": null,
            "display": null,
            "flex": null,
            "flex_flow": null,
            "grid_area": null,
            "grid_auto_columns": null,
            "grid_auto_flow": null,
            "grid_auto_rows": null,
            "grid_column": null,
            "grid_gap": null,
            "grid_row": null,
            "grid_template_areas": null,
            "grid_template_columns": null,
            "grid_template_rows": null,
            "height": null,
            "justify_content": null,
            "justify_items": null,
            "left": null,
            "margin": null,
            "max_height": null,
            "max_width": null,
            "min_height": null,
            "min_width": null,
            "object_fit": null,
            "object_position": null,
            "order": null,
            "overflow": null,
            "overflow_x": null,
            "overflow_y": null,
            "padding": null,
            "right": null,
            "top": null,
            "visibility": null,
            "width": null
          }
        },
        "a42584209d7a42deb1a359d1222b10f6": {
          "model_module": "@jupyter-widgets/controls",
          "model_name": "DescriptionStyleModel",
          "model_module_version": "1.5.0",
          "state": {
            "_model_module": "@jupyter-widgets/controls",
            "_model_module_version": "1.5.0",
            "_model_name": "DescriptionStyleModel",
            "_view_count": null,
            "_view_module": "@jupyter-widgets/base",
            "_view_module_version": "1.2.0",
            "_view_name": "StyleView",
            "description_width": ""
          }
        },
        "c058dd86e180469fa48e613dd2401300": {
          "model_module": "@jupyter-widgets/controls",
          "model_name": "HBoxModel",
          "model_module_version": "1.5.0",
          "state": {
            "_dom_classes": [],
            "_model_module": "@jupyter-widgets/controls",
            "_model_module_version": "1.5.0",
            "_model_name": "HBoxModel",
            "_view_count": null,
            "_view_module": "@jupyter-widgets/controls",
            "_view_module_version": "1.5.0",
            "_view_name": "HBoxView",
            "box_style": "",
            "children": [
              "IPY_MODEL_edb85fcd72bd448caa1ddf1272d8e908",
              "IPY_MODEL_1141053a509c48558b1e58b8c0020f36",
              "IPY_MODEL_9518824b6a554b7697e4120eab927742"
            ],
            "layout": "IPY_MODEL_0cecfdb6e4e349b6b49ba565c511c2b3"
          }
        },
        "edb85fcd72bd448caa1ddf1272d8e908": {
          "model_module": "@jupyter-widgets/controls",
          "model_name": "HTMLModel",
          "model_module_version": "1.5.0",
          "state": {
            "_dom_classes": [],
            "_model_module": "@jupyter-widgets/controls",
            "_model_module_version": "1.5.0",
            "_model_name": "HTMLModel",
            "_view_count": null,
            "_view_module": "@jupyter-widgets/controls",
            "_view_module_version": "1.5.0",
            "_view_name": "HTMLView",
            "description": "",
            "description_tooltip": null,
            "layout": "IPY_MODEL_6cfb76f6f42f4f4da60453ce3147eca3",
            "placeholder": "​",
            "style": "IPY_MODEL_7d93eb96e1324e5e9e92d9510c893c4e",
            "value": "100%"
          }
        },
        "1141053a509c48558b1e58b8c0020f36": {
          "model_module": "@jupyter-widgets/controls",
          "model_name": "FloatProgressModel",
          "model_module_version": "1.5.0",
          "state": {
            "_dom_classes": [],
            "_model_module": "@jupyter-widgets/controls",
            "_model_module_version": "1.5.0",
            "_model_name": "FloatProgressModel",
            "_view_count": null,
            "_view_module": "@jupyter-widgets/controls",
            "_view_module_version": "1.5.0",
            "_view_name": "ProgressView",
            "bar_style": "success",
            "description": "",
            "description_tooltip": null,
            "layout": "IPY_MODEL_e5060741736d432aa5701e78a0462ab8",
            "max": 3,
            "min": 0,
            "orientation": "horizontal",
            "style": "IPY_MODEL_00c3bb2a279c421296cbc2c2575428e6",
            "value": 3
          }
        },
        "9518824b6a554b7697e4120eab927742": {
          "model_module": "@jupyter-widgets/controls",
          "model_name": "HTMLModel",
          "model_module_version": "1.5.0",
          "state": {
            "_dom_classes": [],
            "_model_module": "@jupyter-widgets/controls",
            "_model_module_version": "1.5.0",
            "_model_name": "HTMLModel",
            "_view_count": null,
            "_view_module": "@jupyter-widgets/controls",
            "_view_module_version": "1.5.0",
            "_view_name": "HTMLView",
            "description": "",
            "description_tooltip": null,
            "layout": "IPY_MODEL_38bfc9c0d7954b9089969d04c0b7a9af",
            "placeholder": "​",
            "style": "IPY_MODEL_a231475abcfb45c49030f5beca839d18",
            "value": " 3/3 [00:00&lt;00:00, 35.62it/s]"
          }
        },
        "0cecfdb6e4e349b6b49ba565c511c2b3": {
          "model_module": "@jupyter-widgets/base",
          "model_name": "LayoutModel",
          "model_module_version": "1.2.0",
          "state": {
            "_model_module": "@jupyter-widgets/base",
            "_model_module_version": "1.2.0",
            "_model_name": "LayoutModel",
            "_view_count": null,
            "_view_module": "@jupyter-widgets/base",
            "_view_module_version": "1.2.0",
            "_view_name": "LayoutView",
            "align_content": null,
            "align_items": null,
            "align_self": null,
            "border": null,
            "bottom": null,
            "display": null,
            "flex": null,
            "flex_flow": null,
            "grid_area": null,
            "grid_auto_columns": null,
            "grid_auto_flow": null,
            "grid_auto_rows": null,
            "grid_column": null,
            "grid_gap": null,
            "grid_row": null,
            "grid_template_areas": null,
            "grid_template_columns": null,
            "grid_template_rows": null,
            "height": null,
            "justify_content": null,
            "justify_items": null,
            "left": null,
            "margin": null,
            "max_height": null,
            "max_width": null,
            "min_height": null,
            "min_width": null,
            "object_fit": null,
            "object_position": null,
            "order": null,
            "overflow": null,
            "overflow_x": null,
            "overflow_y": null,
            "padding": null,
            "right": null,
            "top": null,
            "visibility": null,
            "width": null
          }
        },
        "6cfb76f6f42f4f4da60453ce3147eca3": {
          "model_module": "@jupyter-widgets/base",
          "model_name": "LayoutModel",
          "model_module_version": "1.2.0",
          "state": {
            "_model_module": "@jupyter-widgets/base",
            "_model_module_version": "1.2.0",
            "_model_name": "LayoutModel",
            "_view_count": null,
            "_view_module": "@jupyter-widgets/base",
            "_view_module_version": "1.2.0",
            "_view_name": "LayoutView",
            "align_content": null,
            "align_items": null,
            "align_self": null,
            "border": null,
            "bottom": null,
            "display": null,
            "flex": null,
            "flex_flow": null,
            "grid_area": null,
            "grid_auto_columns": null,
            "grid_auto_flow": null,
            "grid_auto_rows": null,
            "grid_column": null,
            "grid_gap": null,
            "grid_row": null,
            "grid_template_areas": null,
            "grid_template_columns": null,
            "grid_template_rows": null,
            "height": null,
            "justify_content": null,
            "justify_items": null,
            "left": null,
            "margin": null,
            "max_height": null,
            "max_width": null,
            "min_height": null,
            "min_width": null,
            "object_fit": null,
            "object_position": null,
            "order": null,
            "overflow": null,
            "overflow_x": null,
            "overflow_y": null,
            "padding": null,
            "right": null,
            "top": null,
            "visibility": null,
            "width": null
          }
        },
        "7d93eb96e1324e5e9e92d9510c893c4e": {
          "model_module": "@jupyter-widgets/controls",
          "model_name": "DescriptionStyleModel",
          "model_module_version": "1.5.0",
          "state": {
            "_model_module": "@jupyter-widgets/controls",
            "_model_module_version": "1.5.0",
            "_model_name": "DescriptionStyleModel",
            "_view_count": null,
            "_view_module": "@jupyter-widgets/base",
            "_view_module_version": "1.2.0",
            "_view_name": "StyleView",
            "description_width": ""
          }
        },
        "e5060741736d432aa5701e78a0462ab8": {
          "model_module": "@jupyter-widgets/base",
          "model_name": "LayoutModel",
          "model_module_version": "1.2.0",
          "state": {
            "_model_module": "@jupyter-widgets/base",
            "_model_module_version": "1.2.0",
            "_model_name": "LayoutModel",
            "_view_count": null,
            "_view_module": "@jupyter-widgets/base",
            "_view_module_version": "1.2.0",
            "_view_name": "LayoutView",
            "align_content": null,
            "align_items": null,
            "align_self": null,
            "border": null,
            "bottom": null,
            "display": null,
            "flex": null,
            "flex_flow": null,
            "grid_area": null,
            "grid_auto_columns": null,
            "grid_auto_flow": null,
            "grid_auto_rows": null,
            "grid_column": null,
            "grid_gap": null,
            "grid_row": null,
            "grid_template_areas": null,
            "grid_template_columns": null,
            "grid_template_rows": null,
            "height": null,
            "justify_content": null,
            "justify_items": null,
            "left": null,
            "margin": null,
            "max_height": null,
            "max_width": null,
            "min_height": null,
            "min_width": null,
            "object_fit": null,
            "object_position": null,
            "order": null,
            "overflow": null,
            "overflow_x": null,
            "overflow_y": null,
            "padding": null,
            "right": null,
            "top": null,
            "visibility": null,
            "width": null
          }
        },
        "00c3bb2a279c421296cbc2c2575428e6": {
          "model_module": "@jupyter-widgets/controls",
          "model_name": "ProgressStyleModel",
          "model_module_version": "1.5.0",
          "state": {
            "_model_module": "@jupyter-widgets/controls",
            "_model_module_version": "1.5.0",
            "_model_name": "ProgressStyleModel",
            "_view_count": null,
            "_view_module": "@jupyter-widgets/base",
            "_view_module_version": "1.2.0",
            "_view_name": "StyleView",
            "bar_color": null,
            "description_width": ""
          }
        },
        "38bfc9c0d7954b9089969d04c0b7a9af": {
          "model_module": "@jupyter-widgets/base",
          "model_name": "LayoutModel",
          "model_module_version": "1.2.0",
          "state": {
            "_model_module": "@jupyter-widgets/base",
            "_model_module_version": "1.2.0",
            "_model_name": "LayoutModel",
            "_view_count": null,
            "_view_module": "@jupyter-widgets/base",
            "_view_module_version": "1.2.0",
            "_view_name": "LayoutView",
            "align_content": null,
            "align_items": null,
            "align_self": null,
            "border": null,
            "bottom": null,
            "display": null,
            "flex": null,
            "flex_flow": null,
            "grid_area": null,
            "grid_auto_columns": null,
            "grid_auto_flow": null,
            "grid_auto_rows": null,
            "grid_column": null,
            "grid_gap": null,
            "grid_row": null,
            "grid_template_areas": null,
            "grid_template_columns": null,
            "grid_template_rows": null,
            "height": null,
            "justify_content": null,
            "justify_items": null,
            "left": null,
            "margin": null,
            "max_height": null,
            "max_width": null,
            "min_height": null,
            "min_width": null,
            "object_fit": null,
            "object_position": null,
            "order": null,
            "overflow": null,
            "overflow_x": null,
            "overflow_y": null,
            "padding": null,
            "right": null,
            "top": null,
            "visibility": null,
            "width": null
          }
        },
        "a231475abcfb45c49030f5beca839d18": {
          "model_module": "@jupyter-widgets/controls",
          "model_name": "DescriptionStyleModel",
          "model_module_version": "1.5.0",
          "state": {
            "_model_module": "@jupyter-widgets/controls",
            "_model_module_version": "1.5.0",
            "_model_name": "DescriptionStyleModel",
            "_view_count": null,
            "_view_module": "@jupyter-widgets/base",
            "_view_module_version": "1.2.0",
            "_view_name": "StyleView",
            "description_width": ""
          }
        },
        "c7c16698210f42b1a1973a2ee345ab13": {
          "model_module": "@jupyter-widgets/controls",
          "model_name": "HBoxModel",
          "model_module_version": "1.5.0",
          "state": {
            "_dom_classes": [],
            "_model_module": "@jupyter-widgets/controls",
            "_model_module_version": "1.5.0",
            "_model_name": "HBoxModel",
            "_view_count": null,
            "_view_module": "@jupyter-widgets/controls",
            "_view_module_version": "1.5.0",
            "_view_name": "HBoxView",
            "box_style": "",
            "children": [
              "IPY_MODEL_39920f7a89a147f796466e2231396a17",
              "IPY_MODEL_05f330b4001d4e3f9e0643bdb111561a",
              "IPY_MODEL_8e766e4cc90a4210b8598e9a568a1dc9"
            ],
            "layout": "IPY_MODEL_827ac5bf42264f85a81de2044548cf71"
          }
        },
        "39920f7a89a147f796466e2231396a17": {
          "model_module": "@jupyter-widgets/controls",
          "model_name": "HTMLModel",
          "model_module_version": "1.5.0",
          "state": {
            "_dom_classes": [],
            "_model_module": "@jupyter-widgets/controls",
            "_model_module_version": "1.5.0",
            "_model_name": "HTMLModel",
            "_view_count": null,
            "_view_module": "@jupyter-widgets/controls",
            "_view_module_version": "1.5.0",
            "_view_name": "HTMLView",
            "description": "",
            "description_tooltip": null,
            "layout": "IPY_MODEL_8aa256f1657c4016902ea746ed3c583c",
            "placeholder": "​",
            "style": "IPY_MODEL_ae3485d00b1f46d8ae71fa045ca3db4c",
            "value": "100%"
          }
        },
        "05f330b4001d4e3f9e0643bdb111561a": {
          "model_module": "@jupyter-widgets/controls",
          "model_name": "FloatProgressModel",
          "model_module_version": "1.5.0",
          "state": {
            "_dom_classes": [],
            "_model_module": "@jupyter-widgets/controls",
            "_model_module_version": "1.5.0",
            "_model_name": "FloatProgressModel",
            "_view_count": null,
            "_view_module": "@jupyter-widgets/controls",
            "_view_module_version": "1.5.0",
            "_view_name": "ProgressView",
            "bar_style": "success",
            "description": "",
            "description_tooltip": null,
            "layout": "IPY_MODEL_24802db3d4dc48638529ec3adece3afb",
            "max": 3,
            "min": 0,
            "orientation": "horizontal",
            "style": "IPY_MODEL_c567de3967174d89885ea41480fa0ab4",
            "value": 3
          }
        },
        "8e766e4cc90a4210b8598e9a568a1dc9": {
          "model_module": "@jupyter-widgets/controls",
          "model_name": "HTMLModel",
          "model_module_version": "1.5.0",
          "state": {
            "_dom_classes": [],
            "_model_module": "@jupyter-widgets/controls",
            "_model_module_version": "1.5.0",
            "_model_name": "HTMLModel",
            "_view_count": null,
            "_view_module": "@jupyter-widgets/controls",
            "_view_module_version": "1.5.0",
            "_view_name": "HTMLView",
            "description": "",
            "description_tooltip": null,
            "layout": "IPY_MODEL_a3c600979b2b4e38b971c1e4d056287c",
            "placeholder": "​",
            "style": "IPY_MODEL_c6fdb25673a94d648b6fda9114050086",
            "value": " 3/3 [00:11&lt;00:00,  3.50s/it]"
          }
        },
        "827ac5bf42264f85a81de2044548cf71": {
          "model_module": "@jupyter-widgets/base",
          "model_name": "LayoutModel",
          "model_module_version": "1.2.0",
          "state": {
            "_model_module": "@jupyter-widgets/base",
            "_model_module_version": "1.2.0",
            "_model_name": "LayoutModel",
            "_view_count": null,
            "_view_module": "@jupyter-widgets/base",
            "_view_module_version": "1.2.0",
            "_view_name": "LayoutView",
            "align_content": null,
            "align_items": null,
            "align_self": null,
            "border": null,
            "bottom": null,
            "display": null,
            "flex": null,
            "flex_flow": null,
            "grid_area": null,
            "grid_auto_columns": null,
            "grid_auto_flow": null,
            "grid_auto_rows": null,
            "grid_column": null,
            "grid_gap": null,
            "grid_row": null,
            "grid_template_areas": null,
            "grid_template_columns": null,
            "grid_template_rows": null,
            "height": null,
            "justify_content": null,
            "justify_items": null,
            "left": null,
            "margin": null,
            "max_height": null,
            "max_width": null,
            "min_height": null,
            "min_width": null,
            "object_fit": null,
            "object_position": null,
            "order": null,
            "overflow": null,
            "overflow_x": null,
            "overflow_y": null,
            "padding": null,
            "right": null,
            "top": null,
            "visibility": null,
            "width": null
          }
        },
        "8aa256f1657c4016902ea746ed3c583c": {
          "model_module": "@jupyter-widgets/base",
          "model_name": "LayoutModel",
          "model_module_version": "1.2.0",
          "state": {
            "_model_module": "@jupyter-widgets/base",
            "_model_module_version": "1.2.0",
            "_model_name": "LayoutModel",
            "_view_count": null,
            "_view_module": "@jupyter-widgets/base",
            "_view_module_version": "1.2.0",
            "_view_name": "LayoutView",
            "align_content": null,
            "align_items": null,
            "align_self": null,
            "border": null,
            "bottom": null,
            "display": null,
            "flex": null,
            "flex_flow": null,
            "grid_area": null,
            "grid_auto_columns": null,
            "grid_auto_flow": null,
            "grid_auto_rows": null,
            "grid_column": null,
            "grid_gap": null,
            "grid_row": null,
            "grid_template_areas": null,
            "grid_template_columns": null,
            "grid_template_rows": null,
            "height": null,
            "justify_content": null,
            "justify_items": null,
            "left": null,
            "margin": null,
            "max_height": null,
            "max_width": null,
            "min_height": null,
            "min_width": null,
            "object_fit": null,
            "object_position": null,
            "order": null,
            "overflow": null,
            "overflow_x": null,
            "overflow_y": null,
            "padding": null,
            "right": null,
            "top": null,
            "visibility": null,
            "width": null
          }
        },
        "ae3485d00b1f46d8ae71fa045ca3db4c": {
          "model_module": "@jupyter-widgets/controls",
          "model_name": "DescriptionStyleModel",
          "model_module_version": "1.5.0",
          "state": {
            "_model_module": "@jupyter-widgets/controls",
            "_model_module_version": "1.5.0",
            "_model_name": "DescriptionStyleModel",
            "_view_count": null,
            "_view_module": "@jupyter-widgets/base",
            "_view_module_version": "1.2.0",
            "_view_name": "StyleView",
            "description_width": ""
          }
        },
        "24802db3d4dc48638529ec3adece3afb": {
          "model_module": "@jupyter-widgets/base",
          "model_name": "LayoutModel",
          "model_module_version": "1.2.0",
          "state": {
            "_model_module": "@jupyter-widgets/base",
            "_model_module_version": "1.2.0",
            "_model_name": "LayoutModel",
            "_view_count": null,
            "_view_module": "@jupyter-widgets/base",
            "_view_module_version": "1.2.0",
            "_view_name": "LayoutView",
            "align_content": null,
            "align_items": null,
            "align_self": null,
            "border": null,
            "bottom": null,
            "display": null,
            "flex": null,
            "flex_flow": null,
            "grid_area": null,
            "grid_auto_columns": null,
            "grid_auto_flow": null,
            "grid_auto_rows": null,
            "grid_column": null,
            "grid_gap": null,
            "grid_row": null,
            "grid_template_areas": null,
            "grid_template_columns": null,
            "grid_template_rows": null,
            "height": null,
            "justify_content": null,
            "justify_items": null,
            "left": null,
            "margin": null,
            "max_height": null,
            "max_width": null,
            "min_height": null,
            "min_width": null,
            "object_fit": null,
            "object_position": null,
            "order": null,
            "overflow": null,
            "overflow_x": null,
            "overflow_y": null,
            "padding": null,
            "right": null,
            "top": null,
            "visibility": null,
            "width": null
          }
        },
        "c567de3967174d89885ea41480fa0ab4": {
          "model_module": "@jupyter-widgets/controls",
          "model_name": "ProgressStyleModel",
          "model_module_version": "1.5.0",
          "state": {
            "_model_module": "@jupyter-widgets/controls",
            "_model_module_version": "1.5.0",
            "_model_name": "ProgressStyleModel",
            "_view_count": null,
            "_view_module": "@jupyter-widgets/base",
            "_view_module_version": "1.2.0",
            "_view_name": "StyleView",
            "bar_color": null,
            "description_width": ""
          }
        },
        "a3c600979b2b4e38b971c1e4d056287c": {
          "model_module": "@jupyter-widgets/base",
          "model_name": "LayoutModel",
          "model_module_version": "1.2.0",
          "state": {
            "_model_module": "@jupyter-widgets/base",
            "_model_module_version": "1.2.0",
            "_model_name": "LayoutModel",
            "_view_count": null,
            "_view_module": "@jupyter-widgets/base",
            "_view_module_version": "1.2.0",
            "_view_name": "LayoutView",
            "align_content": null,
            "align_items": null,
            "align_self": null,
            "border": null,
            "bottom": null,
            "display": null,
            "flex": null,
            "flex_flow": null,
            "grid_area": null,
            "grid_auto_columns": null,
            "grid_auto_flow": null,
            "grid_auto_rows": null,
            "grid_column": null,
            "grid_gap": null,
            "grid_row": null,
            "grid_template_areas": null,
            "grid_template_columns": null,
            "grid_template_rows": null,
            "height": null,
            "justify_content": null,
            "justify_items": null,
            "left": null,
            "margin": null,
            "max_height": null,
            "max_width": null,
            "min_height": null,
            "min_width": null,
            "object_fit": null,
            "object_position": null,
            "order": null,
            "overflow": null,
            "overflow_x": null,
            "overflow_y": null,
            "padding": null,
            "right": null,
            "top": null,
            "visibility": null,
            "width": null
          }
        },
        "c6fdb25673a94d648b6fda9114050086": {
          "model_module": "@jupyter-widgets/controls",
          "model_name": "DescriptionStyleModel",
          "model_module_version": "1.5.0",
          "state": {
            "_model_module": "@jupyter-widgets/controls",
            "_model_module_version": "1.5.0",
            "_model_name": "DescriptionStyleModel",
            "_view_count": null,
            "_view_module": "@jupyter-widgets/base",
            "_view_module_version": "1.2.0",
            "_view_name": "StyleView",
            "description_width": ""
          }
        },
        "25d9295fa5404a329d8907787bdec942": {
          "model_module": "@jupyter-widgets/controls",
          "model_name": "HBoxModel",
          "model_module_version": "1.5.0",
          "state": {
            "_dom_classes": [],
            "_model_module": "@jupyter-widgets/controls",
            "_model_module_version": "1.5.0",
            "_model_name": "HBoxModel",
            "_view_count": null,
            "_view_module": "@jupyter-widgets/controls",
            "_view_module_version": "1.5.0",
            "_view_name": "HBoxView",
            "box_style": "",
            "children": [
              "IPY_MODEL_6a06f53a5b3d41f693c0828042393d5a",
              "IPY_MODEL_74893727b6aa4e689bb658d80622a03e",
              "IPY_MODEL_88af59ebdee144be94b41aa7de5d17d1"
            ],
            "layout": "IPY_MODEL_72ed599e3aa342bcbf09a8f84c287de1"
          }
        },
        "6a06f53a5b3d41f693c0828042393d5a": {
          "model_module": "@jupyter-widgets/controls",
          "model_name": "HTMLModel",
          "model_module_version": "1.5.0",
          "state": {
            "_dom_classes": [],
            "_model_module": "@jupyter-widgets/controls",
            "_model_module_version": "1.5.0",
            "_model_name": "HTMLModel",
            "_view_count": null,
            "_view_module": "@jupyter-widgets/controls",
            "_view_module_version": "1.5.0",
            "_view_name": "HTMLView",
            "description": "",
            "description_tooltip": null,
            "layout": "IPY_MODEL_55ff5d93646c41e6b671d26ff0e5d0b2",
            "placeholder": "​",
            "style": "IPY_MODEL_9956235aba3644638037e8663222bc8b",
            "value": "100%"
          }
        },
        "74893727b6aa4e689bb658d80622a03e": {
          "model_module": "@jupyter-widgets/controls",
          "model_name": "FloatProgressModel",
          "model_module_version": "1.5.0",
          "state": {
            "_dom_classes": [],
            "_model_module": "@jupyter-widgets/controls",
            "_model_module_version": "1.5.0",
            "_model_name": "FloatProgressModel",
            "_view_count": null,
            "_view_module": "@jupyter-widgets/controls",
            "_view_module_version": "1.5.0",
            "_view_name": "ProgressView",
            "bar_style": "success",
            "description": "",
            "description_tooltip": null,
            "layout": "IPY_MODEL_14f460c9131e401cbbf307772390d619",
            "max": 3,
            "min": 0,
            "orientation": "horizontal",
            "style": "IPY_MODEL_2cee32985cc94057aa080762973111dc",
            "value": 3
          }
        },
        "88af59ebdee144be94b41aa7de5d17d1": {
          "model_module": "@jupyter-widgets/controls",
          "model_name": "HTMLModel",
          "model_module_version": "1.5.0",
          "state": {
            "_dom_classes": [],
            "_model_module": "@jupyter-widgets/controls",
            "_model_module_version": "1.5.0",
            "_model_name": "HTMLModel",
            "_view_count": null,
            "_view_module": "@jupyter-widgets/controls",
            "_view_module_version": "1.5.0",
            "_view_name": "HTMLView",
            "description": "",
            "description_tooltip": null,
            "layout": "IPY_MODEL_242f6fe5e64d47da8a793c1c0ba112dd",
            "placeholder": "​",
            "style": "IPY_MODEL_b90f6337abfe42fcb3b89e0ffdde0f1a",
            "value": " 3/3 [00:00&lt;00:00,  4.50it/s]"
          }
        },
        "72ed599e3aa342bcbf09a8f84c287de1": {
          "model_module": "@jupyter-widgets/base",
          "model_name": "LayoutModel",
          "model_module_version": "1.2.0",
          "state": {
            "_model_module": "@jupyter-widgets/base",
            "_model_module_version": "1.2.0",
            "_model_name": "LayoutModel",
            "_view_count": null,
            "_view_module": "@jupyter-widgets/base",
            "_view_module_version": "1.2.0",
            "_view_name": "LayoutView",
            "align_content": null,
            "align_items": null,
            "align_self": null,
            "border": null,
            "bottom": null,
            "display": null,
            "flex": null,
            "flex_flow": null,
            "grid_area": null,
            "grid_auto_columns": null,
            "grid_auto_flow": null,
            "grid_auto_rows": null,
            "grid_column": null,
            "grid_gap": null,
            "grid_row": null,
            "grid_template_areas": null,
            "grid_template_columns": null,
            "grid_template_rows": null,
            "height": null,
            "justify_content": null,
            "justify_items": null,
            "left": null,
            "margin": null,
            "max_height": null,
            "max_width": null,
            "min_height": null,
            "min_width": null,
            "object_fit": null,
            "object_position": null,
            "order": null,
            "overflow": null,
            "overflow_x": null,
            "overflow_y": null,
            "padding": null,
            "right": null,
            "top": null,
            "visibility": null,
            "width": null
          }
        },
        "55ff5d93646c41e6b671d26ff0e5d0b2": {
          "model_module": "@jupyter-widgets/base",
          "model_name": "LayoutModel",
          "model_module_version": "1.2.0",
          "state": {
            "_model_module": "@jupyter-widgets/base",
            "_model_module_version": "1.2.0",
            "_model_name": "LayoutModel",
            "_view_count": null,
            "_view_module": "@jupyter-widgets/base",
            "_view_module_version": "1.2.0",
            "_view_name": "LayoutView",
            "align_content": null,
            "align_items": null,
            "align_self": null,
            "border": null,
            "bottom": null,
            "display": null,
            "flex": null,
            "flex_flow": null,
            "grid_area": null,
            "grid_auto_columns": null,
            "grid_auto_flow": null,
            "grid_auto_rows": null,
            "grid_column": null,
            "grid_gap": null,
            "grid_row": null,
            "grid_template_areas": null,
            "grid_template_columns": null,
            "grid_template_rows": null,
            "height": null,
            "justify_content": null,
            "justify_items": null,
            "left": null,
            "margin": null,
            "max_height": null,
            "max_width": null,
            "min_height": null,
            "min_width": null,
            "object_fit": null,
            "object_position": null,
            "order": null,
            "overflow": null,
            "overflow_x": null,
            "overflow_y": null,
            "padding": null,
            "right": null,
            "top": null,
            "visibility": null,
            "width": null
          }
        },
        "9956235aba3644638037e8663222bc8b": {
          "model_module": "@jupyter-widgets/controls",
          "model_name": "DescriptionStyleModel",
          "model_module_version": "1.5.0",
          "state": {
            "_model_module": "@jupyter-widgets/controls",
            "_model_module_version": "1.5.0",
            "_model_name": "DescriptionStyleModel",
            "_view_count": null,
            "_view_module": "@jupyter-widgets/base",
            "_view_module_version": "1.2.0",
            "_view_name": "StyleView",
            "description_width": ""
          }
        },
        "14f460c9131e401cbbf307772390d619": {
          "model_module": "@jupyter-widgets/base",
          "model_name": "LayoutModel",
          "model_module_version": "1.2.0",
          "state": {
            "_model_module": "@jupyter-widgets/base",
            "_model_module_version": "1.2.0",
            "_model_name": "LayoutModel",
            "_view_count": null,
            "_view_module": "@jupyter-widgets/base",
            "_view_module_version": "1.2.0",
            "_view_name": "LayoutView",
            "align_content": null,
            "align_items": null,
            "align_self": null,
            "border": null,
            "bottom": null,
            "display": null,
            "flex": null,
            "flex_flow": null,
            "grid_area": null,
            "grid_auto_columns": null,
            "grid_auto_flow": null,
            "grid_auto_rows": null,
            "grid_column": null,
            "grid_gap": null,
            "grid_row": null,
            "grid_template_areas": null,
            "grid_template_columns": null,
            "grid_template_rows": null,
            "height": null,
            "justify_content": null,
            "justify_items": null,
            "left": null,
            "margin": null,
            "max_height": null,
            "max_width": null,
            "min_height": null,
            "min_width": null,
            "object_fit": null,
            "object_position": null,
            "order": null,
            "overflow": null,
            "overflow_x": null,
            "overflow_y": null,
            "padding": null,
            "right": null,
            "top": null,
            "visibility": null,
            "width": null
          }
        },
        "2cee32985cc94057aa080762973111dc": {
          "model_module": "@jupyter-widgets/controls",
          "model_name": "ProgressStyleModel",
          "model_module_version": "1.5.0",
          "state": {
            "_model_module": "@jupyter-widgets/controls",
            "_model_module_version": "1.5.0",
            "_model_name": "ProgressStyleModel",
            "_view_count": null,
            "_view_module": "@jupyter-widgets/base",
            "_view_module_version": "1.2.0",
            "_view_name": "StyleView",
            "bar_color": null,
            "description_width": ""
          }
        },
        "242f6fe5e64d47da8a793c1c0ba112dd": {
          "model_module": "@jupyter-widgets/base",
          "model_name": "LayoutModel",
          "model_module_version": "1.2.0",
          "state": {
            "_model_module": "@jupyter-widgets/base",
            "_model_module_version": "1.2.0",
            "_model_name": "LayoutModel",
            "_view_count": null,
            "_view_module": "@jupyter-widgets/base",
            "_view_module_version": "1.2.0",
            "_view_name": "LayoutView",
            "align_content": null,
            "align_items": null,
            "align_self": null,
            "border": null,
            "bottom": null,
            "display": null,
            "flex": null,
            "flex_flow": null,
            "grid_area": null,
            "grid_auto_columns": null,
            "grid_auto_flow": null,
            "grid_auto_rows": null,
            "grid_column": null,
            "grid_gap": null,
            "grid_row": null,
            "grid_template_areas": null,
            "grid_template_columns": null,
            "grid_template_rows": null,
            "height": null,
            "justify_content": null,
            "justify_items": null,
            "left": null,
            "margin": null,
            "max_height": null,
            "max_width": null,
            "min_height": null,
            "min_width": null,
            "object_fit": null,
            "object_position": null,
            "order": null,
            "overflow": null,
            "overflow_x": null,
            "overflow_y": null,
            "padding": null,
            "right": null,
            "top": null,
            "visibility": null,
            "width": null
          }
        },
        "b90f6337abfe42fcb3b89e0ffdde0f1a": {
          "model_module": "@jupyter-widgets/controls",
          "model_name": "DescriptionStyleModel",
          "model_module_version": "1.5.0",
          "state": {
            "_model_module": "@jupyter-widgets/controls",
            "_model_module_version": "1.5.0",
            "_model_name": "DescriptionStyleModel",
            "_view_count": null,
            "_view_module": "@jupyter-widgets/base",
            "_view_module_version": "1.2.0",
            "_view_name": "StyleView",
            "description_width": ""
          }
        }
      }
    }
  },
  "cells": [
    {
      "cell_type": "code",
      "source": [
        "!pip uninstall scikit-learn\n",
        "!pip install scikit-learn==0.22\n",
        "!pip install umap-learn"
      ],
      "metadata": {
        "colab": {
          "base_uri": "https://localhost:8080/",
          "height": 924
        },
        "id": "JKA-jFfnRuJ1",
        "outputId": "15281c40-89d0-491c-9103-203e1ca3a4fd"
      },
      "execution_count": null,
      "outputs": [
        {
          "output_type": "stream",
          "name": "stdout",
          "text": [
            "Found existing installation: scikit-learn 1.0.2\n",
            "Uninstalling scikit-learn-1.0.2:\n",
            "  Would remove:\n",
            "    /usr/local/lib/python3.7/dist-packages/scikit_learn-1.0.2.dist-info/*\n",
            "    /usr/local/lib/python3.7/dist-packages/scikit_learn.libs/libgomp-a34b3233.so.1.0.0\n",
            "    /usr/local/lib/python3.7/dist-packages/sklearn/*\n",
            "Proceed (y/n)? y\n",
            "  Successfully uninstalled scikit-learn-1.0.2\n",
            "Looking in indexes: https://pypi.org/simple, https://us-python.pkg.dev/colab-wheels/public/simple/\n",
            "Collecting scikit-learn==0.22\n",
            "  Downloading scikit_learn-0.22-cp37-cp37m-manylinux1_x86_64.whl (7.0 MB)\n",
            "\u001b[K     |████████████████████████████████| 7.0 MB 3.9 MB/s \n",
            "\u001b[?25hRequirement already satisfied: numpy>=1.11.0 in /usr/local/lib/python3.7/dist-packages (from scikit-learn==0.22) (1.21.6)\n",
            "Requirement already satisfied: joblib>=0.11 in /usr/local/lib/python3.7/dist-packages (from scikit-learn==0.22) (1.1.0)\n",
            "Requirement already satisfied: scipy>=0.17.0 in /usr/local/lib/python3.7/dist-packages (from scikit-learn==0.22) (1.7.3)\n",
            "Installing collected packages: scikit-learn\n",
            "\u001b[31mERROR: pip's dependency resolver does not currently take into account all the packages that are installed. This behaviour is the source of the following dependency conflicts.\n",
            "yellowbrick 1.4 requires scikit-learn>=1.0.0, but you have scikit-learn 0.22 which is incompatible.\n",
            "imbalanced-learn 0.8.1 requires scikit-learn>=0.24, but you have scikit-learn 0.22 which is incompatible.\u001b[0m\n",
            "Successfully installed scikit-learn-0.22\n"
          ]
        },
        {
          "output_type": "display_data",
          "data": {
            "application/vnd.colab-display-data+json": {
              "pip_warning": {
                "packages": [
                  "sklearn"
                ]
              }
            }
          },
          "metadata": {}
        },
        {
          "output_type": "stream",
          "name": "stdout",
          "text": [
            "Looking in indexes: https://pypi.org/simple, https://us-python.pkg.dev/colab-wheels/public/simple/\n",
            "Requirement already satisfied: umap-learn in /usr/local/lib/python3.7/dist-packages (0.5.3)\n",
            "Requirement already satisfied: tqdm in /usr/local/lib/python3.7/dist-packages (from umap-learn) (4.64.0)\n",
            "Requirement already satisfied: numba>=0.49 in /usr/local/lib/python3.7/dist-packages (from umap-learn) (0.51.2)\n",
            "Requirement already satisfied: scikit-learn>=0.22 in /usr/local/lib/python3.7/dist-packages (from umap-learn) (0.22)\n",
            "Requirement already satisfied: scipy>=1.0 in /usr/local/lib/python3.7/dist-packages (from umap-learn) (1.7.3)\n",
            "Requirement already satisfied: numpy>=1.17 in /usr/local/lib/python3.7/dist-packages (from umap-learn) (1.21.6)\n",
            "Requirement already satisfied: pynndescent>=0.5 in /usr/local/lib/python3.7/dist-packages (from umap-learn) (0.5.7)\n",
            "Requirement already satisfied: setuptools in /usr/local/lib/python3.7/dist-packages (from numba>=0.49->umap-learn) (57.4.0)\n",
            "Requirement already satisfied: llvmlite<0.35,>=0.34.0.dev0 in /usr/local/lib/python3.7/dist-packages (from numba>=0.49->umap-learn) (0.34.0)\n",
            "Requirement already satisfied: joblib>=0.11 in /usr/local/lib/python3.7/dist-packages (from pynndescent>=0.5->umap-learn) (1.1.0)\n",
            "Looking in indexes: https://pypi.org/simple, https://us-python.pkg.dev/colab-wheels/public/simple/\n",
            "Requirement already satisfied: spherecluster in /usr/local/lib/python3.7/dist-packages (0.1.7)\n",
            "Requirement already satisfied: scipy in /usr/local/lib/python3.7/dist-packages (from spherecluster) (1.7.3)\n",
            "Requirement already satisfied: nose in /usr/local/lib/python3.7/dist-packages (from spherecluster) (1.3.7)\n",
            "Requirement already satisfied: pytest in /usr/local/lib/python3.7/dist-packages (from spherecluster) (3.6.4)\n",
            "Requirement already satisfied: scikit-learn>=0.20 in /usr/local/lib/python3.7/dist-packages (from spherecluster) (0.22)\n",
            "Requirement already satisfied: numpy in /usr/local/lib/python3.7/dist-packages (from spherecluster) (1.21.6)\n",
            "Requirement already satisfied: joblib>=0.11 in /usr/local/lib/python3.7/dist-packages (from scikit-learn>=0.20->spherecluster) (1.1.0)\n",
            "Requirement already satisfied: py>=1.5.0 in /usr/local/lib/python3.7/dist-packages (from pytest->spherecluster) (1.11.0)\n",
            "Requirement already satisfied: more-itertools>=4.0.0 in /usr/local/lib/python3.7/dist-packages (from pytest->spherecluster) (8.13.0)\n",
            "Requirement already satisfied: atomicwrites>=1.0 in /usr/local/lib/python3.7/dist-packages (from pytest->spherecluster) (1.4.1)\n",
            "Requirement already satisfied: pluggy<0.8,>=0.5 in /usr/local/lib/python3.7/dist-packages (from pytest->spherecluster) (0.7.1)\n",
            "Requirement already satisfied: six>=1.10.0 in /usr/local/lib/python3.7/dist-packages (from pytest->spherecluster) (1.15.0)\n",
            "Requirement already satisfied: attrs>=17.4.0 in /usr/local/lib/python3.7/dist-packages (from pytest->spherecluster) (21.4.0)\n",
            "Requirement already satisfied: setuptools in /usr/local/lib/python3.7/dist-packages (from pytest->spherecluster) (57.4.0)\n"
          ]
        }
      ]
    },
    {
      "cell_type": "code",
      "source": [
        "!pip install scikit-dimension\n",
        "# !pip install --upgrade scikit-learn"
      ],
      "metadata": {
        "colab": {
          "base_uri": "https://localhost:8080/"
        },
        "id": "wz5_zK6w6h83",
        "outputId": "de08676f-a50d-42a4-c5ac-ea7817a35d0d"
      },
      "execution_count": null,
      "outputs": [
        {
          "output_type": "stream",
          "name": "stdout",
          "text": [
            "Looking in indexes: https://pypi.org/simple, https://us-python.pkg.dev/colab-wheels/public/simple/\n",
            "Requirement already satisfied: scikit-dimension in /usr/local/lib/python3.7/dist-packages (0.3)\n",
            "Requirement already satisfied: scipy in /usr/local/lib/python3.7/dist-packages (from scikit-dimension) (1.7.3)\n",
            "Requirement already satisfied: scikit-learn in /usr/local/lib/python3.7/dist-packages (from scikit-dimension) (0.22)\n",
            "Requirement already satisfied: numpy in /usr/local/lib/python3.7/dist-packages (from scikit-dimension) (1.21.6)\n",
            "Requirement already satisfied: joblib>=0.11 in /usr/local/lib/python3.7/dist-packages (from scikit-learn->scikit-dimension) (1.1.0)\n"
          ]
        }
      ]
    },
    {
      "cell_type": "code",
      "execution_count": null,
      "metadata": {
        "id": "lCLEK86p0HBv"
      },
      "outputs": [],
      "source": [
        "from google.colab import drive"
      ]
    },
    {
      "cell_type": "code",
      "source": [
        "drive.mount('./drive')"
      ],
      "metadata": {
        "colab": {
          "base_uri": "https://localhost:8080/"
        },
        "id": "6qJATDsQ0K8w",
        "outputId": "65ae910e-492f-4f4e-fee7-4fdc09aacbde"
      },
      "execution_count": null,
      "outputs": [
        {
          "output_type": "stream",
          "name": "stdout",
          "text": [
            "Drive already mounted at ./drive; to attempt to forcibly remount, call drive.mount(\"./drive\", force_remount=True).\n"
          ]
        }
      ]
    },
    {
      "cell_type": "code",
      "source": [
        "import numpy as np\n",
        "import matplotlib.pyplot as plt\n",
        "import torch\n",
        "import torch.nn as nn\n",
        "from tqdm.notebook import tqdm"
      ],
      "metadata": {
        "id": "ILhW-lu20Nr_"
      },
      "execution_count": null,
      "outputs": []
    },
    {
      "cell_type": "code",
      "source": [
        "!cp 'drive/MyDrive/optimizer/data/R22.zip' R22.zip"
      ],
      "metadata": {
        "id": "BFT2rZW_0hK8"
      },
      "execution_count": null,
      "outputs": []
    },
    {
      "cell_type": "code",
      "source": [
        "!unzip R22.zip"
      ],
      "metadata": {
        "colab": {
          "base_uri": "https://localhost:8080/"
        },
        "id": "913Ttc7h1AHb",
        "outputId": "57162ea2-9f5e-4b9e-9b4e-9a327b7bbf72"
      },
      "execution_count": null,
      "outputs": [
        {
          "output_type": "stream",
          "name": "stdout",
          "text": [
            "Archive:  R22.zip\n",
            "replace R22.txt? [y]es, [n]o, [A]ll, [N]one, [r]ename: N\n"
          ]
        }
      ]
    },
    {
      "cell_type": "code",
      "source": [
        "!head R22.txt"
      ],
      "metadata": {
        "colab": {
          "base_uri": "https://localhost:8080/"
        },
        "id": "k1g1jnmx1CnE",
        "outputId": "c338445f-d943-4f89-c67d-c436e85b3c22"
      },
      "execution_count": null,
      "outputs": [
        {
          "output_type": "stream",
          "name": "stdout",
          "text": [
            "10 770 3 13 0\n",
            "5 5 3\n",
            "17.853953266103332 4.878442679441172 0.765417512608847 5.366602012813171 14.389115841783337 12.398200667087197 -3.809431996289585 4.796422781510271 8.330201740008047 1.348901425248499\n",
            "14.390687909432270 12.391814672777397 4.118221793743355 5.259551808438495 11.808573569819224 8.880229053167923 -2.728889146145640 3.774131975618386 12.658570049148661 -0.485166046455832\n",
            "18.455352684214994 6.650495022055278 -1.506966405942717 5.418618300665968 8.950828190724621 15.823562107828083 1.463791124657301 3.616298000512074 4.414894012524577 -1.100224329298179\n",
            "18.556968181693556 5.392582019276432 10.700456543681071 7.420157611624227 13.932120637075240 12.030954950518570 1.739842991680633 3.667505940242886 7.154482165040507 -1.790415666181383\n",
            "0.550857233429239 5.036454495748143 2.160215305542646 2.882952369740103 13.452165342909542 15.466542226624803 5.711586539231865 -3.568343666469939 5.031173043035117 1.051342292043646\n",
            "3.246543145804532 4.040300086998270 5.148325182167776 3.995617104611085 18.273786096514460 11.268103507319221 0.993670337146574 -4.265188904903431 6.788515346199056 4.814278261289021\n",
            "14.233978080931102 2.332353579141050 5.212609503196110 9.268692951781222 12.434269179244184 10.089249696911475 5.421049419173772 -3.445166673168894 -1.811092629600211 3.783752293079767\n",
            "3.004258867551375 7.352048603155469 -1.628063064765990 3.185299836094543 11.695797782898445 11.315563202885460 -0.906043197579255 2.304871886886358 -2.083248852795813 6.480838158774311\n"
          ]
        }
      ]
    },
    {
      "cell_type": "code",
      "source": [
        "with open('R22.txt') as fp:\n",
        "  line = fp.readline()\n",
        "  line = line.split(' ')\n",
        "  d, n, m, k, p = [int(item) for item in line]\n",
        "  line = fp.readline()\n",
        "  line = line.split(' ')\n",
        "  K = [int(item) for item in line]\n"
      ],
      "metadata": {
        "id": "uhObtNEL1Fda"
      },
      "execution_count": null,
      "outputs": []
    },
    {
      "cell_type": "code",
      "source": [
        "!tail -n +3 R22.txt > R22_clean.txt"
      ],
      "metadata": {
        "id": "j7DKEAVC2h9f"
      },
      "execution_count": null,
      "outputs": []
    },
    {
      "cell_type": "code",
      "source": [
        "vectors = np.fromfile('R22_clean.txt', sep=' ').reshape(n, -1)"
      ],
      "metadata": {
        "id": "sZXui17O18hQ"
      },
      "execution_count": null,
      "outputs": []
    },
    {
      "cell_type": "code",
      "source": [
        "vectors"
      ],
      "metadata": {
        "colab": {
          "base_uri": "https://localhost:8080/"
        },
        "id": "Oo3uTWYY2-UC",
        "outputId": "b81cd1a5-c0b2-4d8b-ce1c-af97921716c4"
      },
      "execution_count": null,
      "outputs": [
        {
          "output_type": "execute_result",
          "data": {
            "text/plain": [
              "array([[ 17.85395327,   4.87844268,   0.76541751, ...,   4.79642278,\n",
              "          8.33020174,   1.34890143],\n",
              "       [ 14.39068791,  12.39181467,   4.11822179, ...,   3.77413198,\n",
              "         12.65857005,  -0.48516605],\n",
              "       [ 18.45535268,   6.65049502,  -1.50696641, ...,   3.616298  ,\n",
              "          4.41489401,  -1.10022433],\n",
              "       ...,\n",
              "       [ 60.16369644,  23.16999148,  16.10293174, ...,  36.3665959 ,\n",
              "         37.1260535 , -23.35243457],\n",
              "       [ 63.17732844,  14.9427233 ,  16.16885015, ...,  36.98232214,\n",
              "         31.45907932, -20.81153828],\n",
              "       [114.53779026,  16.11820889,  19.20849108, ...,  -0.56258896,\n",
              "         57.56839856, -35.24485832]])"
            ]
          },
          "metadata": {},
          "execution_count": 12
        }
      ]
    },
    {
      "cell_type": "code",
      "source": [
        "fig = plt.figure(figsize=(12, 12))\n",
        "ax = fig.add_subplot(projection='3d')\n",
        "\n",
        "ax.scatter(vectors[:, 0], vectors[:, 1], vectors[:, 3])\n",
        "_ = plt.show()"
      ],
      "metadata": {
        "colab": {
          "base_uri": "https://localhost:8080/",
          "height": 683
        },
        "id": "BCO59JzL3sT0",
        "outputId": "6b2d78d3-ee70-4657-f4bd-ef487b7e95b2"
      },
      "execution_count": null,
      "outputs": [
        {
          "output_type": "display_data",
          "data": {
            "text/plain": [
              "<Figure size 864x864 with 1 Axes>"
            ],
            "image/png": "[encoded data removed]"
          },
          "metadata": {
            "needs_background": "light"
          }
        }
      ]
    },
    {
      "cell_type": "code",
      "source": [
        "m"
      ],
      "metadata": {
        "colab": {
          "base_uri": "https://localhost:8080/"
        },
        "id": "s4u-rU_bMjmN",
        "outputId": "e576f3aa-4889-4ec5-d55c-cc846844a2b3"
      },
      "execution_count": null,
      "outputs": [
        {
          "output_type": "execute_result",
          "data": {
            "text/plain": [
              "3"
            ]
          },
          "metadata": {},
          "execution_count": 14
        }
      ]
    },
    {
      "cell_type": "code",
      "source": [
        "from sklearn.mixture import GaussianMixture, BayesianGaussianMixture\n",
        "\n",
        "gmm = GaussianMixture(n_components=m, covariance_type='diag', \n",
        "                      random_state=0, n_init=32, max_iter=10000, tol=1e-6)\n",
        "gmm.fit(vectors)\n",
        "\n"
      ],
      "metadata": {
        "colab": {
          "base_uri": "https://localhost:8080/"
        },
        "id": "jOkBfRhX4JJj",
        "outputId": "4ea4b6eb-28b6-4897-d8f9-cbec6efd243b"
      },
      "execution_count": null,
      "outputs": [
        {
          "output_type": "execute_result",
          "data": {
            "text/plain": [
              "GaussianMixture(covariance_type='diag', init_params='kmeans', max_iter=10000,\n",
              "                means_init=None, n_components=3, n_init=32,\n",
              "                precisions_init=None, random_state=0, reg_covar=1e-06,\n",
              "                tol=1e-06, verbose=0, verbose_interval=10, warm_start=False,\n",
              "                weights_init=None)"
            ]
          },
          "metadata": {},
          "execution_count": 15
        }
      ]
    },
    {
      "cell_type": "code",
      "source": [
        "gmm.means_"
      ],
      "metadata": {
        "colab": {
          "base_uri": "https://localhost:8080/"
        },
        "id": "Jm2PfrGu6Zbt",
        "outputId": "e8c259ac-8f2e-4000-b1a3-a04ed2cbddc6"
      },
      "execution_count": null,
      "outputs": [
        {
          "output_type": "execute_result",
          "data": {
            "text/plain": [
              "array([[ 10.3856946 ,   5.39205652,   3.5244407 ,   3.64857213,\n",
              "         11.83391273,   9.91135712,   2.23110546,   3.23965366,\n",
              "          5.05491857,   0.78414582],\n",
              "       [ 58.14124945,  28.10910296,  16.15864536,   2.27512804,\n",
              "         27.40606688,  38.24318862,  -4.66755709,  36.88700193,\n",
              "         32.33638018, -17.55637196],\n",
              "       [109.35271744,   9.08923415,  20.60009273,  -4.33672537,\n",
              "         54.80579162,  39.7170116 ,   8.5418399 ,   5.0022898 ,\n",
              "         57.11447836, -32.7221164 ]])"
            ]
          },
          "metadata": {},
          "execution_count": 16
        }
      ]
    },
    {
      "cell_type": "code",
      "source": [
        "def top_k_outliers(vectors, k):\n",
        "  scores = gmm.score_samples(vectors)\n",
        "  top_k = np.argpartition(-scores, -k)[-k:]\n",
        "  return top_k, scores[top_k]"
      ],
      "metadata": {
        "id": "eer-wyoURGzQ"
      },
      "execution_count": null,
      "outputs": []
    },
    {
      "cell_type": "code",
      "source": [
        "outlier_ind, _ = top_k_outliers(vectors, p)"
      ],
      "metadata": {
        "id": "cE5ErN6rRqfJ"
      },
      "execution_count": null,
      "outputs": []
    },
    {
      "cell_type": "code",
      "source": [
        "labels = gmm.predict(vectors)\n",
        "if p > 0:\n",
        "  labels[outlier_ind] = -1"
      ],
      "metadata": {
        "id": "d7K5Ci0r7fEf"
      },
      "execution_count": null,
      "outputs": []
    },
    {
      "cell_type": "code",
      "source": [
        "labels"
      ],
      "metadata": {
        "colab": {
          "base_uri": "https://localhost:8080/"
        },
        "id": "YaJy2ST8uyvr",
        "outputId": "3ee649f5-9183-4b28-ad3d-8ace8caa700c"
      },
      "execution_count": null,
      "outputs": [
        {
          "output_type": "execute_result",
          "data": {
            "text/plain": [
              "array([0, 0, 0, 0, 0, 0, 0, 0, 0, 0, 0, 0, 0, 0, 0, 0, 0, 0, 0, 0, 0, 0,\n",
              "       0, 0, 0, 0, 0, 0, 0, 0, 0, 0, 0, 0, 0, 0, 0, 0, 0, 0, 0, 0, 0, 0,\n",
              "       0, 0, 0, 0, 0, 0, 0, 0, 0, 0, 0, 0, 0, 0, 0, 0, 0, 0, 0, 0, 0, 0,\n",
              "       0, 0, 0, 0, 0, 0, 0, 0, 0, 0, 0, 0, 0, 0, 0, 0, 0, 0, 0, 0, 0, 0,\n",
              "       0, 0, 0, 0, 0, 0, 0, 0, 0, 0, 0, 0, 0, 0, 0, 0, 0, 0, 0, 0, 0, 0,\n",
              "       0, 0, 0, 0, 0, 0, 0, 0, 0, 0, 0, 0, 0, 0, 0, 0, 0, 0, 1, 1, 2, 2,\n",
              "       2, 1, 1, 2, 2, 0, 0, 0, 2, 1, 2, 2, 0, 1, 2, 1, 0, 1, 1, 2, 2, 1,\n",
              "       2, 0, 1, 1, 1, 0, 1, 1, 0, 2, 0, 1, 1, 2, 2, 2, 2, 0, 1, 1, 2, 2,\n",
              "       1, 0, 2, 2, 1, 0, 0, 2, 2, 1, 1, 2, 0, 2, 2, 1, 1, 1, 1, 1, 1, 1,\n",
              "       1, 2, 1, 2, 2, 1, 1, 0, 0, 1, 1, 1, 2, 0, 2, 0, 2, 2, 2, 1, 1, 2,\n",
              "       2, 1, 0, 1, 2, 0, 1, 0, 0, 2, 1, 2, 0, 2, 1, 0, 2, 0, 0, 1, 2, 2,\n",
              "       2, 1, 1, 1, 2, 2, 2, 0, 2, 2, 1, 0, 2, 2, 0, 1, 1, 1, 1, 2, 0, 0,\n",
              "       1, 2, 0, 0, 2, 1, 0, 0, 2, 1, 2, 1, 1, 1, 1, 1, 2, 2, 2, 1, 2, 2,\n",
              "       1, 0, 0, 2, 0, 0, 2, 1, 1, 2, 2, 1, 2, 1, 1, 1, 2, 1, 1, 1, 0, 1,\n",
              "       0, 2, 0, 1, 2, 1, 0, 2, 1, 1, 0, 2, 0, 1, 1, 0, 1, 0, 1, 1, 0, 2,\n",
              "       0, 1, 0, 2, 1, 2, 1, 1, 2, 2, 1, 1, 2, 2, 1, 2, 0, 0, 1, 1, 1, 1,\n",
              "       2, 2, 2, 1, 2, 2, 2, 1, 2, 0, 2, 1, 2, 2, 2, 1, 1, 1, 2, 1, 0, 2,\n",
              "       1, 2, 1, 1, 1, 0, 2, 2, 0, 1, 1, 1, 2, 0, 2, 1, 0, 2, 1, 1, 2, 1,\n",
              "       0, 1, 1, 2, 1, 1, 1, 1, 2, 2, 1, 1, 1, 1, 1, 0, 2, 0, 1, 2, 1, 0,\n",
              "       1, 0, 2, 1, 2, 0, 2, 2, 1, 2, 1, 1, 0, 0, 0, 1, 0, 1, 0, 2, 1, 1,\n",
              "       0, 0, 2, 2, 1, 2, 2, 1, 1, 1, 1, 2, 2, 2, 1, 2, 1, 1, 2, 1, 2, 2,\n",
              "       1, 2, 0, 0, 2, 1, 1, 2, 1, 2, 0, 1, 2, 2, 2, 1, 2, 2, 2, 0, 1, 2,\n",
              "       2, 2, 1, 2, 2, 2, 2, 1, 2, 2, 2, 2, 2, 2, 2, 2, 1, 0, 0, 1, 0, 2,\n",
              "       2, 0, 1, 0, 2, 2, 1, 1, 1, 1, 2, 1, 2, 1, 2, 2, 1, 0, 1, 1, 0, 1,\n",
              "       1, 1, 1, 0, 1, 2, 0, 1, 2, 1, 2, 0, 0, 1, 2, 2, 0, 0, 2, 2, 1, 2,\n",
              "       1, 0, 0, 2, 2, 1, 2, 1, 1, 2, 2, 0, 1, 2, 1, 0, 0, 2, 2, 1, 2, 1,\n",
              "       1, 1, 1, 2, 1, 2, 1, 1, 2, 1, 1, 2, 2, 1, 2, 2, 2, 2, 0, 1, 2, 2,\n",
              "       2, 2, 2, 1, 2, 2, 2, 1, 2, 0, 2, 0, 1, 1, 2, 1, 0, 1, 0, 1, 1, 2,\n",
              "       1, 0, 1, 2, 1, 1, 2, 2, 2, 1, 0, 2, 0, 2, 0, 1, 0, 2, 1, 2, 1, 2,\n",
              "       1, 1, 1, 2, 0, 1, 2, 2, 2, 1, 1, 1, 2, 0, 2, 2, 2, 0, 1, 2, 2, 1,\n",
              "       1, 0, 1, 2, 2, 1, 0, 2, 2, 2, 2, 0, 1, 0, 2, 2, 2, 2, 2, 1, 1, 1,\n",
              "       1, 2, 1, 1, 0, 1, 1, 0, 0, 1, 1, 1, 2, 1, 1, 0, 1, 2, 1, 0, 1, 2,\n",
              "       0, 2, 2, 0, 0, 2, 1, 1, 2, 2, 2, 2, 2, 1, 2, 1, 0, 1, 2, 1, 2, 0,\n",
              "       2, 1, 2, 2, 2, 2, 0, 1, 2, 2, 2, 1, 1, 1, 2, 1, 2, 2, 2, 2, 2, 0,\n",
              "       2, 2, 2, 1, 0, 0, 2, 2, 0, 0, 2, 1, 2, 0, 0, 1, 1, 2, 1, 1, 1, 2])"
            ]
          },
          "metadata": {},
          "execution_count": 20
        }
      ]
    },
    {
      "cell_type": "code",
      "source": [
        "fig = plt.figure(figsize=(12, 12))\n",
        "ax = fig.add_subplot(projection='3d')\n",
        "\n",
        "ax.scatter(vectors[:, 1], vectors[:, 2], vectors[:, 3], c=labels)\n",
        "_ = plt.show()"
      ],
      "metadata": {
        "colab": {
          "base_uri": "https://localhost:8080/",
          "height": 683
        },
        "id": "ju8wk34oBAKf",
        "outputId": "76048e1e-3528-467d-ae3b-af87b06bab66"
      },
      "execution_count": null,
      "outputs": [
        {
          "output_type": "display_data",
          "data": {
            "text/plain": [
              "<Figure size 864x864 with 1 Axes>"
            ],
            "image/png": "[encoded data removed]"
          },
          "metadata": {
            "needs_background": "light"
          }
        }
      ]
    },
    {
      "cell_type": "code",
      "source": [
        "from numba import njit, jit\n",
        "\n",
        "@jit\n",
        "def noisy_center_radius(points, k):\n",
        "  dist_matrix = np.zeros((points.shape[0], points.shape[0]))\n",
        "  for i in range(points.shape[0]):\n",
        "    for j in range(i):\n",
        "      dist = np.linalg.norm(points[i] - points[j])\n",
        "      dist_matrix[i, j] = dist\n",
        "  dist_matrix = dist_matrix.reshape(-1)\n",
        "  top_k_dist = np.argsort(dist_matrix)[-k:]\n",
        "  rows = top_k_dist // points.shape[0]\n",
        "  cols = top_k_dist % points.shape[0]\n",
        "  center = 0.5*(points[cols] + points[rows]).mean(axis=0)\n",
        "  radius = dist_matrix[top_k_dist].mean()/2\n",
        "  return center, radius\n",
        "\n",
        "def center_radius(points):\n",
        "  dist = torch.cdist(points, points)\n",
        "  ind = dist.argmax()\n",
        "  row = (torch.div(ind, points.size(0), rounding_mode='floor')).item()\n",
        "  col = (ind % points.size(0)).item()\n",
        "  radius = (dist[row, col]/2).item()\n",
        "  center = 0.5 * (points[row] + points[col])\n",
        "  return center, radius\n",
        "\n",
        "\n",
        "manifold_center = []\n",
        "manifold_radius = []\n",
        "\n",
        "for sphere in tqdm(range(m)):\n",
        "  points = torch.from_numpy(vectors[labels==sphere])\n",
        "  # points = vectors[labels==sphere]\n",
        "  center, radius = center_radius(points)\n",
        "  manifold_center.append(center)\n",
        "  manifold_radius.append(radius)\n",
        "\n",
        "manifold_center = np.vstack(manifold_center)"
      ],
      "metadata": {
        "id": "j_Qx5KAlrevo",
        "colab": {
          "base_uri": "https://localhost:8080/",
          "height": 49,
          "referenced_widgets": [
            "c058dd86e180469fa48e613dd2401300",
            "edb85fcd72bd448caa1ddf1272d8e908",
            "1141053a509c48558b1e58b8c0020f36",
            "9518824b6a554b7697e4120eab927742",
            "0cecfdb6e4e349b6b49ba565c511c2b3",
            "6cfb76f6f42f4f4da60453ce3147eca3",
            "7d93eb96e1324e5e9e92d9510c893c4e",
            "e5060741736d432aa5701e78a0462ab8",
            "00c3bb2a279c421296cbc2c2575428e6",
            "38bfc9c0d7954b9089969d04c0b7a9af",
            "a231475abcfb45c49030f5beca839d18"
          ]
        },
        "outputId": "87bfe4ae-df15-4ce7-b73a-b23fcf8badf2"
      },
      "execution_count": null,
      "outputs": [
        {
          "output_type": "display_data",
          "data": {
            "text/plain": [
              "  0%|          | 0/3 [00:00<?, ?it/s]"
            ],
            "application/vnd.jupyter.widget-view+json": {
              "version_major": 2,
              "version_minor": 0,
              "model_id": "c058dd86e180469fa48e613dd2401300"
            }
          },
          "metadata": {}
        }
      ]
    },
    {
      "cell_type": "code",
      "source": [
        "gmm.means_"
      ],
      "metadata": {
        "colab": {
          "base_uri": "https://localhost:8080/"
        },
        "id": "j0a6CaMJQX1V",
        "outputId": "6aaabebe-cbbf-4915-d419-551cfc01848b"
      },
      "execution_count": null,
      "outputs": [
        {
          "output_type": "execute_result",
          "data": {
            "text/plain": [
              "array([[ 10.3856946 ,   5.39205652,   3.5244407 ,   3.64857213,\n",
              "         11.83391273,   9.91135712,   2.23110546,   3.23965366,\n",
              "          5.05491857,   0.78414582],\n",
              "       [ 58.14124945,  28.10910296,  16.15864536,   2.27512804,\n",
              "         27.40606688,  38.24318862,  -4.66755709,  36.88700193,\n",
              "         32.33638018, -17.55637196],\n",
              "       [109.35271744,   9.08923415,  20.60009273,  -4.33672537,\n",
              "         54.80579162,  39.7170116 ,   8.5418399 ,   5.0022898 ,\n",
              "         57.11447836, -32.7221164 ]])"
            ]
          },
          "metadata": {},
          "execution_count": 26
        }
      ]
    },
    {
      "cell_type": "code",
      "source": [
        "manifold_radius"
      ],
      "metadata": {
        "colab": {
          "base_uri": "https://localhost:8080/"
        },
        "id": "_rv50zJlOLdn",
        "outputId": "121893c0-0bf8-4502-fca7-ac49c826978e"
      },
      "execution_count": null,
      "outputs": [
        {
          "output_type": "execute_result",
          "data": {
            "text/plain": [
              "[12.918550621145004, 12.977899999631482, 12.970300411986582]"
            ]
          },
          "metadata": {},
          "execution_count": 27
        }
      ]
    },
    {
      "cell_type": "code",
      "source": [
        "manifold_center"
      ],
      "metadata": {
        "colab": {
          "base_uri": "https://localhost:8080/"
        },
        "id": "MLWmGmsKNevt",
        "outputId": "ba7e191a-0833-4fed-b6ea-6d211fa76cc5"
      },
      "execution_count": null,
      "outputs": [
        {
          "output_type": "execute_result",
          "data": {
            "text/plain": [
              "array([[  8.78209503,   6.40432141,   3.85121972,   4.90389142,\n",
              "         12.16550374,   9.44127231,   2.55640942,   2.21027591,\n",
              "          3.88169953,   0.35280621],\n",
              "       [ 59.16952845,  25.15486741,  16.20637667,   2.1446089 ,\n",
              "         27.76852469,  37.2240926 ,  -5.66394823,  37.33284726,\n",
              "         28.23294297, -14.79520756],\n",
              "       [109.10281872,   8.6036155 ,  21.01029047,  -4.03012278,\n",
              "         54.59593544,  39.20633993,   7.53490759,   4.13025428,\n",
              "         57.47415979, -34.27897792]])"
            ]
          },
          "metadata": {},
          "execution_count": 28
        }
      ]
    },
    {
      "cell_type": "code",
      "source": [
        "from scipy.optimize import minimize, differential_evolution, dual_annealing\n",
        "\n",
        "@njit\n",
        "def loss_center_given_radius(center, points, radius):\n",
        "  # return (((points - center)**2).sum(axis=1) > radius**2).sum()\n",
        "  return np.linalg.norm(((points - center)**2).sum(axis=1) - radius**2)\n",
        "\n",
        "@njit\n",
        "def loss_center_radius(x, points):\n",
        "  center = x[:-1]\n",
        "  radius = x[-1]\n",
        "  return np.linalg.norm(((points - center)**2).sum(axis=1) - radius**2)\n",
        "\n",
        "def print_steps(x, f, context):\n",
        "  print(f)\n",
        "\n",
        "@jit\n",
        "def estimate_corrected_radius(sphere):\n",
        "  center_b1 = manifold_center[sphere, :] - 2.0\n",
        "  center_b2 = manifold_center[sphere, :] + 2.0\n",
        "  # radius_b1 = manifold_radius[sphere] - 0.1\n",
        "  # radius_b2 = manifold_radius[sphere] + 0.1\n",
        "  \n",
        "  bounds = [(center_b1[i], center_b2[i]) for i in range(d)]\n",
        "  # bounds.append([radius_b1, radius_b2])\n",
        "  result = dual_annealing(func=loss_center_given_radius,\n",
        "                        bounds=bounds, maxiter=1000,\n",
        "                        args=(vectors[labels==sphere], manifold_radius[sphere]))\n",
        "  print(result)\n",
        "  center = result.x\n",
        "                        \n",
        "  return center"
      ],
      "metadata": {
        "id": "A4Ltqx5xO-8q"
      },
      "execution_count": null,
      "outputs": []
    },
    {
      "cell_type": "code",
      "source": [
        "manifold_corrected_desc = np.vstack([estimate_corrected_radius(sphere) for sphere in tqdm(range(m))])"
      ],
      "metadata": {
        "colab": {
          "base_uri": "https://localhost:8080/",
          "height": 1000,
          "referenced_widgets": [
            "c7c16698210f42b1a1973a2ee345ab13",
            "39920f7a89a147f796466e2231396a17",
            "05f330b4001d4e3f9e0643bdb111561a",
            "8e766e4cc90a4210b8598e9a568a1dc9",
            "827ac5bf42264f85a81de2044548cf71",
            "8aa256f1657c4016902ea746ed3c583c",
            "ae3485d00b1f46d8ae71fa045ca3db4c",
            "24802db3d4dc48638529ec3adece3afb",
            "c567de3967174d89885ea41480fa0ab4",
            "a3c600979b2b4e38b971c1e4d056287c",
            "c6fdb25673a94d648b6fda9114050086"
          ]
        },
        "id": "eZXkhoIoPsW4",
        "outputId": "350648c8-6a3f-43bc-d84c-7e1e70e7f055"
      },
      "execution_count": null,
      "outputs": [
        {
          "output_type": "display_data",
          "data": {
            "text/plain": [
              "  0%|          | 0/3 [00:00<?, ?it/s]"
            ],
            "application/vnd.jupyter.widget-view+json": {
              "version_major": 2,
              "version_minor": 0,
              "model_id": "c7c16698210f42b1a1973a2ee345ab13"
            }
          },
          "metadata": {}
        },
        {
          "output_type": "stream",
          "name": "stderr",
          "text": [
            "<ipython-input-29-495715e5b708>:17: NumbaWarning: \n",
            "Compilation is falling back to object mode WITH looplifting enabled because Function \"estimate_corrected_radius\" failed type inference due to: Untyped global name 'dual_annealing': cannot determine Numba type of <class 'function'>\n",
            "\n",
            "File \"<ipython-input-29-495715e5b708>\", line 26:\n",
            "def estimate_corrected_radius(sphere):\n",
            "    <source elided>\n",
            "  # bounds.append([radius_b1, radius_b2])\n",
            "  result = dual_annealing(func=loss_center_given_radius,\n",
            "  ^\n",
            "\n",
            "  @jit\n",
            "/usr/local/lib/python3.7/dist-packages/numba/core/object_mode_passes.py:178: NumbaWarning: Function \"estimate_corrected_radius\" was compiled in object mode without forceobj=True.\n",
            "\n",
            "File \"<ipython-input-29-495715e5b708>\", line 18:\n",
            "@jit\n",
            "def estimate_corrected_radius(sphere):\n",
            "^\n",
            "\n",
            "  state.func_ir.loc))\n",
            "/usr/local/lib/python3.7/dist-packages/numba/core/object_mode_passes.py:188: NumbaDeprecationWarning: \n",
            "Fall-back from the nopython compilation path to the object mode compilation path has been detected, this is deprecated behaviour.\n",
            "\n",
            "For more information visit https://numba.pydata.org/numba-doc/latest/reference/deprecation.html#deprecation-of-object-mode-fall-back-behaviour-when-using-jit\n",
            "\n",
            "File \"<ipython-input-29-495715e5b708>\", line 18:\n",
            "@jit\n",
            "def estimate_corrected_radius(sphere):\n",
            "^\n",
            "\n",
            "  state.func_ir.loc))\n"
          ]
        },
        {
          "output_type": "stream",
          "name": "stdout",
          "text": [
            "     fun: 20.223408249821272\n",
            " message: ['Maximum number of iteration reached']\n",
            "    nfev: 20254\n",
            "    nhev: 0\n",
            "     nit: 1000\n",
            "    njev: 23\n",
            "  status: 0\n",
            " success: True\n",
            "       x: array([ 9.17748392,  6.36948975,  3.92132181,  4.24238431, 12.03513903,\n",
            "        9.72695699,  2.77534288,  3.01090066,  4.24017677,  0.14571235])\n",
            "     fun: 0.0006506426658419456\n",
            " message: ['Maximum number of iteration reached']\n",
            "    nfev: 20892\n",
            "    nhev: 0\n",
            "     nit: 1000\n",
            "    njev: 81\n",
            "  status: 0\n",
            " success: True\n",
            "       x: array([ 59.16504756,  25.153073  ,  16.20836696,   2.14120494,\n",
            "        27.7701957 ,  37.22827738,  -5.66359882,  37.33256148,\n",
            "        28.23215267, -14.79512319])\n",
            "     fun: 2.951611341541729\n",
            " message: ['Maximum number of iteration reached']\n",
            "    nfev: 20353\n",
            "    nhev: 0\n",
            "     nit: 1000\n",
            "    njev: 32\n",
            "  status: 0\n",
            " success: True\n",
            "       x: array([109.22234994,   8.8158836 ,  20.8608405 ,  -4.14183027,\n",
            "        54.67239384,  39.39239517,   7.71953252,   4.17467013,\n",
            "        57.32666698, -34.18559881])\n"
          ]
        }
      ]
    },
    {
      "cell_type": "code",
      "source": [
        "manifold_corrected_center = manifold_corrected_desc[:, :]"
      ],
      "metadata": {
        "id": "4uAAI0sW6huv"
      },
      "execution_count": null,
      "outputs": []
    },
    {
      "cell_type": "code",
      "source": [
        "fig = plt.figure(figsize=(12, 12))\n",
        "ax = fig.add_subplot(projection='3d')\n",
        "\n",
        "ax.scatter(vectors[:, 1], vectors[:, 2], vectors[:, 3], c=labels, alpha=0.5)\n",
        "for sphere in range(m):\n",
        "  ax.scatter(manifold_corrected_center[sphere, 1], manifold_corrected_center[sphere, 2], manifold_corrected_center[sphere, 3], c='red')\n",
        "\n",
        "_ = plt.show()"
      ],
      "metadata": {
        "colab": {
          "base_uri": "https://localhost:8080/",
          "height": 683
        },
        "id": "MYyx91Ia7i27",
        "outputId": "3a742a07-2ffd-45c8-e428-37c24902be89"
      },
      "execution_count": null,
      "outputs": [
        {
          "output_type": "display_data",
          "data": {
            "text/plain": [
              "<Figure size 864x864 with 1 Axes>"
            ],
            "image/png": "[encoded data removed]"
          },
          "metadata": {
            "needs_background": "light"
          }
        }
      ]
    },
    {
      "cell_type": "code",
      "source": [
        "import skdim.id as intd\n",
        "\n",
        "manifold_dims = []\n",
        "\n",
        "for sphere in tqdm(range(m)):\n",
        "  lpca = intd.lPCA().fit_pw(vectors[labels==sphere], n_neighbors = 64, n_jobs = 1)\n",
        "  # pca = intd.DANCo().fit(vectors[labels==sphere])\n",
        "  # manifold_dims.append(pca.dimension_)\n",
        "  manifold_dims.append(int(np.round(lpca.dimension_pw_.mean())))\n",
        "  "
      ],
      "metadata": {
        "colab": {
          "base_uri": "https://localhost:8080/",
          "height": 49,
          "referenced_widgets": [
            "25d9295fa5404a329d8907787bdec942",
            "6a06f53a5b3d41f693c0828042393d5a",
            "74893727b6aa4e689bb658d80622a03e",
            "88af59ebdee144be94b41aa7de5d17d1",
            "72ed599e3aa342bcbf09a8f84c287de1",
            "55ff5d93646c41e6b671d26ff0e5d0b2",
            "9956235aba3644638037e8663222bc8b",
            "14f460c9131e401cbbf307772390d619",
            "2cee32985cc94057aa080762973111dc",
            "242f6fe5e64d47da8a793c1c0ba112dd",
            "b90f6337abfe42fcb3b89e0ffdde0f1a"
          ]
        },
        "id": "4VYKfEjVOhi2",
        "outputId": "238b6524-22d3-4395-93bc-3aaa61bc80b1"
      },
      "execution_count": null,
      "outputs": [
        {
          "output_type": "display_data",
          "data": {
            "text/plain": [
              "  0%|          | 0/3 [00:00<?, ?it/s]"
            ],
            "application/vnd.jupyter.widget-view+json": {
              "version_major": 2,
              "version_minor": 0,
              "model_id": "25d9295fa5404a329d8907787bdec942"
            }
          },
          "metadata": {}
        }
      ]
    },
    {
      "cell_type": "code",
      "source": [
        "for sphere in range(m):\n",
        "  if manifold_dims[sphere] == 1:\n",
        "    manifold_dims[sphere] = 2"
      ],
      "metadata": {
        "id": "BrHVGE-3BjUA"
      },
      "execution_count": null,
      "outputs": []
    },
    {
      "cell_type": "code",
      "source": [
        "manifold_dims"
      ],
      "metadata": {
        "colab": {
          "base_uri": "https://localhost:8080/"
        },
        "id": "9JQ9R1LbPB_0",
        "outputId": "cfa26aab-e33a-42c0-c275-e73a54fcb6c0"
      },
      "execution_count": null,
      "outputs": [
        {
          "output_type": "execute_result",
          "data": {
            "text/plain": [
              "[10, 2, 5]"
            ]
          },
          "metadata": {},
          "execution_count": 35
        }
      ]
    },
    {
      "cell_type": "code",
      "source": [
        "from sklearn.cluster import SpectralClustering\n",
        "from sklearn.metrics import pairwise_distances\n",
        "from scipy.spatial.distance import cosine\n",
        "\n",
        "\n",
        "sub_clusters = []\n",
        "for sphere in tqdm(range(m)):\n",
        "  points = vectors[labels==sphere]\n",
        "  original_index = np.where(labels==sphere)[0]\n",
        "  cluster = BayesianGaussianMixture(n_components=K[sphere], covariance_type='full', n_init=32)\n",
        "  if sphere == 1:\n",
        "    cluster = SpectralClustering(n_clusters=K[sphere], random_state=0, affinity='nearest_neighbors')\n",
        "  cluster.fit(points)\n",
        "  submanifold_clusters = []\n",
        "  if sphere != 1:\n",
        "    sub_labels = cluster.predict(points)\n",
        "  else:\n",
        "    sub_labels = cluster.labels_\n",
        "\n",
        "  for subc in range(K[sphere]):\n",
        "    submanifold_clusters.append(original_index[np.where(sub_labels == subc)])\n",
        "  sub_clusters.append(submanifold_clusters)"
      ],
      "metadata": {
        "colab": {
          "base_uri": "https://localhost:8080/",
          "height": 49,
          "referenced_widgets": [
            "0d840d06e30c42e8bff6f2aae57a311e",
            "2da8363c0a244dbdaf30931ed02e3d61",
            "ab12242643dc42ae922475ccf72b99c8",
            "c724ca3be7114bc3bd702fc93a387d51",
            "e7cf1f5ebe974ec0a5756541c975464e",
            "ef469a71a9bd4b14ab37919cf94ee1c8",
            "44266e868d9d40e18f28ef7964c1baa7",
            "70b1780495544b2fb0139c7c3c2b62b3",
            "0debbdbad365453b86700fbd5fff0b51",
            "6adae9836abf49318fd63093799f98b1",
            "d6089ad0f3584e2da0fd4d7a9e1a86ed"
          ]
        },
        "id": "PjKQDHcRO1s6",
        "outputId": "4e3aad53-8bbc-4afe-c17d-b5efb17a6ebe"
      },
      "execution_count": null,
      "outputs": [
        {
          "output_type": "display_data",
          "data": {
            "text/plain": [
              "  0%|          | 0/3 [00:00<?, ?it/s]"
            ],
            "application/vnd.jupyter.widget-view+json": {
              "version_major": 2,
              "version_minor": 0,
              "model_id": "0d840d06e30c42e8bff6f2aae57a311e"
            }
          },
          "metadata": {}
        }
      ]
    },
    {
      "cell_type": "code",
      "source": [
        "sub_clusters"
      ],
      "metadata": {
        "colab": {
          "base_uri": "https://localhost:8080/"
        },
        "id": "yHNHUn9VS5Ig",
        "outputId": "89545b88-b4ad-4414-c601-465827a194e4"
      },
      "execution_count": null,
      "outputs": [
        {
          "output_type": "execute_result",
          "data": {
            "text/plain": [
              "[[array([147, 150, 203, 204, 208, 226, 239, 245, 286, 293, 301, 303, 305,\n",
              "         311, 327, 336, 340, 359, 367, 369, 371, 374, 389, 393, 403, 406,\n",
              "         408, 410, 421, 429, 448, 449, 454, 459, 517, 525, 527, 530, 535,\n",
              "         557, 564, 569, 572, 576, 579, 609, 649, 680, 681, 702, 710, 717]),\n",
              "  array([141, 145, 149, 153, 156, 157, 180, 186, 193, 195, 207, 218, 244,\n",
              "         276, 297, 300, 304, 317, 321, 331, 334, 349, 385, 398, 400, 407,\n",
              "         418, 438, 468, 473, 477, 503, 508, 532, 541, 548, 574, 606, 614,\n",
              "         618, 620, 621, 625, 631, 647, 665, 679, 685, 688, 698, 711, 741]),\n",
              "  array([160, 161, 172, 173, 185, 192, 194, 197, 221, 230, 258, 260, 275,\n",
              "         279, 313, 326, 351, 355, 368, 377, 378, 401, 409, 450, 467, 482,\n",
              "         486, 537, 550, 591, 601, 607, 613, 636, 639, 640, 643, 656, 659,\n",
              "         662, 682, 684, 687, 693, 700, 719, 727, 739, 763, 768]),\n",
              "  array([129, 134, 166, 176, 191, 196, 223, 252, 257, 259, 273, 278, 283,\n",
              "         307, 316, 348, 383, 384, 397, 416, 426, 433, 447, 456, 462, 500,\n",
              "         512, 513, 514, 515, 522, 529, 558, 571, 573, 578, 581, 597, 611,\n",
              "         634, 638, 648, 660, 691, 723, 733, 738, 759, 764, 766]),\n",
              "  array([128, 133, 158, 165, 198, 200, 209, 217, 234, 243, 264, 269, 277,\n",
              "         294, 299, 322, 324, 337, 341, 344, 350, 363, 376, 392, 395, 402,\n",
              "         414, 428, 435, 439, 444, 457, 470, 491, 519, 524, 528, 555, 562,\n",
              "         582, 585, 616, 672, 692, 695, 696, 721, 737, 751, 767])],\n",
              " [array([  0,   1,   2,   3,   8,  11,  15,  16,  20,  29,  32,  33,  38,\n",
              "          46,  47,  49,  52,  53,  61,  63,  71,  77,  81,  82,  89,  94,\n",
              "         100, 101, 102, 110, 114, 116, 124, 137, 164, 182, 188, 227, 228,\n",
              "         232, 249, 270, 372, 379, 387, 390, 396, 411, 419, 431, 432, 481,\n",
              "         502, 526, 531, 539, 551, 565, 617, 661, 666, 671, 673, 686, 689,\n",
              "         697, 704, 732, 752]),\n",
              "  array([ 10,  12,  25,  30,  36,  39,  44,  50,  54,  56,  57,  58,  62,\n",
              "          65,  68,  72,  86,  91,  93, 105, 106, 112, 113, 115, 119, 121,\n",
              "         155, 159, 171, 177, 237, 253, 256, 263, 287, 290, 318, 325, 361,\n",
              "         382, 413, 464, 465, 504, 509, 534, 544, 545, 605, 690, 753]),\n",
              "  array([  4,   7,   9,  21,  22,  26,  31,  41,  43,  55,  59,  60,  69,\n",
              "          70,  74,  78,  79,  80,  87,  88,  92,  95,  96,  98,  99, 108,\n",
              "         127, 144, 148, 162, 206, 225, 308, 314, 323, 328, 330, 332, 346,\n",
              "         347, 417, 430, 472, 501, 507, 523, 603, 612, 626, 630, 642, 708,\n",
              "         720, 725, 756, 757, 762]),\n",
              "  array([  5,  17,  19,  27,  34,  35,  45,  48,  51,  64,  73,  76,  84,\n",
              "          90,  97, 109, 111, 117, 122, 123, 125, 139, 213, 235, 266, 267,\n",
              "         271, 288, 310, 423, 440, 441, 590, 610, 628, 655, 701, 707, 747,\n",
              "         761]),\n",
              "  array([  6,  13,  14,  18,  23,  24,  28,  37,  40,  42,  66,  67,  75,\n",
              "          83,  85, 103, 104, 107, 118, 120, 126, 138, 181, 205, 211, 222,\n",
              "         238, 262, 291, 306, 320, 434, 436, 540, 552, 561, 566, 632, 651])],\n",
              " [array([130, 132, 135, 140, 142, 146, 152, 154, 167, 168, 170, 174, 178,\n",
              "         183, 184, 189, 215, 219, 229, 241, 246, 250, 254, 261, 265, 272,\n",
              "         274, 280, 284, 292, 296, 298, 309, 319, 353, 358, 375, 388, 391,\n",
              "         394, 399, 415, 425, 427, 452, 471, 485, 487, 488, 490, 494, 498,\n",
              "         499, 506, 518, 536, 546, 549, 553, 554, 560, 563, 570, 580, 584,\n",
              "         593, 594, 595, 596, 598, 627, 635, 644, 652, 658, 663, 664, 668,\n",
              "         669, 699, 709, 715, 718, 724, 731, 734, 749, 754]),\n",
              "  array([131, 136, 169, 175, 179, 187, 202, 214, 220, 233, 247, 248, 268,\n",
              "         281, 282, 289, 295, 312, 315, 333, 338, 342, 345, 352, 354, 356,\n",
              "         357, 365, 386, 404, 405, 420, 437, 442, 446, 451, 453, 460, 461,\n",
              "         475, 476, 478, 483, 492, 496, 511, 516, 521, 542, 543, 567, 575,\n",
              "         577, 588, 589, 600, 602, 604, 615, 619, 623, 624, 629, 637, 641,\n",
              "         645, 646, 657, 667, 675, 676, 677, 694, 705, 706, 713, 722, 729,\n",
              "         735, 736, 742, 743, 746, 755, 760, 765, 769]),\n",
              "  array([143, 151, 163, 190, 199, 201, 210, 212, 216, 224, 231, 236, 240,\n",
              "         242, 251, 255, 285, 302, 329, 335, 339, 343, 360, 362, 364, 366,\n",
              "         370, 373, 380, 381, 412, 422, 424, 443, 445, 455, 458, 463, 466,\n",
              "         469, 474, 479, 480, 484, 489, 493, 495, 497, 505, 510, 520, 533,\n",
              "         538, 547, 556, 559, 568, 583, 586, 587, 592, 599, 608, 622, 633,\n",
              "         650, 653, 654, 670, 674, 678, 683, 703, 712, 714, 716, 726, 728,\n",
              "         730, 740, 744, 745, 748, 750, 758])]]"
            ]
          },
          "metadata": {},
          "execution_count": 138
        }
      ]
    },
    {
      "cell_type": "code",
      "source": [
        "from numba import njit\n",
        "from sklearn.decomposition import PCA\n",
        "\n",
        "@njit\n",
        "def get_best_fitting_plane_vector(centered, dim):\n",
        "\n",
        "    # Calculate the covariance matrix of the coordinates\n",
        "    covariance_matrix = np.cov(centered, rowvar=False) # Variables = columns\n",
        "\n",
        "    # Calculate the eigenvalues & eigenvectors of the covariance matrix\n",
        "    e_val, e_vect = np.linalg.eig(covariance_matrix)\n",
        "\n",
        "    # The normal vector to the plane is the eigenvector associated to the minimum eigenvalue\n",
        "    min_eval = np.argsort(e_val)[:dim]\n",
        "    normal_vector = e_vect[:, min_eval]\n",
        "\n",
        "    return normal_vector\n",
        "\n",
        "def get_best_fitting_plane_vector_pca(centered, dim):\n",
        "\n",
        "    pca = PCA(n_components=d)\n",
        "\n",
        "    pca.fit(centered)\n",
        "\n",
        "    normal_vector = pca.components_[-dim:]\n",
        "\n",
        "    return normal_vector.T"
      ],
      "metadata": {
        "id": "E4IYm6dNqhm-"
      },
      "execution_count": null,
      "outputs": []
    },
    {
      "cell_type": "code",
      "source": [
        "affine_a = []\n",
        "affine_b = []\n",
        "\n",
        "for sphere in tqdm(range(m)):\n",
        "  points = vectors[labels==sphere]\n",
        "  shift = points.mean(axis=0)\n",
        "  centered = points - shift\n",
        "  a = get_best_fitting_plane_vector_pca(centered, d-manifold_dims[sphere])\n",
        "  b = a.T @ shift\n",
        "  affine_a.append(a)\n",
        "  affine_b.append(b)\n"
      ],
      "metadata": {
        "colab": {
          "base_uri": "https://localhost:8080/",
          "height": 49,
          "referenced_widgets": [
            "d004835e90364dc194531377622c1c9b",
            "7d560dff59204d9da7d75c59900cb81b",
            "9071684030ab49b28a1dd510c8a87d51",
            "e9be3c6c7c0c4fd6bf4287e6a356f57b",
            "13b280fd1c7147f598eaa79c286ee622",
            "4c98743f34544d4b893150e247679a9a",
            "e978d65548dc49928c0091bc6bef90d6",
            "bfdc8b742b5e45c3a6e4448add352f78",
            "02501906d5194b808794e08468245c1a",
            "f2b1c9f1e9304332aac92062fe6459ad",
            "a42584209d7a42deb1a359d1222b10f6"
          ]
        },
        "id": "9G9ykUi9DcsW",
        "outputId": "4334a13c-4559-4081-f3d0-7f861f9b471e"
      },
      "execution_count": null,
      "outputs": [
        {
          "output_type": "display_data",
          "data": {
            "text/plain": [
              "  0%|          | 0/3 [00:00<?, ?it/s]"
            ],
            "application/vnd.jupyter.widget-view+json": {
              "version_major": 2,
              "version_minor": 0,
              "model_id": "d004835e90364dc194531377622c1c9b"
            }
          },
          "metadata": {}
        }
      ]
    },
    {
      "cell_type": "code",
      "source": [
        "affine_a"
      ],
      "metadata": {
        "colab": {
          "base_uri": "https://localhost:8080/"
        },
        "id": "X2j5-U-AHp7n",
        "outputId": "c52e147f-ee9f-4f20-e39b-9de1f0637992"
      },
      "execution_count": null,
      "outputs": [
        {
          "output_type": "execute_result",
          "data": {
            "text/plain": [
              "[array([[ 0.89040776,  0.25921081, -0.12906297, -0.03799671, -0.01937398,\n",
              "          0.02270088, -0.00100511, -0.00757608],\n",
              "        [ 0.31487767,  0.09777136, -0.00924399, -0.23074307, -0.02681946,\n",
              "          0.02955399, -0.05543148, -0.00782165],\n",
              "        [-0.02313056, -0.00481629, -0.01937204,  0.11233613, -0.97465764,\n",
              "          0.17936173, -0.05868061, -0.02834448],\n",
              "        [-0.00619226, -0.00356726, -0.00302582,  0.00719825,  0.02540078,\n",
              "          0.02227436,  0.13829085, -0.98948619],\n",
              "        [-0.0371864 ,  0.03844851, -0.01896126,  0.01789572,  0.1817425 ,\n",
              "          0.97879225,  0.02074712,  0.0283673 ],\n",
              "        [ 0.09110668, -0.64468239, -0.73519047,  0.02050254,  0.02255486,\n",
              "          0.0225424 , -0.0352192 ,  0.00457147],\n",
              "        [ 0.01377738, -0.02094908,  0.01367295, -0.09009315, -0.07386275,\n",
              "          0.00418854,  0.96718221,  0.13682498],\n",
              "        [ 0.29366641, -0.70529484,  0.63792243,  0.02798986, -0.00293357,\n",
              "          0.04636618, -0.01125753, -0.00350903],\n",
              "        [ 0.05876723,  0.0905862 ,  0.1325937 ,  0.65316361,  0.07287382,\n",
              "          0.02497744, -0.0701855 ,  0.01341214],\n",
              "        [ 0.08880365,  0.00594944, -0.13151143,  0.7045418 ,  0.06315606,\n",
              "         -0.06790278,  0.17942567,  0.01600691]]),\n",
              " array([[-0.72010634,  0.19270403, -0.0017488 ,  0.04477984,  0.15427945,\n",
              "          0.34611005, -0.41964693, -0.14705156,  0.28291828,  0.14470298],\n",
              "        [-0.00522733,  0.90974643, -0.22819127, -0.07686925, -0.06148838,\n",
              "         -0.27972547,  0.0254783 ,  0.09599277, -0.10318953, -0.10869669],\n",
              "        [-0.0177808 , -0.0616735 ,  0.27284642,  0.6038762 , -0.03488077,\n",
              "         -0.51306571, -0.43032269,  0.1234026 ,  0.11818352, -0.27918155],\n",
              "        [ 0.04437196,  0.2575018 ,  0.92997953, -0.1725851 ,  0.02859935,\n",
              "          0.12771662,  0.13541737,  0.01949553, -0.007722  ,  0.03419631],\n",
              "        [ 0.06765494,  0.12454517, -0.03057695,  0.53019605,  0.68256057,\n",
              "          0.04440041,  0.38836866, -0.10448622, -0.0340075 ,  0.25904455],\n",
              "        [ 0.0897961 , -0.10349219,  0.0030674 , -0.52420716,  0.68450613,\n",
              "         -0.30098274, -0.34647391, -0.01657401, -0.06944941, -0.14880231],\n",
              "        [ 0.08093268,  0.0130741 ,  0.04843198,  0.06255256, -0.11676933,\n",
              "         -0.07967929, -0.39602796, -0.06613577, -0.60999536,  0.65858196],\n",
              "        [-0.02538719,  0.01606968,  0.04052086,  0.01309388, -0.10228143,\n",
              "         -0.14723743,  0.06055058, -0.94675665, -0.1320771 , -0.2183681 ],\n",
              "        [-0.50741469, -0.16568287,  0.05374317, -0.17869881, -0.08066448,\n",
              "         -0.62164625,  0.40227532,  0.04984355,  0.10605394,  0.33429008],\n",
              "        [ 0.44925461,  0.10494605, -0.02825447, -0.07559941, -0.07308578,\n",
              "         -0.12401539, -0.16287262, -0.19787473,  0.69893943,  0.45356749]]),\n",
              " array([[ 8.12472231e-01, -5.12896252e-02, -7.38586329e-02,\n",
              "          3.33308919e-02, -3.35813151e-02],\n",
              "        [-4.42907403e-01, -1.25448909e-01,  3.04121342e-01,\n",
              "         -4.27162133e-01, -1.52400776e-03],\n",
              "        [-5.09525535e-02,  1.01365957e-02, -4.29443738e-01,\n",
              "         -4.17524764e-01,  5.93034668e-01],\n",
              "        [-8.71055468e-02,  7.35913674e-02, -3.24951791e-01,\n",
              "         -2.79017491e-01, -8.02052149e-01],\n",
              "        [ 9.85757120e-02,  9.11318971e-01, -4.66197955e-04,\n",
              "         -2.88699826e-01,  3.67658934e-02],\n",
              "        [-2.47696694e-03, -2.62516295e-01, -6.68649155e-01,\n",
              "         -1.97736321e-01, -1.69399954e-02],\n",
              "        [-2.66658068e-02,  2.09872519e-02, -3.07780432e-02,\n",
              "          5.03708396e-02,  3.59747595e-03],\n",
              "        [ 2.84064320e-01, -2.23572063e-01,  3.27870968e-01,\n",
              "         -5.36588238e-01, -3.83230317e-02],\n",
              "        [ 1.48269596e-01, -1.16695189e-01,  1.71134819e-01,\n",
              "         -2.80076432e-01, -2.00030064e-02],\n",
              "        [-1.42925104e-01,  1.12488821e-01, -1.64966133e-01,\n",
              "          2.69980862e-01,  1.92819827e-02]])]"
            ]
          },
          "metadata": {},
          "execution_count": 142
        }
      ]
    },
    {
      "cell_type": "code",
      "source": [
        "with open('output.txt', 'w+') as fp:\n",
        "  fp.write(f'{n} {m}\\n')\n",
        "  for sphere in range(m):\n",
        "    fp.write(f'{manifold_dims[sphere]} {K[sphere]} Sphere\\n')\n",
        "    if manifold_dims[sphere] == d:\n",
        "      fp.write('\\n')\n",
        "    else:\n",
        "      for i in range(affine_a[sphere].shape[1]):\n",
        "        fp.write(' '.join(affine_a[sphere][:, i].astype(str).tolist()) + '\\n')\n",
        "      fp.write(' '.join(affine_b[sphere].astype(str).tolist()) + '\\n')\n",
        "    fp.write(' '.join(manifold_corrected_center[sphere, :].astype(str).tolist()) + f' {manifold_corrected_radius[sphere]} \\n')\n",
        "    for subc in range(K[sphere]):\n",
        "      subc_points = sub_clusters[sphere][subc]\n",
        "      fp.write(f'{len(subc_points)} ')\n",
        "      fp.write(' '.join((subc_points+1).astype(str).tolist()))\n",
        "      fp.write('\\n')\n",
        "  fp.write(f'{p}')\n",
        "  if p > 0:\n",
        "    fp.write(' ' + ' '.join((outlier_ind+1).astype(str).tolist()))"
      ],
      "metadata": {
        "id": "ehRtrBzz8s3r"
      },
      "execution_count": null,
      "outputs": []
    }
  ]
}