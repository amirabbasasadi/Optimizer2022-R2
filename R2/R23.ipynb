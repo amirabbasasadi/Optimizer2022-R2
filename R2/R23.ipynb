{
  "cells": [
    {
      "cell_type": "code",
      "execution_count": null,
      "metadata": {
        "colab": {
          "base_uri": "https://localhost:8080/"
        },
        "id": "wz5_zK6w6h83",
        "outputId": "ecc68a0a-da66-4f24-f8de-0997f508e537"
      },
      "outputs": [
        {
          "output_type": "stream",
          "name": "stdout",
          "text": [
            "Looking in indexes: https://pypi.org/simple, https://us-python.pkg.dev/colab-wheels/public/simple/\n",
            "Collecting scikit-dimension\n",
            "  Downloading scikit_dimension-0.3-py3-none-any.whl (63 kB)\n",
            "\u001b[K     |████████████████████████████████| 63 kB 410 kB/s \n",
            "\u001b[?25hRequirement already satisfied: scikit-learn in /usr/local/lib/python3.7/dist-packages (from scikit-dimension) (1.0.2)\n",
            "Requirement already satisfied: scipy in /usr/local/lib/python3.7/dist-packages (from scikit-dimension) (1.7.3)\n",
            "Requirement already satisfied: numpy in /usr/local/lib/python3.7/dist-packages (from scikit-dimension) (1.21.6)\n",
            "Requirement already satisfied: threadpoolctl>=2.0.0 in /usr/local/lib/python3.7/dist-packages (from scikit-learn->scikit-dimension) (3.1.0)\n",
            "Requirement already satisfied: joblib>=0.11 in /usr/local/lib/python3.7/dist-packages (from scikit-learn->scikit-dimension) (1.1.0)\n",
            "Installing collected packages: scikit-dimension\n",
            "Successfully installed scikit-dimension-0.3\n",
            "Looking in indexes: https://pypi.org/simple, https://us-python.pkg.dev/colab-wheels/public/simple/\n",
            "Collecting gap-stat\n",
            "  Downloading gap_stat-2.0.1-py3-none-any.whl (6.9 kB)\n",
            "Requirement already satisfied: pandas in /usr/local/lib/python3.7/dist-packages (from gap-stat) (1.3.5)\n",
            "Requirement already satisfied: numpy in /usr/local/lib/python3.7/dist-packages (from gap-stat) (1.21.6)\n",
            "Requirement already satisfied: scipy in /usr/local/lib/python3.7/dist-packages (from gap-stat) (1.7.3)\n",
            "Requirement already satisfied: python-dateutil>=2.7.3 in /usr/local/lib/python3.7/dist-packages (from pandas->gap-stat) (2.8.2)\n",
            "Requirement already satisfied: pytz>=2017.3 in /usr/local/lib/python3.7/dist-packages (from pandas->gap-stat) (2022.1)\n",
            "Requirement already satisfied: six>=1.5 in /usr/local/lib/python3.7/dist-packages (from python-dateutil>=2.7.3->pandas->gap-stat) (1.15.0)\n",
            "Installing collected packages: gap-stat\n",
            "Successfully installed gap-stat-2.0.1\n",
            "Looking in indexes: https://pypi.org/simple, https://us-python.pkg.dev/colab-wheels/public/simple/\n",
            "Requirement already satisfied: scikit-learn in /usr/local/lib/python3.7/dist-packages (1.0.2)\n",
            "Requirement already satisfied: numpy>=1.14.6 in /usr/local/lib/python3.7/dist-packages (from scikit-learn) (1.21.6)\n",
            "Requirement already satisfied: scipy>=1.1.0 in /usr/local/lib/python3.7/dist-packages (from scikit-learn) (1.7.3)\n",
            "Requirement already satisfied: threadpoolctl>=2.0.0 in /usr/local/lib/python3.7/dist-packages (from scikit-learn) (3.1.0)\n",
            "Requirement already satisfied: joblib>=0.11 in /usr/local/lib/python3.7/dist-packages (from scikit-learn) (1.1.0)\n",
            "Looking in indexes: https://pypi.org/simple, https://us-python.pkg.dev/colab-wheels/public/simple/\n",
            "Collecting umap-learn\n",
            "  Downloading umap-learn-0.5.3.tar.gz (88 kB)\n",
            "\u001b[K     |████████████████████████████████| 88 kB 4.8 MB/s \n",
            "\u001b[?25hRequirement already satisfied: numpy>=1.17 in /usr/local/lib/python3.7/dist-packages (from umap-learn) (1.21.6)\n",
            "Requirement already satisfied: scikit-learn>=0.22 in /usr/local/lib/python3.7/dist-packages (from umap-learn) (1.0.2)\n",
            "Requirement already satisfied: scipy>=1.0 in /usr/local/lib/python3.7/dist-packages (from umap-learn) (1.7.3)\n",
            "Requirement already satisfied: numba>=0.49 in /usr/local/lib/python3.7/dist-packages (from umap-learn) (0.51.2)\n",
            "Collecting pynndescent>=0.5\n",
            "  Downloading pynndescent-0.5.7.tar.gz (1.1 MB)\n",
            "\u001b[K     |████████████████████████████████| 1.1 MB 7.1 MB/s \n",
            "\u001b[?25hRequirement already satisfied: tqdm in /usr/local/lib/python3.7/dist-packages (from umap-learn) (4.64.0)\n",
            "Requirement already satisfied: setuptools in /usr/local/lib/python3.7/dist-packages (from numba>=0.49->umap-learn) (57.4.0)\n",
            "Requirement already satisfied: llvmlite<0.35,>=0.34.0.dev0 in /usr/local/lib/python3.7/dist-packages (from numba>=0.49->umap-learn) (0.34.0)\n",
            "Requirement already satisfied: joblib>=0.11 in /usr/local/lib/python3.7/dist-packages (from pynndescent>=0.5->umap-learn) (1.1.0)\n",
            "Requirement already satisfied: threadpoolctl>=2.0.0 in /usr/local/lib/python3.7/dist-packages (from scikit-learn>=0.22->umap-learn) (3.1.0)\n",
            "Building wheels for collected packages: umap-learn, pynndescent\n",
            "  Building wheel for umap-learn (setup.py) ... \u001b[?25l\u001b[?25hdone\n",
            "  Created wheel for umap-learn: filename=umap_learn-0.5.3-py3-none-any.whl size=82829 sha256=ffe3c6ec87987a1a4e071b4aa660985bbc911bc156798ef68fceb4849ffe45ec\n",
            "  Stored in directory: /root/.cache/pip/wheels/b3/52/a5/1fd9e3e76a7ab34f134c07469cd6f16e27ef3a37aeff1fe821\n",
            "  Building wheel for pynndescent (setup.py) ... \u001b[?25l\u001b[?25hdone\n",
            "  Created wheel for pynndescent: filename=pynndescent-0.5.7-py3-none-any.whl size=54286 sha256=fec02302fa922d9345055cd7a80f3ccf103a664d81cafe1c3bd5fd325ad7c2b0\n",
            "  Stored in directory: /root/.cache/pip/wheels/7f/2a/f8/7bd5dcec71bd5c669f6f574db3113513696b98f3f9b51f496c\n",
            "Successfully built umap-learn pynndescent\n",
            "Installing collected packages: pynndescent, umap-learn\n",
            "Successfully installed pynndescent-0.5.7 umap-learn-0.5.3\n"
          ]
        }
      ],
      "source": [
        "!pip install scikit-dimension\n",
        "!pip install --upgrade gap-stat\n",
        "!pip install --upgrade scikit-learn\n",
        "!pip install umap-learn"
      ]
    },
    {
      "cell_type": "code",
      "execution_count": null,
      "metadata": {
        "id": "lCLEK86p0HBv"
      },
      "outputs": [],
      "source": [
        "from google.colab import drive"
      ]
    },
    {
      "cell_type": "code",
      "execution_count": null,
      "metadata": {
        "colab": {
          "base_uri": "https://localhost:8080/"
        },
        "id": "6qJATDsQ0K8w",
        "outputId": "18f91677-bb4c-4b19-ec1e-2f69f956405b"
      },
      "outputs": [
        {
          "output_type": "stream",
          "name": "stdout",
          "text": [
            "Mounted at ./drive\n"
          ]
        }
      ],
      "source": [
        "drive.mount('./drive')"
      ]
    },
    {
      "cell_type": "code",
      "execution_count": null,
      "metadata": {
        "id": "ILhW-lu20Nr_"
      },
      "outputs": [],
      "source": [
        "import numpy as np\n",
        "import matplotlib.pyplot as plt\n",
        "import torch\n",
        "import torch.nn as nn\n",
        "from tqdm.notebook import tqdm"
      ]
    },
    {
      "cell_type": "code",
      "execution_count": null,
      "metadata": {
        "id": "BFT2rZW_0hK8"
      },
      "outputs": [],
      "source": [
        "!cp 'drive/MyDrive/optimizer/data/R23.zip' R23.zip"
      ]
    },
    {
      "cell_type": "code",
      "execution_count": null,
      "metadata": {
        "colab": {
          "base_uri": "https://localhost:8080/"
        },
        "id": "913Ttc7h1AHb",
        "outputId": "a2fe4e09-38e4-42f0-bb3f-bb5cad8d4e8f"
      },
      "outputs": [
        {
          "output_type": "stream",
          "name": "stdout",
          "text": [
            "Archive:  R23.zip\n",
            "  inflating: R23.txt                 \n"
          ]
        }
      ],
      "source": [
        "!unzip R23.zip"
      ]
    },
    {
      "cell_type": "code",
      "execution_count": null,
      "metadata": {
        "colab": {
          "base_uri": "https://localhost:8080/"
        },
        "id": "k1g1jnmx1CnE",
        "outputId": "f6b92b00-3dcf-4226-9f7c-f0fc8e2288ef"
      },
      "outputs": [
        {
          "output_type": "stream",
          "name": "stdout",
          "text": [
            "10 20686 8 38 20\n",
            "3 6 5 6 4 4 5 5\n",
            "33.717615226904840 24.485531792815415 1.394307706335274 4.096518037783828 0.157377945427261 16.809764156624311 21.664128252253118 18.547715831060636 2.924425514609473 -4.912414605905018\n",
            "114.117659574072110 -25.577840019625988 -14.426233350401972 23.775275885293095 -7.048330262268625 -30.352142241583746 8.174181428163923 67.831190886188551 -23.528973216228088 -84.462213211485576\n",
            "114.118974848838690 -22.875476539504675 -13.211213620493405 19.814404886974618 -18.755137366158049 -21.098175967681549 -15.267693989913166 79.329613848836132 -25.897424828147280 -83.128797936850120\n",
            "30.214660660311992 24.292736045732255 2.188651414581860 4.556330957292258 -1.854334018193290 2.326415877760894 16.601708981061819 15.203560387081911 6.224696968828916 1.098799460155441\n",
            "10.635830624677004 14.016894982476853 1.279374691802867 4.029988040238174 0.448451089142580 18.905349305636133 9.088619893428765 22.834073695890144 26.790588577914306 17.491599992700849\n",
            "128.130320976463140 -31.787510263414685 -13.358127769168370 20.293333727721183 -17.339608418739754 -22.217119589362060 -12.433218889948723 77.939281676379025 -5.333130561557944 -59.302967424682606\n",
            "121.386318958670870 -30.589810194253321 -14.677151099032846 24.593248473763065 -4.630718753700846 -32.263209466416647 13.015240761440747 65.456613476807547 -37.377780692415058 -80.514408864813760\n",
            "14.848615057739158 15.883709536893775 1.274837565243849 4.027361684181441 0.459941570762162 18.988075187968100 4.919940229874079 40.567746694208708 26.982848702711365 6.234579011564649\n"
          ]
        }
      ],
      "source": [
        "!head R23.txt"
      ]
    },
    {
      "cell_type": "code",
      "execution_count": null,
      "metadata": {
        "id": "uhObtNEL1Fda"
      },
      "outputs": [],
      "source": [
        "with open('R23.txt') as fp:\n",
        "  line = fp.readline()\n",
        "  line = line.split(' ')\n",
        "  d, n, m, k, p = [int(item) for item in line]\n",
        "  line = fp.readline()\n",
        "  line = line.split(' ')\n",
        "  K = [int(item) for item in line]\n"
      ]
    },
    {
      "cell_type": "code",
      "execution_count": null,
      "metadata": {
        "id": "j7DKEAVC2h9f"
      },
      "outputs": [],
      "source": [
        "!tail -n +3 R23.txt > R23_clean.txt"
      ]
    },
    {
      "cell_type": "code",
      "execution_count": null,
      "metadata": {
        "id": "sZXui17O18hQ"
      },
      "outputs": [],
      "source": [
        "vectors = np.fromfile('R23_clean.txt', sep=' ').reshape(n, -1)"
      ]
    },
    {
      "cell_type": "code",
      "execution_count": null,
      "metadata": {
        "colab": {
          "base_uri": "https://localhost:8080/"
        },
        "id": "Oo3uTWYY2-UC",
        "outputId": "00b1f011-8ef1-4120-c8f1-e3392bdf8ff6"
      },
      "outputs": [
        {
          "output_type": "execute_result",
          "data": {
            "text/plain": [
              "array([[  33.71761523,   24.48553179,    1.39430771, ...,   18.54771583,\n",
              "           2.92442551,   -4.91241461],\n",
              "       [ 114.11765957,  -25.57784002,  -14.42623335, ...,   67.83119089,\n",
              "         -23.52897322,  -84.46221321],\n",
              "       [ 114.11897485,  -22.87547654,  -13.21121362, ...,   79.32961385,\n",
              "         -25.89742483,  -83.12879794],\n",
              "       ...,\n",
              "       [ 711.21707692, -204.18243728,    9.69309471, ...,   60.3501898 ,\n",
              "          92.170413  ,  -77.52765625],\n",
              "       [ 595.02136841, -165.79637376,   14.73367789, ...,  102.15152853,\n",
              "          71.84509017,  -12.97017839],\n",
              "       [ 828.61395246, -131.39195474,  -17.56845059, ...,  106.77791487,\n",
              "         107.46033167, -105.48928098]])"
            ]
          },
          "metadata": {},
          "execution_count": 11
        }
      ],
      "source": [
        "vectors"
      ]
    },
    {
      "cell_type": "code",
      "execution_count": null,
      "metadata": {
        "colab": {
          "base_uri": "https://localhost:8080/",
          "height": 683
        },
        "id": "BCO59JzL3sT0",
        "outputId": "3ad6550d-53cc-4cd8-f633-af7746b2f534"
      },
      "outputs": [
        {
          "output_type": "display_data",
          "data": {
            "text/plain": [
              "<Figure size 864x864 with 1 Axes>"
            ],
            "image/png": "[encoded data removed]"
          },
          "metadata": {
            "needs_background": "light"
          }
        }
      ],
      "source": [
        "fig = plt.figure(figsize=(12, 12))\n",
        "ax = fig.add_subplot(projection='3d')\n",
        "\n",
        "\n",
        "ax.scatter(vectors[:, 0], vectors[:, 1], vectors[:, 3])\n",
        "_ = plt.show()"
      ]
    },
    {
      "cell_type": "code",
      "execution_count": null,
      "metadata": {
        "colab": {
          "base_uri": "https://localhost:8080/"
        },
        "id": "jOkBfRhX4JJj",
        "outputId": "6d4c0b58-d8f8-41cd-990f-931362607307"
      },
      "outputs": [
        {
          "output_type": "execute_result",
          "data": {
            "text/plain": [
              "GaussianMixture(covariance_type='diag', max_iter=10000, n_components=8,\n",
              "                n_init=32, random_state=0, tol=1e-06)"
            ]
          },
          "metadata": {},
          "execution_count": 22
        }
      ],
      "source": [
        "from sklearn.mixture import GaussianMixture, BayesianGaussianMixture\n",
        "\n",
        "gmm = GaussianMixture(n_components=m, covariance_type='diag', \n",
        "                      random_state=0, n_init=32, max_iter=10000, tol=1e-6)\n",
        "gmm.fit(vectors)\n",
        "\n"
      ]
    },
    {
      "cell_type": "code",
      "execution_count": null,
      "metadata": {
        "colab": {
          "base_uri": "https://localhost:8080/"
        },
        "id": "Jm2PfrGu6Zbt",
        "outputId": "a0cd5288-08d5-4c19-e2c7-6117f1181ca0"
      },
      "outputs": [
        {
          "output_type": "execute_result",
          "data": {
            "text/plain": [
              "array([[ 1.26409065e+02, -3.14692551e+01, -1.36891297e+01,\n",
              "         2.13723744e+01, -1.41503802e+01, -2.47381324e+01,\n",
              "        -6.04706340e+00,  7.48068225e+01, -2.37364513e+01,\n",
              "        -6.80883521e+01],\n",
              "       [ 7.13362818e+02, -2.10925690e+02,  9.67026124e+00,\n",
              "         2.67672374e+01,  1.50464420e+01,  2.26702157e+01,\n",
              "        -1.17593196e+02,  5.01290851e+01,  1.04016763e+02,\n",
              "        -7.87996348e+01],\n",
              "       [ 4.69686562e+02, -1.08265569e+02,  5.96745363e+01,\n",
              "         7.62216476e+01, -7.19159583e+01,  5.02043841e+01,\n",
              "        -4.61702269e+01,  8.70670746e+01,  8.36421423e+01,\n",
              "        -5.06706441e+01],\n",
              "       [ 5.85674580e+02, -1.68540984e+02,  4.72612876e+01,\n",
              "         9.10037616e+01, -6.47332060e+01,  5.39913501e+00,\n",
              "        -1.53250745e+02,  1.01992664e+02,  6.72333177e+01,\n",
              "        -1.20762751e+01],\n",
              "       [ 3.52283447e+02, -1.29930356e+02,  6.23731143e+00,\n",
              "         1.53436707e+02, -7.30317998e+01,  2.77686175e+00,\n",
              "         2.73489034e+01,  4.25884475e+01,  6.74149628e+01,\n",
              "        -6.04174593e+01],\n",
              "       [ 8.22959394e+02, -1.48838832e+02, -1.73631668e+01,\n",
              "        -2.67839025e+01, -2.97492945e+01,  4.67017016e+01,\n",
              "        -1.57709162e+02,  1.12665030e+02,  1.07014424e+02,\n",
              "        -1.10192073e+02],\n",
              "       [ 2.36445970e+02, -5.79976309e+01,  1.08947640e+00,\n",
              "         1.32575358e+02, -5.15422552e+01, -5.77463037e+01,\n",
              "         2.43957180e+01,  6.09587842e+01, -2.93713274e+01,\n",
              "        -5.27418897e+01],\n",
              "       [ 2.45295884e+01,  1.99490395e+01,  1.17916442e+00,\n",
              "         4.00340024e+00,  5.42910287e-01,  2.02901846e+01,\n",
              "         3.81127700e+00,  2.17013426e+01,  8.31280650e+00,\n",
              "         6.59117228e+00]])"
            ]
          },
          "metadata": {},
          "execution_count": 24
        }
      ],
      "source": [
        "gmm.means_"
      ]
    },
    {
      "cell_type": "code",
      "execution_count": null,
      "metadata": {
        "id": "eer-wyoURGzQ"
      },
      "outputs": [],
      "source": [
        "def top_k_outliers(vectors, k):\n",
        "  scores = gmm.score_samples(vectors)\n",
        "  top_k = np.argpartition(-scores, -k)[-k:]\n",
        "  return top_k, scores[top_k]"
      ]
    },
    {
      "cell_type": "code",
      "execution_count": null,
      "metadata": {
        "id": "cE5ErN6rRqfJ"
      },
      "outputs": [],
      "source": [
        "outlier_ind, _ = top_k_outliers(vectors, p)"
      ]
    },
    {
      "cell_type": "code",
      "execution_count": null,
      "metadata": {
        "id": "d7K5Ci0r7fEf"
      },
      "outputs": [],
      "source": [
        "labels = gmm.predict(vectors)\n",
        "if p > 0:\n",
        "  labels[outlier_ind] = -1"
      ]
    },
    {
      "cell_type": "code",
      "execution_count": null,
      "metadata": {
        "colab": {
          "base_uri": "https://localhost:8080/",
          "height": 683
        },
        "id": "ju8wk34oBAKf",
        "outputId": "3bd94aea-dccf-41bd-c072-be525ccf7631"
      },
      "outputs": [
        {
          "output_type": "display_data",
          "data": {
            "text/plain": [
              "<Figure size 864x864 with 1 Axes>"
            ],
            "image/png": "[encoded data removed]"
          },
          "metadata": {
            "needs_background": "light"
          }
        }
      ],
      "source": [
        "fig = plt.figure(figsize=(12, 12))\n",
        "ax = fig.add_subplot(projection='3d')\n",
        "\n",
        "ax.scatter(vectors[:, 1], vectors[:, 2], vectors[:, 3], c=labels, alpha=0.01)\n",
        "O = vectors[labels==-1]\n",
        "ax.scatter(O[:, 1], O[:, 2], O[:, 3], c='black')\n",
        "\n",
        "_ = plt.show()"
      ]
    },
    {
      "cell_type": "code",
      "execution_count": null,
      "metadata": {
        "colab": {
          "base_uri": "https://localhost:8080/",
          "height": 49,
          "referenced_widgets": [
            "313c9de7a72542839e50e1f2f0ac2be9",
            "47d8c142bad643649eda5b3c01ca837a",
            "40f20cd5f4b84ba38dde298b0ac6c13b",
            "3b577c75c66b438e918815b1c92825dd",
            "483b9d2088054f9587dbad5ce74f3dd0",
            "342a654773dd42b0982b27a71cb4ee38",
            "4e4da69ba3234df4ae32012b86dd9392",
            "e98997ccafbe4aa598ba99dfddd89d02",
            "9c3cdfe47e114d858950d48417d01ca6",
            "e51d06f0c54343f78175791a0d5225a4",
            "a5ec5ce2f1e94ce79c41d0764013dba2"
          ]
        },
        "id": "j_Qx5KAlrevo",
        "outputId": "054ba17d-f915-40ed-97c9-0a2268efa883"
      },
      "outputs": [
        {
          "output_type": "display_data",
          "data": {
            "text/plain": [
              "  0%|          | 0/8 [00:00<?, ?it/s]"
            ],
            "application/vnd.jupyter.widget-view+json": {
              "version_major": 2,
              "version_minor": 0,
              "model_id": "313c9de7a72542839e50e1f2f0ac2be9"
            }
          },
          "metadata": {}
        }
      ],
      "source": [
        "from numba import njit, jit\n",
        "from random import choices\n",
        "\n",
        "@jit\n",
        "def noisy_center_radius(points, k):\n",
        "  dist_matrix = np.zeros((points.shape[0], points.shape[0]))\n",
        "  for i in range(points.shape[0]):\n",
        "    for j in range(i):\n",
        "      dist = np.linalg.norm(points[i] - points[j])\n",
        "      dist_matrix[i, j] = dist\n",
        "  dist_matrix = dist_matrix.reshape(-1)\n",
        "  top_k_dist = np.argsort(dist_matrix)[-k:]\n",
        "  rows = top_k_dist // points.shape[0]\n",
        "  cols = top_k_dist % points.shape[0]\n",
        "  center = 0.5*(points[cols] + points[rows]).mean(axis=0)\n",
        "  radius = dist_matrix[top_k_dist].mean()/2\n",
        "  return center, radius\n",
        "\n",
        "def center_radius(points):\n",
        "  dist = torch.cdist(points, points)\n",
        "  ind = dist.argmax()\n",
        "  row = (torch.div(ind, points.size(0), rounding_mode='floor')).item()\n",
        "  col = (ind % points.size(0)).item()\n",
        "  radius = (dist[row, col]/2).item()\n",
        "  center = 0.5 * (points[row] + points[col])\n",
        "  return center, radius\n",
        "\n",
        "\n",
        "manifold_center = []\n",
        "manifold_radius = []\n",
        "\n",
        "for sphere in tqdm(range(m)):\n",
        "  sampled = choices(np.where(labels==sphere)[0], k=5000)\n",
        "  points = torch.from_numpy(vectors[sampled])\n",
        "  # points = vectors[labels==sphere]\n",
        "  center, radius = center_radius(points)\n",
        "  manifold_center.append(center)\n",
        "  manifold_radius.append(radius)\n",
        "\n",
        "manifold_center = np.vstack(manifold_center)"
      ]
    },
    {
      "cell_type": "code",
      "execution_count": null,
      "metadata": {
        "colab": {
          "base_uri": "https://localhost:8080/"
        },
        "id": "j0a6CaMJQX1V",
        "outputId": "a390863a-d66b-4012-8f9c-27bf46dbe6bc"
      },
      "outputs": [
        {
          "output_type": "execute_result",
          "data": {
            "text/plain": [
              "array([[ 1.26409065e+02, -3.14692551e+01, -1.36891297e+01,\n",
              "         2.13723744e+01, -1.41503802e+01, -2.47381324e+01,\n",
              "        -6.04706340e+00,  7.48068225e+01, -2.37364513e+01,\n",
              "        -6.80883521e+01],\n",
              "       [ 7.13362818e+02, -2.10925690e+02,  9.67026124e+00,\n",
              "         2.67672374e+01,  1.50464420e+01,  2.26702157e+01,\n",
              "        -1.17593196e+02,  5.01290851e+01,  1.04016763e+02,\n",
              "        -7.87996348e+01],\n",
              "       [ 4.69686562e+02, -1.08265569e+02,  5.96745363e+01,\n",
              "         7.62216476e+01, -7.19159583e+01,  5.02043841e+01,\n",
              "        -4.61702269e+01,  8.70670746e+01,  8.36421423e+01,\n",
              "        -5.06706441e+01],\n",
              "       [ 5.85674580e+02, -1.68540984e+02,  4.72612876e+01,\n",
              "         9.10037616e+01, -6.47332060e+01,  5.39913501e+00,\n",
              "        -1.53250745e+02,  1.01992664e+02,  6.72333177e+01,\n",
              "        -1.20762751e+01],\n",
              "       [ 3.52283447e+02, -1.29930356e+02,  6.23731143e+00,\n",
              "         1.53436707e+02, -7.30317998e+01,  2.77686175e+00,\n",
              "         2.73489034e+01,  4.25884475e+01,  6.74149628e+01,\n",
              "        -6.04174593e+01],\n",
              "       [ 8.22959394e+02, -1.48838832e+02, -1.73631668e+01,\n",
              "        -2.67839025e+01, -2.97492945e+01,  4.67017016e+01,\n",
              "        -1.57709162e+02,  1.12665030e+02,  1.07014424e+02,\n",
              "        -1.10192073e+02],\n",
              "       [ 2.36445970e+02, -5.79976309e+01,  1.08947640e+00,\n",
              "         1.32575358e+02, -5.15422552e+01, -5.77463037e+01,\n",
              "         2.43957180e+01,  6.09587842e+01, -2.93713274e+01,\n",
              "        -5.27418897e+01],\n",
              "       [ 2.45295884e+01,  1.99490395e+01,  1.17916442e+00,\n",
              "         4.00340024e+00,  5.42910287e-01,  2.02901846e+01,\n",
              "         3.81127700e+00,  2.17013426e+01,  8.31280650e+00,\n",
              "         6.59117228e+00]])"
            ]
          },
          "metadata": {},
          "execution_count": 33
        }
      ],
      "source": [
        "gmm.means_"
      ]
    },
    {
      "cell_type": "code",
      "execution_count": null,
      "metadata": {
        "colab": {
          "base_uri": "https://localhost:8080/"
        },
        "id": "_rv50zJlOLdn",
        "outputId": "a0ff2fce-b8f6-48b9-ebf2-7bc4009e4e96"
      },
      "outputs": [
        {
          "output_type": "execute_result",
          "data": {
            "text/plain": [
              "[27.01751825118128,\n",
              " 31.22944688346429,\n",
              " 26.262366324165384,\n",
              " 34.36018097643088,\n",
              " 33.007981513992895,\n",
              " 25.076250269388016,\n",
              " 29.047636969447638,\n",
              " 26.38977873704907]"
            ]
          },
          "metadata": {},
          "execution_count": 26
        }
      ],
      "source": [
        "manifold_radius"
      ]
    },
    {
      "cell_type": "code",
      "execution_count": null,
      "metadata": {
        "colab": {
          "base_uri": "https://localhost:8080/"
        },
        "id": "MLWmGmsKNevt",
        "outputId": "fc45bcce-ebe0-49b7-ebf8-a746e268073c"
      },
      "outputs": [
        {
          "output_type": "execute_result",
          "data": {
            "text/plain": [
              "array([[ 1.27513459e+02, -3.24514095e+01, -1.38264268e+01,\n",
              "         2.18199526e+01, -1.28275117e+01, -2.57838300e+01,\n",
              "        -3.39813281e+00,  7.35075014e+01, -2.79139937e+01,\n",
              "        -6.83468627e+01],\n",
              "       [ 7.13521558e+02, -2.12302522e+02,  9.68542195e+00,\n",
              "         2.81194958e+01,  1.31027224e+01,  2.24408129e+01,\n",
              "        -1.15816226e+02,  5.14461642e+01,  1.04255801e+02,\n",
              "        -8.19170065e+01],\n",
              "       [ 4.69682528e+02, -1.08260644e+02,  5.96743540e+01,\n",
              "         7.62206820e+01, -7.18702397e+01,  5.02147893e+01,\n",
              "        -4.54387038e+01,  8.55046414e+01,  8.59371074e+01,\n",
              "        -5.06926709e+01],\n",
              "       [ 5.88235142e+02, -1.69844913e+02,  4.46136379e+01,\n",
              "         9.07874190e+01, -6.28523577e+01,  4.22170439e+00,\n",
              "        -1.52535191e+02,  9.98637833e+01,  6.94477114e+01,\n",
              "        -1.30949713e+01],\n",
              "       [ 3.55426951e+02, -1.28391399e+02,  6.14414233e+00,\n",
              "         1.53453928e+02, -7.30997314e+01,  2.97120982e+00,\n",
              "         2.66213836e+01,  4.51870154e+01,  7.24730334e+01,\n",
              "        -5.82076351e+01],\n",
              "       [ 8.22163148e+02, -1.51495094e+02, -1.71021195e+01,\n",
              "        -2.73485099e+01, -2.95152761e+01,  4.65013928e+01,\n",
              "        -1.57467087e+02,  1.20151326e+02,  1.06447390e+02,\n",
              "        -1.04276347e+02],\n",
              "       [ 2.35408660e+02, -5.62821429e+01,  2.06420922e+00,\n",
              "         1.32105330e+02, -5.12897104e+01, -5.74921183e+01,\n",
              "         2.51323121e+01,  6.14282498e+01, -2.80027546e+01,\n",
              "        -5.41242369e+01],\n",
              "       [ 2.44333020e+01,  2.00191243e+01,  1.19946793e+00,\n",
              "         3.98373330e+00,  6.50818647e-01,  2.03622974e+01,\n",
              "         1.55595155e+00,  2.29939539e+01,  1.12053605e+01,\n",
              "         4.86167537e+00]])"
            ]
          },
          "metadata": {},
          "execution_count": 27
        }
      ],
      "source": [
        "manifold_center"
      ]
    },
    {
      "cell_type": "code",
      "execution_count": null,
      "metadata": {
        "id": "A4Ltqx5xO-8q"
      },
      "outputs": [],
      "source": [
        "from scipy.optimize import minimize, differential_evolution, dual_annealing\n",
        "\n",
        "@njit\n",
        "def loss_center_given_radius(center, points, radius):\n",
        "  # return (((points - center)**2).sum(axis=1) > radius**2).sum()\n",
        "  return np.linalg.norm(((points - center)**2).sum(axis=1) - radius**2)\n",
        "\n",
        "@njit\n",
        "def loss_center_radius(x, points):\n",
        "  center = x[:-1]\n",
        "  radius = x[-1]\n",
        "  return np.linalg.norm(((points - center)**2).sum(axis=1) - radius**2)\n",
        "\n",
        "\n",
        "@jit\n",
        "def estimate_corrected_radius(sphere):\n",
        "  center_b1 = manifold_center[sphere, :] - 2.0\n",
        "  center_b2 = manifold_center[sphere, :] + 2.0\n",
        "  \n",
        "  bounds = [(center_b1[i], center_b2[i]) for i in range(d)]\n",
        "  # bounds.append([radius_b1, radius_b2])\n",
        "  sampled = choices(np.where(labels==sphere)[0], k=300)\n",
        "  points = vectors[sampled]\n",
        "  result = dual_annealing(func=loss_center_given_radius,\n",
        "                        bounds=bounds, maxiter=3000,\n",
        "                        args=(points, manifold_radius[sphere]))\n",
        "  print(result)\n",
        "  center = result.x\n",
        "                        \n",
        "  return center"
      ]
    },
    {
      "cell_type": "code",
      "execution_count": null,
      "metadata": {
        "colab": {
          "base_uri": "https://localhost:8080/",
          "height": 1000,
          "referenced_widgets": [
            "38571b9d408945bd84ef183a66ccb9f9",
            "a85b35c92e754d72a9cae5a6fa5a1d68",
            "4295858eb078473eb02c5f2897174b7c",
            "d39a50acf19f479dae20d73be1d1053a",
            "95a2afb98a1a4a678ef4cc96ff76ed12",
            "ae3cf24509264d79aa68664e8eb31f3d",
            "fa70dd1e27b2409e9fa24dda435cceb0",
            "70dad73fd2c84e65885d042dca69bd1e",
            "ca8e93e3c7614414b606299ac2140c21",
            "97cd87d51e2a44a69fbb92e110b7621b",
            "3aa9377288c44b678dccd6442877811d"
          ]
        },
        "id": "eZXkhoIoPsW4",
        "outputId": "48e205fd-220d-4efc-972c-a39f2cbd0b15"
      },
      "outputs": [
        {
          "output_type": "display_data",
          "data": {
            "text/plain": [
              "  0%|          | 0/8 [00:00<?, ?it/s]"
            ],
            "application/vnd.jupyter.widget-view+json": {
              "version_major": 2,
              "version_minor": 0,
              "model_id": "38571b9d408945bd84ef183a66ccb9f9"
            }
          },
          "metadata": {}
        },
        {
          "output_type": "stream",
          "name": "stderr",
          "text": [
            "<ipython-input-28-d7ecb39d6c9b>:15: NumbaWarning: \n",
            "Compilation is falling back to object mode WITH looplifting enabled because Function \"estimate_corrected_radius\" failed type inference due to: Untyped global name 'choices': cannot determine Numba type of <class 'method'>\n",
            "\n",
            "File \"<ipython-input-28-d7ecb39d6c9b>\", line 22:\n",
            "def estimate_corrected_radius(sphere):\n",
            "    <source elided>\n",
            "  # bounds.append([radius_b1, radius_b2])\n",
            "  sampled = choices(np.where(labels==sphere)[0], k=300)\n",
            "  ^\n",
            "\n",
            "  @jit\n",
            "/usr/local/lib/python3.7/dist-packages/numba/core/object_mode_passes.py:178: NumbaWarning: Function \"estimate_corrected_radius\" was compiled in object mode without forceobj=True.\n",
            "\n",
            "File \"<ipython-input-28-d7ecb39d6c9b>\", line 16:\n",
            "@jit\n",
            "def estimate_corrected_radius(sphere):\n",
            "^\n",
            "\n",
            "  state.func_ir.loc))\n",
            "/usr/local/lib/python3.7/dist-packages/numba/core/object_mode_passes.py:188: NumbaDeprecationWarning: \n",
            "Fall-back from the nopython compilation path to the object mode compilation path has been detected, this is deprecated behaviour.\n",
            "\n",
            "For more information visit https://numba.pydata.org/numba-doc/latest/reference/deprecation.html#deprecation-of-object-mode-fall-back-behaviour-when-using-jit\n",
            "\n",
            "File \"<ipython-input-28-d7ecb39d6c9b>\", line 16:\n",
            "@jit\n",
            "def estimate_corrected_radius(sphere):\n",
            "^\n",
            "\n",
            "  state.func_ir.loc))\n"
          ]
        },
        {
          "output_type": "stream",
          "name": "stdout",
          "text": [
            "     fun: 0.0017277807102442971\n",
            " message: ['Maximum number of iteration reached']\n",
            "    nfev: 141645\n",
            "    nhev: 0\n",
            "     nit: 3000\n",
            "    njev: 7422\n",
            "  status: 0\n",
            " success: True\n",
            "       x: array([127.51157307, -32.45140138, -13.82691036,  21.82019388,\n",
            "       -12.82540757, -25.78445807,  -3.39432209,  73.50582597,\n",
            "       -27.92153368, -68.35142873])\n",
            "     fun: 29.542994524943975\n",
            " message: ['Maximum number of iteration reached']\n",
            "    nfev: 113331\n",
            "    nhev: 0\n",
            "     nit: 3000\n",
            "    njev: 4848\n",
            "  status: 0\n",
            " success: True\n",
            "       x: array([ 713.52530776, -211.95141926,    9.67841825,   27.49474108,\n",
            "         12.74196639,   21.86661674, -115.85832167,   51.164137  ,\n",
            "        103.39667993,  -82.16632706])\n",
            "     fun: 0.21626590890428196\n",
            " message: ['Maximum number of iteration reached']\n",
            "    nfev: 138312\n",
            "    nhev: 0\n",
            "     nit: 3000\n",
            "    njev: 7119\n",
            "  status: 0\n",
            " success: True\n",
            "       x: array([ 469.6957038 , -108.28339049,   59.67436471,   76.22081462,\n",
            "        -71.87592138,   50.21348833,  -45.52948286,   85.4992368 ,\n",
            "         85.96518611,  -50.63778795])\n",
            "     fun: 109.07977514056037\n",
            " message: ['Maximum number of iteration reached']\n",
            "    nfev: 91672\n",
            "    nhev: 0\n",
            "     nit: 3000\n",
            "    njev: 2879\n",
            "  status: 0\n",
            " success: True\n",
            "       x: array([ 586.76794398, -168.68062417,   43.92752352,   89.98442671,\n",
            "        -64.1700035 ,    4.66514581, -152.03292322,   99.89119003,\n",
            "         68.96762391,  -12.77975937])\n",
            "     fun: 0.18529799523855242\n",
            " message: ['Maximum number of iteration reached']\n",
            "    nfev: 158475\n",
            "    nhev: 0\n",
            "     nit: 3000\n",
            "    njev: 8952\n",
            "  status: 0\n",
            " success: True\n",
            "       x: array([ 355.40007235, -128.39738522,    6.15685816,  153.45157797,\n",
            "        -73.090458  ,    2.94468475,   26.7206583 ,   45.18968494,\n",
            "         72.47386469,  -58.23343399])\n",
            "     fun: 6.0982586112096255e-05\n",
            " message: ['Maximum number of iteration reached']\n",
            "    nfev: 128258\n",
            "    nhev: 0\n",
            "     nit: 3000\n",
            "    njev: 6205\n",
            "  status: 0\n",
            " success: True\n",
            "       x: array([ 822.16324539, -151.49501341,  -17.10325075,  -27.34885901,\n",
            "        -29.51394641,   46.50049971, -157.46791785,  120.15145226,\n",
            "        106.4472974 , -104.276535  ])\n",
            "     fun: 27.121029779356\n",
            " message: ['Maximum number of iteration reached']\n",
            "    nfev: 100186\n",
            "    nhev: 0\n",
            "     nit: 3000\n",
            "    njev: 3653\n",
            "  status: 0\n",
            " success: True\n",
            "       x: array([235.67756779, -55.84653971,   2.17983168, 132.04957546,\n",
            "       -50.89861581, -57.55090867,  26.03026534,  61.37460129,\n",
            "       -28.48177875, -54.49671452])\n",
            "     fun: 2.2793631018993485\n",
            " message: ['Maximum number of iteration reached']\n",
            "    nfev: 136145\n",
            "    nhev: 0\n",
            "     nit: 3000\n",
            "    njev: 6922\n",
            "  status: 0\n",
            " success: True\n",
            "       x: array([24.51810263, 20.0724599 ,  1.20854047,  3.98898523,  0.62784221,\n",
            "       20.19687103,  1.62716047, 22.85565315, 10.92857527,  4.9136763 ])\n"
          ]
        }
      ],
      "source": [
        "manifold_corrected_center = np.vstack([estimate_corrected_radius(sphere) for sphere in tqdm(range(m))])"
      ]
    },
    {
      "cell_type": "code",
      "execution_count": null,
      "metadata": {
        "colab": {
          "base_uri": "https://localhost:8080/",
          "height": 683
        },
        "id": "MYyx91Ia7i27",
        "outputId": "1244f024-a1d9-4a67-d138-134961691a7d"
      },
      "outputs": [
        {
          "output_type": "display_data",
          "data": {
            "text/plain": [
              "<Figure size 864x864 with 1 Axes>"
            ],
            "image/png": "[encoded data removed]"
          },
          "metadata": {
            "needs_background": "light"
          }
        }
      ],
      "source": [
        "fig = plt.figure(figsize=(12, 12))\n",
        "ax = fig.add_subplot(projection='3d')\n",
        "\n",
        "# t_colors = (S.flatten().abs() < 0.1).numpy() * 1\n",
        "# ax.scatter(vectors[:, 0], vectors[:, 1], vectors[:, 2], c=t_colors)\n",
        "ax.scatter(vectors[:, 1], vectors[:, 2], vectors[:, 3], c=labels, alpha=0.01)\n",
        "for sphere in range(m):\n",
        "  ax.scatter(manifold_corrected_center[sphere, 1], manifold_corrected_center[sphere, 2], manifold_corrected_center[sphere, 3], c='red')\n",
        "\n",
        "_ = plt.show()"
      ]
    },
    {
      "cell_type": "code",
      "execution_count": null,
      "metadata": {
        "colab": {
          "base_uri": "https://localhost:8080/",
          "height": 49,
          "referenced_widgets": [
            "ace6d3564f704e4c86853fee7227a573",
            "a9e0d2921d7746118b0a278b626136b4",
            "eb6bff7e35864110b3a81f43151d427d",
            "1ef468697abe4e2abfca50ed3be72b27",
            "abccc196bc41497faf9bd7b9440b37e4",
            "2f237587ed464c86a7e9198a67b2b2ee",
            "589e83dea2cd4b0f8cb71a7454dbb227",
            "ef00d3aac7bb4f95bb51de9269a8e103",
            "48f9754e8b5647a288c82a44ab8d23a3",
            "c52d72dd029d4a6d80b139683a349193",
            "4326ddd909604482b6ba17e50dc38c58"
          ]
        },
        "id": "4VYKfEjVOhi2",
        "outputId": "44c958d8-4552-425c-ba00-f4a17560594e"
      },
      "outputs": [
        {
          "output_type": "display_data",
          "data": {
            "text/plain": [
              "  0%|          | 0/8 [00:00<?, ?it/s]"
            ],
            "application/vnd.jupyter.widget-view+json": {
              "version_major": 2,
              "version_minor": 0,
              "model_id": "ace6d3564f704e4c86853fee7227a573"
            }
          },
          "metadata": {}
        }
      ],
      "source": [
        "import skdim.id as intd\n",
        "\n",
        "manifold_dims = []\n",
        "\n",
        "for sphere in tqdm(range(m)):\n",
        "  lpca = intd.lPCA().fit_pw(vectors[labels==sphere], n_neighbors = 64, n_jobs = 1)\n",
        "  # pca = intd.DANCo().fit(vectors[labels==sphere])\n",
        "  # manifold_dims.append(pca.dimension_)\n",
        "  manifold_dims.append(int(np.round(lpca.dimension_pw_.mean())))\n",
        "  "
      ]
    },
    {
      "cell_type": "code",
      "execution_count": null,
      "metadata": {
        "id": "TCq8ggLSEs63"
      },
      "outputs": [],
      "source": [
        "for sphere in range(m):\n",
        "  if manifold_dims[sphere] == 1:\n",
        "    manifold_dims[sphere] = 2"
      ]
    },
    {
      "cell_type": "code",
      "execution_count": null,
      "metadata": {
        "colab": {
          "base_uri": "https://localhost:8080/"
        },
        "id": "9JQ9R1LbPB_0",
        "outputId": "ee99653c-ea69-4b16-d94f-73c0213eac2f"
      },
      "outputs": [
        {
          "output_type": "execute_result",
          "data": {
            "text/plain": [
              "[2, 6, 3, 8, 3, 2, 6, 4]"
            ]
          },
          "metadata": {},
          "execution_count": 33
        }
      ],
      "source": [
        "manifold_dims"
      ]
    },
    {
      "cell_type": "code",
      "source": [
        "estimated_n_clusters"
      ],
      "metadata": {
        "colab": {
          "base_uri": "https://localhost:8080/"
        },
        "id": "eC8i1BBvjOIR",
        "outputId": "ea78924d-c65a-46d1-d4da-4ac90e379b26"
      },
      "execution_count": null,
      "outputs": [
        {
          "output_type": "execute_result",
          "data": {
            "text/plain": [
              "[6, 9, 7, 9, 9, 3, 8, 9]"
            ]
          },
          "metadata": {},
          "execution_count": 165
        }
      ]
    },
    {
      "cell_type": "code",
      "source": [
        "from gap_statistic import OptimalK\n",
        "optimalK = OptimalK(parallel_backend='joblib')"
      ],
      "metadata": {
        "id": "-G5a25XAkhP_"
      },
      "execution_count": null,
      "outputs": []
    },
    {
      "cell_type": "code",
      "source": [
        "K"
      ],
      "metadata": {
        "colab": {
          "base_uri": "https://localhost:8080/"
        },
        "id": "3poeH9EOnORT",
        "outputId": "84b8b7cc-79fa-4445-84a8-8647250b6892"
      },
      "execution_count": null,
      "outputs": [
        {
          "output_type": "execute_result",
          "data": {
            "text/plain": [
              "[3, 6, 5, 6, 4, 4, 5, 5]"
            ]
          },
          "metadata": {},
          "execution_count": 60
        }
      ]
    },
    {
      "cell_type": "code",
      "source": [
        "K_manual = [6, 3, 4, 5, 5, 5, 4, 6]"
      ],
      "metadata": {
        "id": "Hr6ph2COnIcF"
      },
      "execution_count": null,
      "outputs": []
    },
    {
      "cell_type": "code",
      "execution_count": null,
      "metadata": {
        "colab": {
          "base_uri": "https://localhost:8080/"
        },
        "id": "gb9ZcTcmCHmB",
        "outputId": "6d697fab-ca4c-430c-bed2-3a662188e20d"
      },
      "outputs": [
        {
          "output_type": "execute_result",
          "data": {
            "text/plain": [
              "SpectralClustering(affinity='nearest_neighbors', n_clusters=5, random_state=0)"
            ]
          },
          "metadata": {},
          "execution_count": 137
        }
      ],
      "source": [
        "from sklearn.cluster import SpectralClustering\n",
        "from umap import UMAP\n",
        "\n",
        "\n",
        "c_index = 0\n",
        "points = vectors[labels==c_index]\n",
        "reducer = UMAP(n_components=3, densmap=True, n_neighbors=100, min_dist=0.0)\n",
        "points_red = reducer.fit_transform(points)\n",
        "cluster = SpectralClustering(n_clusters=5, random_state=0,\n",
        "                             affinity='nearest_neighbors')\n",
        "# cluster = GaussianMixture(n_components=5, covariance_type='full', n_init=16)\n",
        "cluster.fit(points)"
      ]
    },
    {
      "cell_type": "code",
      "source": [
        "fig = plt.figure(figsize=(12, 12))\n",
        "ax = fig.add_subplot(projection='3d')\n",
        "ax.scatter(points_red[:, 1], points_red[:, 0], points_red[:, 2], c=cluster.labels_, alpha=0.4)\n",
        "_ = plt.show()"
      ],
      "metadata": {
        "colab": {
          "base_uri": "https://localhost:8080/",
          "height": 683
        },
        "id": "6ZYBT3yFu8iB",
        "outputId": "b65b2065-77f4-4b53-d040-1ae898650f4a"
      },
      "execution_count": null,
      "outputs": [
        {
          "output_type": "display_data",
          "data": {
            "text/plain": [
              "<Figure size 864x864 with 1 Axes>"
            ],
            "image/png": "[encoded data removed]"
          },
          "metadata": {
            "needs_background": "light"
          }
        }
      ]
    },
    {
      "cell_type": "code",
      "source": [
        "def estimate_n_cluster(sphere):\n",
        "  points = vectors[labels==sphere]\n",
        "  \n",
        "  reducer = UMAP(n_components=manifold_dims[sphere],\n",
        "                 densmap=True, n_neighbors=100, min_dist=0.0)\n",
        "  \n",
        "  points_red = reducer.fit_transform(points)\n",
        "\n",
        "  n_clusters = optimalK(points_red, cluster_array=np.arange(2, 10))\n",
        "\n",
        "  return n_clusters\n",
        "\n",
        "estimated_n_clusters = []\n",
        "\n",
        "for sphere in tqdm(range(m)):\n",
        "  estimated_n_clusters.append(estimate_n_cluster(sphere))"
      ],
      "metadata": {
        "colab": {
          "base_uri": "https://localhost:8080/",
          "height": 49,
          "referenced_widgets": [
            "223d04968941466396a6e047a3952789",
            "73735d05ba984d5abb26c0bea78a3f39",
            "17352fdd321d48838254a87355943eb9",
            "1a40c88fd13c4bc88a3994be51566843",
            "56774cda822e471a8e5dd88747bae335",
            "5f0562388af3475498196773b86a0447",
            "8f0a4f8c597f4a27848cab718171f2f4",
            "eccf479550684c38b3ba4ccddf695980",
            "00eb6fb66be34b1a82044fc3b47fe30b",
            "4b0037a59ee1482da495a07158fecc6a",
            "db475d4e03464f219f29c50f50b77d4e"
          ]
        },
        "id": "9d_Teslky5d2",
        "outputId": "47d244bd-0f5c-4cc5-9a36-04bdfbc8ad6e"
      },
      "execution_count": null,
      "outputs": [
        {
          "output_type": "display_data",
          "data": {
            "text/plain": [
              "  0%|          | 0/8 [00:00<?, ?it/s]"
            ],
            "application/vnd.jupyter.widget-view+json": {
              "version_major": 2,
              "version_minor": 0,
              "model_id": "223d04968941466396a6e047a3952789"
            }
          },
          "metadata": {}
        }
      ]
    },
    {
      "cell_type": "code",
      "source": [
        "def match_K(spec, est):\n",
        "  sorted_K = np.array(sorted(spec))\n",
        "  return sorted_K[np.array(est).argsort()]\n"
      ],
      "metadata": {
        "id": "QJHfVn--4jgP"
      },
      "execution_count": null,
      "outputs": []
    },
    {
      "cell_type": "code",
      "source": [
        "K_estimated = match_K(K, estimated_n_clusters)"
      ],
      "metadata": {
        "id": "v8X1fKUV8aqQ"
      },
      "execution_count": null,
      "outputs": []
    },
    {
      "cell_type": "code",
      "source": [
        "K = K_estimated "
      ],
      "metadata": {
        "id": "CosZNnSd82qn"
      },
      "execution_count": null,
      "outputs": []
    },
    {
      "cell_type": "code",
      "execution_count": null,
      "metadata": {
        "colab": {
          "base_uri": "https://localhost:8080/",
          "height": 49,
          "referenced_widgets": [
            "5446b4fe48f94d6485b44ae38636c406",
            "07d3d01481974140a482389b0b0f80a9",
            "e3ccf5b5566e4086acbd71fae28a96e7",
            "4c9bd27531ef4c1bb4240ed771609de8",
            "8b039945706a41cea5bf9c946a2ea47f",
            "de2ae9ab424a4c16a3442ef5513060b7",
            "c4223e6c2ac74d41828665234fd8832f",
            "469e82821cd94fa98a4aa925ce021152",
            "88b94b33b6264cbb922c0f8174a849ac",
            "b4a7f00803ad418e9f59a966f507bb4d",
            "eb634abfcaae441cadd05ca3539d1479"
          ]
        },
        "id": "PjKQDHcRO1s6",
        "outputId": "e469a950-b778-43f0-b69e-2fabb3d5ce28"
      },
      "outputs": [
        {
          "output_type": "display_data",
          "data": {
            "text/plain": [
              "  0%|          | 0/8 [00:00<?, ?it/s]"
            ],
            "application/vnd.jupyter.widget-view+json": {
              "version_major": 2,
              "version_minor": 0,
              "model_id": "5446b4fe48f94d6485b44ae38636c406"
            }
          },
          "metadata": {}
        }
      ],
      "source": [
        "from sklearn.cluster import SpectralClustering\n",
        "from sklearn.metrics import pairwise_distances\n",
        "from scipy.spatial.distance import cosine\n",
        "\n",
        "\n",
        "sub_clusters = []\n",
        "for sphere in tqdm(range(m)):\n",
        "  points = vectors[labels==sphere]\n",
        "  original_index = np.where(labels==sphere)[0]\n",
        "  # affinity = 1.0 - pairwise_distances(points, metric=\"cosine\")\n",
        "  cluster = SpectralClustering(n_clusters=K[sphere], random_state=0,\n",
        "                               affinity='nearest_neighbors')\n",
        "  cluster.fit(points)\n",
        "  submanifold_clusters = []\n",
        "  for subc in range(K[sphere]):\n",
        "    submanifold_clusters.append(original_index[np.where(cluster.labels_ == subc)])\n",
        "  sub_clusters.append(submanifold_clusters)"
      ]
    },
    {
      "cell_type": "code",
      "execution_count": null,
      "metadata": {
        "id": "E4IYm6dNqhm-"
      },
      "outputs": [],
      "source": [
        "from numba import njit\n",
        "from sklearn.decomposition import PCA\n",
        "\n",
        "@njit\n",
        "def get_best_fitting_plane_vector(centered, dim):\n",
        "\n",
        "    # Calculate the covariance matrix of the coordinates\n",
        "    covariance_matrix = np.cov(centered, rowvar=False) # Variables = columns\n",
        "\n",
        "    # Calculate the eigenvalues & eigenvectors of the covariance matrix\n",
        "    e_val, e_vect = np.linalg.eig(covariance_matrix)\n",
        "\n",
        "    # The normal vector to the plane is the eigenvector associated to the minimum eigenvalue\n",
        "    min_eval = np.argsort(e_val)[:dim]\n",
        "    normal_vector = e_vect[:, min_eval]\n",
        "\n",
        "    return normal_vector\n",
        "\n",
        "def get_best_fitting_plane_vector_pca(centered, dim):\n",
        "\n",
        "    pca = PCA(n_components=d)\n",
        "\n",
        "    pca.fit(centered)\n",
        "\n",
        "    normal_vector = pca.components_[-dim:]\n",
        "\n",
        "    return normal_vector.T"
      ]
    },
    {
      "cell_type": "code",
      "execution_count": null,
      "metadata": {
        "colab": {
          "base_uri": "https://localhost:8080/",
          "height": 49,
          "referenced_widgets": [
            "6002c442501b456a87375d2a2b731249",
            "404a257f1364401c8b91f4b701b7f1c7",
            "2b4c77ae89a841959e3688272e70fb61",
            "ca53a44663334e5ab866db310d5bb6d0",
            "d12b5e98a17a4633a0cf21dd7806e093",
            "960c0f2b55284708ab8ed482804e1dd5",
            "249b70db1fb54da78691f6584d4f5b36",
            "01173b7fb21e470bb308ef7b710b7628",
            "271ab4906f014aa78556affd90548406",
            "39443083c9cd46d8b84088c224f0317a",
            "842e254f98e64cbea66b88536d0c28d1"
          ]
        },
        "id": "9G9ykUi9DcsW",
        "outputId": "4bcc8171-996f-4cd2-aa76-89ecf572ecfd"
      },
      "outputs": [
        {
          "output_type": "display_data",
          "data": {
            "text/plain": [
              "  0%|          | 0/8 [00:00<?, ?it/s]"
            ],
            "application/vnd.jupyter.widget-view+json": {
              "version_major": 2,
              "version_minor": 0,
              "model_id": "6002c442501b456a87375d2a2b731249"
            }
          },
          "metadata": {}
        }
      ],
      "source": [
        "affine_a = []\n",
        "affine_b = []\n",
        "\n",
        "for sphere in tqdm(range(m)):\n",
        "  points = vectors[labels==sphere]\n",
        "  shift = points.mean(axis=0)\n",
        "  centered = points - shift\n",
        "  a = get_best_fitting_plane_vector_pca(centered, d-manifold_dims[sphere])\n",
        "  b = a.T @ shift\n",
        "  affine_a.append(a)\n",
        "  affine_b.append(b)\n"
      ]
    },
    {
      "cell_type": "code",
      "execution_count": null,
      "metadata": {
        "colab": {
          "base_uri": "https://localhost:8080/"
        },
        "id": "X2j5-U-AHp7n",
        "outputId": "3288b041-2043-498c-f84b-c31605a1aa5a"
      },
      "outputs": [
        {
          "output_type": "execute_result",
          "data": {
            "text/plain": [
              "[array([[-8.74592583e-02, -7.77503417e-01, -9.98217551e-02,\n",
              "          1.29826627e-01, -4.79799593e-04,  1.35583770e-02,\n",
              "         -6.57558042e-02,  1.50830702e-03],\n",
              "        [-2.35894942e-02, -1.39176159e-01,  9.95230833e-02,\n",
              "          8.98382011e-01, -9.20261714e-03,  4.34653173e-02,\n",
              "         -1.26939606e-01,  9.75681013e-03],\n",
              "        [-3.46901474e-02,  3.03481253e-03,  4.53604568e-03,\n",
              "         -5.38273376e-03, -3.63536665e-02,  1.04767691e-02,\n",
              "         -7.88167213e-02, -9.95346724e-01],\n",
              "        [ 1.13087216e-01, -5.06459748e-02,  5.23639344e-02,\n",
              "          1.21161524e-01,  6.08218050e-01, -2.87691364e-01,\n",
              "          7.09156046e-01, -8.71518034e-02],\n",
              "        [ 3.34242197e-01,  5.77139091e-02, -4.34846140e-02,\n",
              "         -2.39070747e-02,  6.09410407e-01, -1.98835779e-01,\n",
              "         -6.60452292e-01,  1.27335164e-02],\n",
              "        [-2.64210898e-01, -2.89366000e-02,  1.92561041e-01,\n",
              "         -9.30785391e-02,  4.57300381e-01,  8.07696371e-01,\n",
              "         -8.78754371e-03,  5.89864569e-03],\n",
              "        [ 6.69291283e-01,  6.45812679e-02, -3.29382506e-01,\n",
              "          1.28511819e-01, -1.52553001e-01,  4.72242228e-01,\n",
              "          1.84509700e-01, -3.67457633e-02],\n",
              "        [-3.28292601e-01,  1.25420019e-01, -9.00581057e-01,\n",
              "          8.09349239e-02,  1.57695230e-01, -2.09045621e-03,\n",
              "         -4.94115104e-03,  5.49833131e-03],\n",
              "        [ 4.90421690e-01, -1.85620860e-01, -4.31193251e-02,\n",
              "         -1.12794767e-01,  1.38336933e-03, -3.50584261e-03,\n",
              "          3.22423613e-03, -1.19863054e-03],\n",
              "        [-6.06269207e-03,  5.61266391e-01,  1.30380971e-01,\n",
              "          3.41060329e-01, -4.18292808e-03,  1.06007031e-02,\n",
              "         -9.74920262e-03,  3.62432885e-03]]),\n",
              " array([[ 3.12499205e-03,  9.77781979e-01, -2.20857077e-02,\n",
              "          3.07745687e-02],\n",
              "        [-7.81413252e-03,  5.55493323e-02, -8.39473791e-01,\n",
              "          4.49874396e-03],\n",
              "        [-7.17630538e-05, -2.97409643e-02,  2.87817348e-03,\n",
              "          9.99492055e-01],\n",
              "        [-6.40089951e-03,  1.46735622e-01, -3.58235257e-02,\n",
              "         -6.49127657e-03],\n",
              "        [ 1.38157363e-02,  2.26100284e-04,  9.02024732e-04,\n",
              "          4.13973663e-06],\n",
              "        [ 2.99309209e-01,  2.46786930e-03,  9.84553894e-03,\n",
              "          4.51849453e-05],\n",
              "        [ 9.50288703e-01,  7.97712806e-03,  3.18246695e-02,\n",
              "          1.46055585e-04],\n",
              "        [ 2.00810593e-02, -7.30215828e-04, -2.91318846e-03,\n",
              "         -1.33697365e-05],\n",
              "        [ 7.94475561e-02, -1.05928489e-01, -4.22600605e-01,\n",
              "         -1.93947587e-03],\n",
              "        [-1.86423669e-02,  8.45556128e-02,  3.37333738e-01,\n",
              "          1.54815360e-03]]),\n",
              " array([[-4.39669751e-03, -9.76737478e-01, -2.85578093e-04,\n",
              "          3.62434907e-03, -2.55946020e-03,  2.14545675e-02,\n",
              "         -2.21608631e-03],\n",
              "        [ 5.80655538e-03, -8.13894590e-02,  9.24000768e-01,\n",
              "          2.10805640e-02,  2.56372658e-02,  6.05383721e-03,\n",
              "          3.16739599e-03],\n",
              "        [-1.60828344e-04, -2.17270488e-02,  5.96898695e-03,\n",
              "          1.97064463e-02, -7.84046066e-02, -9.91538106e-01,\n",
              "          9.90394037e-02],\n",
              "        [-8.51571528e-04,  5.21195839e-03,  2.13187656e-02,\n",
              "          2.41493062e-01, -9.66713046e-01,  7.93358089e-02,\n",
              "         -1.92205024e-02],\n",
              "        [ 4.03215006e-02,  2.84213709e-03, -2.85664396e-02,\n",
              "          9.68065449e-01,  2.41107858e-01,  7.20991713e-05,\n",
              "          1.47522902e-03],\n",
              "        [ 9.17686264e-03, -1.14949796e-05,  3.79639032e-03,\n",
              "         -2.04461189e-03,  1.11039046e-02, -1.00263174e-01,\n",
              "         -9.94788375e-01],\n",
              "        [ 6.45165215e-01, -2.18021094e-03,  1.01288050e-03,\n",
              "         -6.01587255e-02, -1.65483888e-02,  1.31975938e-03,\n",
              "          1.40497815e-02],\n",
              "        [ 3.08767964e-01, -2.41598098e-04, -4.66602413e-04,\n",
              "         -9.59441676e-06, -1.36847955e-05,  3.15293039e-06,\n",
              "         -2.24057779e-06],\n",
              "        [ 6.97441186e-01,  8.23863337e-04,  1.59114093e-03,\n",
              "          3.27175101e-05,  4.66659356e-05, -1.07516730e-05,\n",
              "          7.64049845e-06],\n",
              "        [-1.53670180e-02,  1.97096064e-01,  3.80654897e-01,\n",
              "          7.82713853e-03,  1.11640752e-02, -2.57216499e-03,\n",
              "          1.82786647e-03]]),\n",
              " array([[ 0.03822798, -0.13683265],\n",
              "        [-0.0070286 ,  0.06192623],\n",
              "        [ 0.00775213,  0.01161846],\n",
              "        [-0.01863122, -0.00619711],\n",
              "        [-0.04740393, -0.03492116],\n",
              "        [-0.16763469, -0.09774902],\n",
              "        [ 0.00333656, -0.03059925],\n",
              "        [ 0.31636795,  0.16650299],\n",
              "        [ 0.93130495, -0.08803912],\n",
              "        [-0.01745753, -0.96440851]]),\n",
              " array([[ 2.62221558e-01,  4.50655150e-01,  5.54833109e-03,\n",
              "         -5.33954209e-03, -7.68659476e-04,  9.83667330e-03,\n",
              "          2.51793525e-02],\n",
              "        [ 7.05470706e-02, -8.87784543e-01, -9.29319320e-03,\n",
              "          1.43575898e-02,  2.83377432e-02, -2.20807256e-02,\n",
              "         -4.97653931e-02],\n",
              "        [-1.03899473e-01, -4.59465775e-02,  1.71822676e-02,\n",
              "          2.38671660e-02,  2.58565118e-02, -4.48948158e-02,\n",
              "          9.90083612e-01],\n",
              "        [ 1.92047402e-02, -1.12593901e-02,  9.92555627e-01,\n",
              "         -2.52419364e-02, -7.15140210e-02, -9.05194372e-02,\n",
              "         -1.67485662e-02],\n",
              "        [-7.57553488e-02, -6.18942928e-03, -9.33234972e-03,\n",
              "         -9.82307173e-01,  1.64242189e-01,  1.98364270e-02,\n",
              "          9.79992601e-03],\n",
              "        [ 2.16731307e-01, -4.30531903e-02,  8.52090765e-02,\n",
              "          3.02590719e-03,  3.14508106e-02,  9.61198931e-01,\n",
              "          6.88668459e-02],\n",
              "        [-8.11308984e-01,  6.65583181e-02,  6.04156767e-02,\n",
              "          1.22268531e-01,  2.27216853e-01,  2.35987137e-01,\n",
              "         -1.07142181e-01],\n",
              "        [ 3.58534117e-01, -1.14440535e-03, -4.87320857e-03,\n",
              "         -1.13814628e-02, -7.96211508e-02,  7.99747960e-03,\n",
              "          4.18157457e-04],\n",
              "        [-2.18044613e-01, -4.65961438e-03, -1.98419841e-02,\n",
              "         -4.63412967e-02, -3.24189204e-01,  3.25629123e-02,\n",
              "          1.70258947e-03],\n",
              "        [ 1.67556787e-01,  1.28748553e-02,  5.48248531e-02,\n",
              "          1.28044392e-01,  8.95758478e-01, -8.99737079e-02,\n",
              "         -4.70437922e-03]]),\n",
              " array([[ 9.58307972e-01,  3.56594389e-03, -5.44895256e-03,\n",
              "          4.98076283e-03, -7.16374584e-04, -9.06049344e-04,\n",
              "         -4.70730622e-04,  5.73903385e-04],\n",
              "        [-2.60217957e-01,  3.77958445e-02,  3.94229129e-01,\n",
              "          1.04058650e-02, -1.29504601e-02, -2.41272079e-02,\n",
              "         -4.38938010e-04,  1.72226236e-04],\n",
              "        [ 1.82323284e-03, -7.15768006e-04,  1.34380593e-02,\n",
              "          4.18853767e-03,  3.37670763e-04, -1.20557562e-01,\n",
              "         -8.53358826e-01,  5.06316174e-01],\n",
              "        [-4.93786101e-03,  2.53036052e-03,  5.99297401e-03,\n",
              "         -3.83775203e-03,  1.30739383e-02,  8.82748152e-01,\n",
              "          1.37827291e-01,  4.45304204e-01],\n",
              "        [ 1.68943339e-03, -1.72048401e-03, -6.53974030e-03,\n",
              "          2.19983891e-03,  2.58947232e-02, -4.49482510e-01,\n",
              "          5.02023242e-01,  7.38012551e-01],\n",
              "        [-1.02477436e-03, -3.70365125e-04,  1.67329730e-02,\n",
              "         -2.34984149e-02,  9.98958351e-01, -1.38612027e-03,\n",
              "         -1.47242618e-02, -2.50191664e-02],\n",
              "        [-1.71338175e-03,  9.96700262e-01, -7.72713573e-02,\n",
              "         -4.25191734e-03,  2.05547634e-03, -1.05888426e-03,\n",
              "         -7.71582857e-04,  6.90029953e-04],\n",
              "        [ 7.85526371e-02,  3.20345922e-02,  6.50025590e-01,\n",
              "         -5.67364698e-02,  3.21232076e-03,  4.38491093e-02,\n",
              "          2.28128063e-02, -7.01295767e-03],\n",
              "        [-5.94069090e-04, -4.39768487e-03, -2.01630638e-02,\n",
              "         -9.97822644e-01, -2.42756591e-02, -8.39850273e-03,\n",
              "         -3.97875808e-03,  3.04108862e-03],\n",
              "        [-8.79035240e-02, -6.39670089e-02, -6.44285469e-01,\n",
              "         -1.97607864e-02,  2.16461122e-02,  4.00971716e-02,\n",
              "          9.73640643e-04, -5.91231564e-04]]),\n",
              " array([[ 8.77263976e-03,  1.16264591e-01,  1.86043664e-01,\n",
              "          1.21798019e-01],\n",
              "        [ 6.81748219e-04, -1.85423403e-01, -2.13223959e-01,\n",
              "         -2.96328206e-01],\n",
              "        [-1.88830267e-03, -2.15712345e-02,  6.00458109e-01,\n",
              "          6.75236653e-01],\n",
              "        [ 9.10561712e-04, -9.72238940e-01,  1.10395795e-01,\n",
              "          1.48642794e-03],\n",
              "        [ 1.89640155e-02,  6.67641418e-04,  6.17970989e-03,\n",
              "         -5.55035412e-03],\n",
              "        [-4.35946441e-02, -4.54635292e-03, -4.20811851e-02,\n",
              "          3.77955411e-02],\n",
              "        [ 9.77391979e-02,  1.07899211e-02,  9.98718479e-02,\n",
              "         -8.97006708e-02],\n",
              "        [-3.83335355e-03,  7.46523824e-02,  6.90984791e-01,\n",
              "         -6.20613322e-01],\n",
              "        [ 9.92330503e-01, -2.55038083e-03, -2.36064049e-02,\n",
              "          2.12022747e-02],\n",
              "        [ 5.80567079e-02,  2.58807109e-02,  2.39552671e-01,\n",
              "         -2.15156080e-01]]),\n",
              " array([[-4.07152628e-02,  6.69747983e-01, -3.08750015e-01,\n",
              "         -2.68165408e-01, -1.44354372e-01,  1.14720455e-01],\n",
              "        [ 1.62041287e-02,  3.43015682e-01,  4.17021910e-01,\n",
              "          6.47920943e-01,  3.76980943e-01, -2.59886232e-01],\n",
              "        [ 1.99590521e-02,  3.47469456e-02,  1.92447571e-01,\n",
              "         -5.28662132e-01,  8.48561836e-02, -8.19858147e-01],\n",
              "        [ 1.15534748e-02,  1.17022635e-01,  6.51069582e-01,\n",
              "         -1.58899084e-02, -7.43310947e-01,  9.31507169e-02],\n",
              "        [-5.05472171e-02, -6.19440271e-02, -4.92905651e-01,\n",
              "          4.76627048e-01, -5.18603781e-01, -4.88315281e-01],\n",
              "        [-3.63915393e-01,  8.56035369e-02,  1.33172966e-01,\n",
              "         -3.36386397e-02,  8.97529782e-02,  1.26373675e-03],\n",
              "        [-2.65063035e-01,  4.21720091e-02, -6.31681849e-03,\n",
              "          1.03320708e-03,  1.19973409e-03, -4.74059171e-05],\n",
              "        [-6.89902062e-01,  1.65086345e-01, -2.47277875e-02,\n",
              "          4.04458749e-03,  4.69647335e-03, -1.85574977e-04],\n",
              "        [ 5.60480073e-01,  2.61651200e-01, -3.91919469e-02,\n",
              "          6.41041007e-03,  7.44360708e-03, -2.94124358e-04],\n",
              "        [ 4.68746569e-02,  5.56972060e-01, -8.34271708e-02,\n",
              "          1.36457211e-02,  1.58450684e-02, -6.26097070e-04]])]"
            ]
          },
          "metadata": {},
          "execution_count": 193
        }
      ],
      "source": [
        "affine_a"
      ]
    },
    {
      "cell_type": "code",
      "execution_count": null,
      "metadata": {
        "id": "ehRtrBzz8s3r"
      },
      "outputs": [],
      "source": [
        "with open('output.txt', 'w+') as fp:\n",
        "  fp.write(f'{n} {m}\\n')\n",
        "  for sphere in range(m):\n",
        "    fp.write(f'{manifold_dims[sphere]} {K[sphere]} Sphere\\n')\n",
        "    if manifold_dims[sphere] == d:\n",
        "      fp.write('\\n')\n",
        "    else:\n",
        "      for i in range(affine_a[sphere].shape[1]):\n",
        "        fp.write(' '.join(affine_a[sphere][:, i].astype(str).tolist()) + '\\n')\n",
        "      fp.write(' '.join(affine_b[sphere].astype(str).tolist()) + '\\n')\n",
        "    fp.write(' '.join(manifold_corrected_center[sphere, :].astype(str).tolist()) + f' {manifold_radius[sphere]} \\n')\n",
        "    for subc in range(K[sphere]):\n",
        "      subc_points = sub_clusters[sphere][subc]\n",
        "      fp.write(f'{len(subc_points)} ')\n",
        "      fp.write(' '.join((subc_points+1).astype(str).tolist()))\n",
        "      fp.write('\\n')\n",
        "  fp.write(f'{p}')\n",
        "  if p > 0:\n",
        "    fp.write(' ' + ' '.join((outlier_ind+1).astype(str).tolist()))"
      ]
    }
  ],
  "metadata": {
    "colab": {
      "collapsed_sections": [],
      "name": "R23.ipynb",
      "provenance": []
    },
    "kernelspec": {
      "display_name": "Python 3",
      "name": "python3"
    },
    "language_info": {
      "name": "python"
    },
    "widgets": {
      "application/vnd.jupyter.widget-state+json": {
        "313c9de7a72542839e50e1f2f0ac2be9": {
          "model_module": "@jupyter-widgets/controls",
          "model_name": "HBoxModel",
          "model_module_version": "1.5.0",
          "state": {
            "_dom_classes": [],
            "_model_module": "@jupyter-widgets/controls",
            "_model_module_version": "1.5.0",
            "_model_name": "HBoxModel",
            "_view_count": null,
            "_view_module": "@jupyter-widgets/controls",
            "_view_module_version": "1.5.0",
            "_view_name": "HBoxView",
            "box_style": "",
            "children": [
              "IPY_MODEL_47d8c142bad643649eda5b3c01ca837a",
              "IPY_MODEL_40f20cd5f4b84ba38dde298b0ac6c13b",
              "IPY_MODEL_3b577c75c66b438e918815b1c92825dd"
            ],
            "layout": "IPY_MODEL_483b9d2088054f9587dbad5ce74f3dd0"
          }
        },
        "47d8c142bad643649eda5b3c01ca837a": {
          "model_module": "@jupyter-widgets/controls",
          "model_name": "HTMLModel",
          "model_module_version": "1.5.0",
          "state": {
            "_dom_classes": [],
            "_model_module": "@jupyter-widgets/controls",
            "_model_module_version": "1.5.0",
            "_model_name": "HTMLModel",
            "_view_count": null,
            "_view_module": "@jupyter-widgets/controls",
            "_view_module_version": "1.5.0",
            "_view_name": "HTMLView",
            "description": "",
            "description_tooltip": null,
            "layout": "IPY_MODEL_342a654773dd42b0982b27a71cb4ee38",
            "placeholder": "​",
            "style": "IPY_MODEL_4e4da69ba3234df4ae32012b86dd9392",
            "value": "100%"
          }
        },
        "40f20cd5f4b84ba38dde298b0ac6c13b": {
          "model_module": "@jupyter-widgets/controls",
          "model_name": "FloatProgressModel",
          "model_module_version": "1.5.0",
          "state": {
            "_dom_classes": [],
            "_model_module": "@jupyter-widgets/controls",
            "_model_module_version": "1.5.0",
            "_model_name": "FloatProgressModel",
            "_view_count": null,
            "_view_module": "@jupyter-widgets/controls",
            "_view_module_version": "1.5.0",
            "_view_name": "ProgressView",
            "bar_style": "success",
            "description": "",
            "description_tooltip": null,
            "layout": "IPY_MODEL_e98997ccafbe4aa598ba99dfddd89d02",
            "max": 8,
            "min": 0,
            "orientation": "horizontal",
            "style": "IPY_MODEL_9c3cdfe47e114d858950d48417d01ca6",
            "value": 8
          }
        },
        "3b577c75c66b438e918815b1c92825dd": {
          "model_module": "@jupyter-widgets/controls",
          "model_name": "HTMLModel",
          "model_module_version": "1.5.0",
          "state": {
            "_dom_classes": [],
            "_model_module": "@jupyter-widgets/controls",
            "_model_module_version": "1.5.0",
            "_model_name": "HTMLModel",
            "_view_count": null,
            "_view_module": "@jupyter-widgets/controls",
            "_view_module_version": "1.5.0",
            "_view_name": "HTMLView",
            "description": "",
            "description_tooltip": null,
            "layout": "IPY_MODEL_e51d06f0c54343f78175791a0d5225a4",
            "placeholder": "​",
            "style": "IPY_MODEL_a5ec5ce2f1e94ce79c41d0764013dba2",
            "value": " 8/8 [00:02&lt;00:00,  4.10it/s]"
          }
        },
        "483b9d2088054f9587dbad5ce74f3dd0": {
          "model_module": "@jupyter-widgets/base",
          "model_name": "LayoutModel",
          "model_module_version": "1.2.0",
          "state": {
            "_model_module": "@jupyter-widgets/base",
            "_model_module_version": "1.2.0",
            "_model_name": "LayoutModel",
            "_view_count": null,
            "_view_module": "@jupyter-widgets/base",
            "_view_module_version": "1.2.0",
            "_view_name": "LayoutView",
            "align_content": null,
            "align_items": null,
            "align_self": null,
            "border": null,
            "bottom": null,
            "display": null,
            "flex": null,
            "flex_flow": null,
            "grid_area": null,
            "grid_auto_columns": null,
            "grid_auto_flow": null,
            "grid_auto_rows": null,
            "grid_column": null,
            "grid_gap": null,
            "grid_row": null,
            "grid_template_areas": null,
            "grid_template_columns": null,
            "grid_template_rows": null,
            "height": null,
            "justify_content": null,
            "justify_items": null,
            "left": null,
            "margin": null,
            "max_height": null,
            "max_width": null,
            "min_height": null,
            "min_width": null,
            "object_fit": null,
            "object_position": null,
            "order": null,
            "overflow": null,
            "overflow_x": null,
            "overflow_y": null,
            "padding": null,
            "right": null,
            "top": null,
            "visibility": null,
            "width": null
          }
        },
        "342a654773dd42b0982b27a71cb4ee38": {
          "model_module": "@jupyter-widgets/base",
          "model_name": "LayoutModel",
          "model_module_version": "1.2.0",
          "state": {
            "_model_module": "@jupyter-widgets/base",
            "_model_module_version": "1.2.0",
            "_model_name": "LayoutModel",
            "_view_count": null,
            "_view_module": "@jupyter-widgets/base",
            "_view_module_version": "1.2.0",
            "_view_name": "LayoutView",
            "align_content": null,
            "align_items": null,
            "align_self": null,
            "border": null,
            "bottom": null,
            "display": null,
            "flex": null,
            "flex_flow": null,
            "grid_area": null,
            "grid_auto_columns": null,
            "grid_auto_flow": null,
            "grid_auto_rows": null,
            "grid_column": null,
            "grid_gap": null,
            "grid_row": null,
            "grid_template_areas": null,
            "grid_template_columns": null,
            "grid_template_rows": null,
            "height": null,
            "justify_content": null,
            "justify_items": null,
            "left": null,
            "margin": null,
            "max_height": null,
            "max_width": null,
            "min_height": null,
            "min_width": null,
            "object_fit": null,
            "object_position": null,
            "order": null,
            "overflow": null,
            "overflow_x": null,
            "overflow_y": null,
            "padding": null,
            "right": null,
            "top": null,
            "visibility": null,
            "width": null
          }
        },
        "4e4da69ba3234df4ae32012b86dd9392": {
          "model_module": "@jupyter-widgets/controls",
          "model_name": "DescriptionStyleModel",
          "model_module_version": "1.5.0",
          "state": {
            "_model_module": "@jupyter-widgets/controls",
            "_model_module_version": "1.5.0",
            "_model_name": "DescriptionStyleModel",
            "_view_count": null,
            "_view_module": "@jupyter-widgets/base",
            "_view_module_version": "1.2.0",
            "_view_name": "StyleView",
            "description_width": ""
          }
        },
        "e98997ccafbe4aa598ba99dfddd89d02": {
          "model_module": "@jupyter-widgets/base",
          "model_name": "LayoutModel",
          "model_module_version": "1.2.0",
          "state": {
            "_model_module": "@jupyter-widgets/base",
            "_model_module_version": "1.2.0",
            "_model_name": "LayoutModel",
            "_view_count": null,
            "_view_module": "@jupyter-widgets/base",
            "_view_module_version": "1.2.0",
            "_view_name": "LayoutView",
            "align_content": null,
            "align_items": null,
            "align_self": null,
            "border": null,
            "bottom": null,
            "display": null,
            "flex": null,
            "flex_flow": null,
            "grid_area": null,
            "grid_auto_columns": null,
            "grid_auto_flow": null,
            "grid_auto_rows": null,
            "grid_column": null,
            "grid_gap": null,
            "grid_row": null,
            "grid_template_areas": null,
            "grid_template_columns": null,
            "grid_template_rows": null,
            "height": null,
            "justify_content": null,
            "justify_items": null,
            "left": null,
            "margin": null,
            "max_height": null,
            "max_width": null,
            "min_height": null,
            "min_width": null,
            "object_fit": null,
            "object_position": null,
            "order": null,
            "overflow": null,
            "overflow_x": null,
            "overflow_y": null,
            "padding": null,
            "right": null,
            "top": null,
            "visibility": null,
            "width": null
          }
        },
        "9c3cdfe47e114d858950d48417d01ca6": {
          "model_module": "@jupyter-widgets/controls",
          "model_name": "ProgressStyleModel",
          "model_module_version": "1.5.0",
          "state": {
            "_model_module": "@jupyter-widgets/controls",
            "_model_module_version": "1.5.0",
            "_model_name": "ProgressStyleModel",
            "_view_count": null,
            "_view_module": "@jupyter-widgets/base",
            "_view_module_version": "1.2.0",
            "_view_name": "StyleView",
            "bar_color": null,
            "description_width": ""
          }
        },
        "e51d06f0c54343f78175791a0d5225a4": {
          "model_module": "@jupyter-widgets/base",
          "model_name": "LayoutModel",
          "model_module_version": "1.2.0",
          "state": {
            "_model_module": "@jupyter-widgets/base",
            "_model_module_version": "1.2.0",
            "_model_name": "LayoutModel",
            "_view_count": null,
            "_view_module": "@jupyter-widgets/base",
            "_view_module_version": "1.2.0",
            "_view_name": "LayoutView",
            "align_content": null,
            "align_items": null,
            "align_self": null,
            "border": null,
            "bottom": null,
            "display": null,
            "flex": null,
            "flex_flow": null,
            "grid_area": null,
            "grid_auto_columns": null,
            "grid_auto_flow": null,
            "grid_auto_rows": null,
            "grid_column": null,
            "grid_gap": null,
            "grid_row": null,
            "grid_template_areas": null,
            "grid_template_columns": null,
            "grid_template_rows": null,
            "height": null,
            "justify_content": null,
            "justify_items": null,
            "left": null,
            "margin": null,
            "max_height": null,
            "max_width": null,
            "min_height": null,
            "min_width": null,
            "object_fit": null,
            "object_position": null,
            "order": null,
            "overflow": null,
            "overflow_x": null,
            "overflow_y": null,
            "padding": null,
            "right": null,
            "top": null,
            "visibility": null,
            "width": null
          }
        },
        "a5ec5ce2f1e94ce79c41d0764013dba2": {
          "model_module": "@jupyter-widgets/controls",
          "model_name": "DescriptionStyleModel",
          "model_module_version": "1.5.0",
          "state": {
            "_model_module": "@jupyter-widgets/controls",
            "_model_module_version": "1.5.0",
            "_model_name": "DescriptionStyleModel",
            "_view_count": null,
            "_view_module": "@jupyter-widgets/base",
            "_view_module_version": "1.2.0",
            "_view_name": "StyleView",
            "description_width": ""
          }
        },
        "38571b9d408945bd84ef183a66ccb9f9": {
          "model_module": "@jupyter-widgets/controls",
          "model_name": "HBoxModel",
          "model_module_version": "1.5.0",
          "state": {
            "_dom_classes": [],
            "_model_module": "@jupyter-widgets/controls",
            "_model_module_version": "1.5.0",
            "_model_name": "HBoxModel",
            "_view_count": null,
            "_view_module": "@jupyter-widgets/controls",
            "_view_module_version": "1.5.0",
            "_view_name": "HBoxView",
            "box_style": "",
            "children": [
              "IPY_MODEL_a85b35c92e754d72a9cae5a6fa5a1d68",
              "IPY_MODEL_4295858eb078473eb02c5f2897174b7c",
              "IPY_MODEL_d39a50acf19f479dae20d73be1d1053a"
            ],
            "layout": "IPY_MODEL_95a2afb98a1a4a678ef4cc96ff76ed12"
          }
        },
        "a85b35c92e754d72a9cae5a6fa5a1d68": {
          "model_module": "@jupyter-widgets/controls",
          "model_name": "HTMLModel",
          "model_module_version": "1.5.0",
          "state": {
            "_dom_classes": [],
            "_model_module": "@jupyter-widgets/controls",
            "_model_module_version": "1.5.0",
            "_model_name": "HTMLModel",
            "_view_count": null,
            "_view_module": "@jupyter-widgets/controls",
            "_view_module_version": "1.5.0",
            "_view_name": "HTMLView",
            "description": "",
            "description_tooltip": null,
            "layout": "IPY_MODEL_ae3cf24509264d79aa68664e8eb31f3d",
            "placeholder": "​",
            "style": "IPY_MODEL_fa70dd1e27b2409e9fa24dda435cceb0",
            "value": "100%"
          }
        },
        "4295858eb078473eb02c5f2897174b7c": {
          "model_module": "@jupyter-widgets/controls",
          "model_name": "FloatProgressModel",
          "model_module_version": "1.5.0",
          "state": {
            "_dom_classes": [],
            "_model_module": "@jupyter-widgets/controls",
            "_model_module_version": "1.5.0",
            "_model_name": "FloatProgressModel",
            "_view_count": null,
            "_view_module": "@jupyter-widgets/controls",
            "_view_module_version": "1.5.0",
            "_view_name": "ProgressView",
            "bar_style": "success",
            "description": "",
            "description_tooltip": null,
            "layout": "IPY_MODEL_70dad73fd2c84e65885d042dca69bd1e",
            "max": 8,
            "min": 0,
            "orientation": "horizontal",
            "style": "IPY_MODEL_ca8e93e3c7614414b606299ac2140c21",
            "value": 8
          }
        },
        "d39a50acf19f479dae20d73be1d1053a": {
          "model_module": "@jupyter-widgets/controls",
          "model_name": "HTMLModel",
          "model_module_version": "1.5.0",
          "state": {
            "_dom_classes": [],
            "_model_module": "@jupyter-widgets/controls",
            "_model_module_version": "1.5.0",
            "_model_name": "HTMLModel",
            "_view_count": null,
            "_view_module": "@jupyter-widgets/controls",
            "_view_module_version": "1.5.0",
            "_view_name": "HTMLView",
            "description": "",
            "description_tooltip": null,
            "layout": "IPY_MODEL_97cd87d51e2a44a69fbb92e110b7621b",
            "placeholder": "​",
            "style": "IPY_MODEL_3aa9377288c44b678dccd6442877811d",
            "value": " 8/8 [01:31&lt;00:00,  9.60s/it]"
          }
        },
        "95a2afb98a1a4a678ef4cc96ff76ed12": {
          "model_module": "@jupyter-widgets/base",
          "model_name": "LayoutModel",
          "model_module_version": "1.2.0",
          "state": {
            "_model_module": "@jupyter-widgets/base",
            "_model_module_version": "1.2.0",
            "_model_name": "LayoutModel",
            "_view_count": null,
            "_view_module": "@jupyter-widgets/base",
            "_view_module_version": "1.2.0",
            "_view_name": "LayoutView",
            "align_content": null,
            "align_items": null,
            "align_self": null,
            "border": null,
            "bottom": null,
            "display": null,
            "flex": null,
            "flex_flow": null,
            "grid_area": null,
            "grid_auto_columns": null,
            "grid_auto_flow": null,
            "grid_auto_rows": null,
            "grid_column": null,
            "grid_gap": null,
            "grid_row": null,
            "grid_template_areas": null,
            "grid_template_columns": null,
            "grid_template_rows": null,
            "height": null,
            "justify_content": null,
            "justify_items": null,
            "left": null,
            "margin": null,
            "max_height": null,
            "max_width": null,
            "min_height": null,
            "min_width": null,
            "object_fit": null,
            "object_position": null,
            "order": null,
            "overflow": null,
            "overflow_x": null,
            "overflow_y": null,
            "padding": null,
            "right": null,
            "top": null,
            "visibility": null,
            "width": null
          }
        },
        "ae3cf24509264d79aa68664e8eb31f3d": {
          "model_module": "@jupyter-widgets/base",
          "model_name": "LayoutModel",
          "model_module_version": "1.2.0",
          "state": {
            "_model_module": "@jupyter-widgets/base",
            "_model_module_version": "1.2.0",
            "_model_name": "LayoutModel",
            "_view_count": null,
            "_view_module": "@jupyter-widgets/base",
            "_view_module_version": "1.2.0",
            "_view_name": "LayoutView",
            "align_content": null,
            "align_items": null,
            "align_self": null,
            "border": null,
            "bottom": null,
            "display": null,
            "flex": null,
            "flex_flow": null,
            "grid_area": null,
            "grid_auto_columns": null,
            "grid_auto_flow": null,
            "grid_auto_rows": null,
            "grid_column": null,
            "grid_gap": null,
            "grid_row": null,
            "grid_template_areas": null,
            "grid_template_columns": null,
            "grid_template_rows": null,
            "height": null,
            "justify_content": null,
            "justify_items": null,
            "left": null,
            "margin": null,
            "max_height": null,
            "max_width": null,
            "min_height": null,
            "min_width": null,
            "object_fit": null,
            "object_position": null,
            "order": null,
            "overflow": null,
            "overflow_x": null,
            "overflow_y": null,
            "padding": null,
            "right": null,
            "top": null,
            "visibility": null,
            "width": null
          }
        },
        "fa70dd1e27b2409e9fa24dda435cceb0": {
          "model_module": "@jupyter-widgets/controls",
          "model_name": "DescriptionStyleModel",
          "model_module_version": "1.5.0",
          "state": {
            "_model_module": "@jupyter-widgets/controls",
            "_model_module_version": "1.5.0",
            "_model_name": "DescriptionStyleModel",
            "_view_count": null,
            "_view_module": "@jupyter-widgets/base",
            "_view_module_version": "1.2.0",
            "_view_name": "StyleView",
            "description_width": ""
          }
        },
        "70dad73fd2c84e65885d042dca69bd1e": {
          "model_module": "@jupyter-widgets/base",
          "model_name": "LayoutModel",
          "model_module_version": "1.2.0",
          "state": {
            "_model_module": "@jupyter-widgets/base",
            "_model_module_version": "1.2.0",
            "_model_name": "LayoutModel",
            "_view_count": null,
            "_view_module": "@jupyter-widgets/base",
            "_view_module_version": "1.2.0",
            "_view_name": "LayoutView",
            "align_content": null,
            "align_items": null,
            "align_self": null,
            "border": null,
            "bottom": null,
            "display": null,
            "flex": null,
            "flex_flow": null,
            "grid_area": null,
            "grid_auto_columns": null,
            "grid_auto_flow": null,
            "grid_auto_rows": null,
            "grid_column": null,
            "grid_gap": null,
            "grid_row": null,
            "grid_template_areas": null,
            "grid_template_columns": null,
            "grid_template_rows": null,
            "height": null,
            "justify_content": null,
            "justify_items": null,
            "left": null,
            "margin": null,
            "max_height": null,
            "max_width": null,
            "min_height": null,
            "min_width": null,
            "object_fit": null,
            "object_position": null,
            "order": null,
            "overflow": null,
            "overflow_x": null,
            "overflow_y": null,
            "padding": null,
            "right": null,
            "top": null,
            "visibility": null,
            "width": null
          }
        },
        "ca8e93e3c7614414b606299ac2140c21": {
          "model_module": "@jupyter-widgets/controls",
          "model_name": "ProgressStyleModel",
          "model_module_version": "1.5.0",
          "state": {
            "_model_module": "@jupyter-widgets/controls",
            "_model_module_version": "1.5.0",
            "_model_name": "ProgressStyleModel",
            "_view_count": null,
            "_view_module": "@jupyter-widgets/base",
            "_view_module_version": "1.2.0",
            "_view_name": "StyleView",
            "bar_color": null,
            "description_width": ""
          }
        },
        "97cd87d51e2a44a69fbb92e110b7621b": {
          "model_module": "@jupyter-widgets/base",
          "model_name": "LayoutModel",
          "model_module_version": "1.2.0",
          "state": {
            "_model_module": "@jupyter-widgets/base",
            "_model_module_version": "1.2.0",
            "_model_name": "LayoutModel",
            "_view_count": null,
            "_view_module": "@jupyter-widgets/base",
            "_view_module_version": "1.2.0",
            "_view_name": "LayoutView",
            "align_content": null,
            "align_items": null,
            "align_self": null,
            "border": null,
            "bottom": null,
            "display": null,
            "flex": null,
            "flex_flow": null,
            "grid_area": null,
            "grid_auto_columns": null,
            "grid_auto_flow": null,
            "grid_auto_rows": null,
            "grid_column": null,
            "grid_gap": null,
            "grid_row": null,
            "grid_template_areas": null,
            "grid_template_columns": null,
            "grid_template_rows": null,
            "height": null,
            "justify_content": null,
            "justify_items": null,
            "left": null,
            "margin": null,
            "max_height": null,
            "max_width": null,
            "min_height": null,
            "min_width": null,
            "object_fit": null,
            "object_position": null,
            "order": null,
            "overflow": null,
            "overflow_x": null,
            "overflow_y": null,
            "padding": null,
            "right": null,
            "top": null,
            "visibility": null,
            "width": null
          }
        },
        "3aa9377288c44b678dccd6442877811d": {
          "model_module": "@jupyter-widgets/controls",
          "model_name": "DescriptionStyleModel",
          "model_module_version": "1.5.0",
          "state": {
            "_model_module": "@jupyter-widgets/controls",
            "_model_module_version": "1.5.0",
            "_model_name": "DescriptionStyleModel",
            "_view_count": null,
            "_view_module": "@jupyter-widgets/base",
            "_view_module_version": "1.2.0",
            "_view_name": "StyleView",
            "description_width": ""
          }
        },
        "ace6d3564f704e4c86853fee7227a573": {
          "model_module": "@jupyter-widgets/controls",
          "model_name": "HBoxModel",
          "model_module_version": "1.5.0",
          "state": {
            "_dom_classes": [],
            "_model_module": "@jupyter-widgets/controls",
            "_model_module_version": "1.5.0",
            "_model_name": "HBoxModel",
            "_view_count": null,
            "_view_module": "@jupyter-widgets/controls",
            "_view_module_version": "1.5.0",
            "_view_name": "HBoxView",
            "box_style": "",
            "children": [
              "IPY_MODEL_a9e0d2921d7746118b0a278b626136b4",
              "IPY_MODEL_eb6bff7e35864110b3a81f43151d427d",
              "IPY_MODEL_1ef468697abe4e2abfca50ed3be72b27"
            ],
            "layout": "IPY_MODEL_abccc196bc41497faf9bd7b9440b37e4"
          }
        },
        "a9e0d2921d7746118b0a278b626136b4": {
          "model_module": "@jupyter-widgets/controls",
          "model_name": "HTMLModel",
          "model_module_version": "1.5.0",
          "state": {
            "_dom_classes": [],
            "_model_module": "@jupyter-widgets/controls",
            "_model_module_version": "1.5.0",
            "_model_name": "HTMLModel",
            "_view_count": null,
            "_view_module": "@jupyter-widgets/controls",
            "_view_module_version": "1.5.0",
            "_view_name": "HTMLView",
            "description": "",
            "description_tooltip": null,
            "layout": "IPY_MODEL_2f237587ed464c86a7e9198a67b2b2ee",
            "placeholder": "​",
            "style": "IPY_MODEL_589e83dea2cd4b0f8cb71a7454dbb227",
            "value": "100%"
          }
        },
        "eb6bff7e35864110b3a81f43151d427d": {
          "model_module": "@jupyter-widgets/controls",
          "model_name": "FloatProgressModel",
          "model_module_version": "1.5.0",
          "state": {
            "_dom_classes": [],
            "_model_module": "@jupyter-widgets/controls",
            "_model_module_version": "1.5.0",
            "_model_name": "FloatProgressModel",
            "_view_count": null,
            "_view_module": "@jupyter-widgets/controls",
            "_view_module_version": "1.5.0",
            "_view_name": "ProgressView",
            "bar_style": "success",
            "description": "",
            "description_tooltip": null,
            "layout": "IPY_MODEL_ef00d3aac7bb4f95bb51de9269a8e103",
            "max": 8,
            "min": 0,
            "orientation": "horizontal",
            "style": "IPY_MODEL_48f9754e8b5647a288c82a44ab8d23a3",
            "value": 8
          }
        },
        "1ef468697abe4e2abfca50ed3be72b27": {
          "model_module": "@jupyter-widgets/controls",
          "model_name": "HTMLModel",
          "model_module_version": "1.5.0",
          "state": {
            "_dom_classes": [],
            "_model_module": "@jupyter-widgets/controls",
            "_model_module_version": "1.5.0",
            "_model_name": "HTMLModel",
            "_view_count": null,
            "_view_module": "@jupyter-widgets/controls",
            "_view_module_version": "1.5.0",
            "_view_name": "HTMLView",
            "description": "",
            "description_tooltip": null,
            "layout": "IPY_MODEL_c52d72dd029d4a6d80b139683a349193",
            "placeholder": "​",
            "style": "IPY_MODEL_4326ddd909604482b6ba17e50dc38c58",
            "value": " 8/8 [00:09&lt;00:00,  1.12s/it]"
          }
        },
        "abccc196bc41497faf9bd7b9440b37e4": {
          "model_module": "@jupyter-widgets/base",
          "model_name": "LayoutModel",
          "model_module_version": "1.2.0",
          "state": {
            "_model_module": "@jupyter-widgets/base",
            "_model_module_version": "1.2.0",
            "_model_name": "LayoutModel",
            "_view_count": null,
            "_view_module": "@jupyter-widgets/base",
            "_view_module_version": "1.2.0",
            "_view_name": "LayoutView",
            "align_content": null,
            "align_items": null,
            "align_self": null,
            "border": null,
            "bottom": null,
            "display": null,
            "flex": null,
            "flex_flow": null,
            "grid_area": null,
            "grid_auto_columns": null,
            "grid_auto_flow": null,
            "grid_auto_rows": null,
            "grid_column": null,
            "grid_gap": null,
            "grid_row": null,
            "grid_template_areas": null,
            "grid_template_columns": null,
            "grid_template_rows": null,
            "height": null,
            "justify_content": null,
            "justify_items": null,
            "left": null,
            "margin": null,
            "max_height": null,
            "max_width": null,
            "min_height": null,
            "min_width": null,
            "object_fit": null,
            "object_position": null,
            "order": null,
            "overflow": null,
            "overflow_x": null,
            "overflow_y": null,
            "padding": null,
            "right": null,
            "top": null,
            "visibility": null,
            "width": null
          }
        },
        "2f237587ed464c86a7e9198a67b2b2ee": {
          "model_module": "@jupyter-widgets/base",
          "model_name": "LayoutModel",
          "model_module_version": "1.2.0",
          "state": {
            "_model_module": "@jupyter-widgets/base",
            "_model_module_version": "1.2.0",
            "_model_name": "LayoutModel",
            "_view_count": null,
            "_view_module": "@jupyter-widgets/base",
            "_view_module_version": "1.2.0",
            "_view_name": "LayoutView",
            "align_content": null,
            "align_items": null,
            "align_self": null,
            "border": null,
            "bottom": null,
            "display": null,
            "flex": null,
            "flex_flow": null,
            "grid_area": null,
            "grid_auto_columns": null,
            "grid_auto_flow": null,
            "grid_auto_rows": null,
            "grid_column": null,
            "grid_gap": null,
            "grid_row": null,
            "grid_template_areas": null,
            "grid_template_columns": null,
            "grid_template_rows": null,
            "height": null,
            "justify_content": null,
            "justify_items": null,
            "left": null,
            "margin": null,
            "max_height": null,
            "max_width": null,
            "min_height": null,
            "min_width": null,
            "object_fit": null,
            "object_position": null,
            "order": null,
            "overflow": null,
            "overflow_x": null,
            "overflow_y": null,
            "padding": null,
            "right": null,
            "top": null,
            "visibility": null,
            "width": null
          }
        },
        "589e83dea2cd4b0f8cb71a7454dbb227": {
          "model_module": "@jupyter-widgets/controls",
          "model_name": "DescriptionStyleModel",
          "model_module_version": "1.5.0",
          "state": {
            "_model_module": "@jupyter-widgets/controls",
            "_model_module_version": "1.5.0",
            "_model_name": "DescriptionStyleModel",
            "_view_count": null,
            "_view_module": "@jupyter-widgets/base",
            "_view_module_version": "1.2.0",
            "_view_name": "StyleView",
            "description_width": ""
          }
        },
        "ef00d3aac7bb4f95bb51de9269a8e103": {
          "model_module": "@jupyter-widgets/base",
          "model_name": "LayoutModel",
          "model_module_version": "1.2.0",
          "state": {
            "_model_module": "@jupyter-widgets/base",
            "_model_module_version": "1.2.0",
            "_model_name": "LayoutModel",
            "_view_count": null,
            "_view_module": "@jupyter-widgets/base",
            "_view_module_version": "1.2.0",
            "_view_name": "LayoutView",
            "align_content": null,
            "align_items": null,
            "align_self": null,
            "border": null,
            "bottom": null,
            "display": null,
            "flex": null,
            "flex_flow": null,
            "grid_area": null,
            "grid_auto_columns": null,
            "grid_auto_flow": null,
            "grid_auto_rows": null,
            "grid_column": null,
            "grid_gap": null,
            "grid_row": null,
            "grid_template_areas": null,
            "grid_template_columns": null,
            "grid_template_rows": null,
            "height": null,
            "justify_content": null,
            "justify_items": null,
            "left": null,
            "margin": null,
            "max_height": null,
            "max_width": null,
            "min_height": null,
            "min_width": null,
            "object_fit": null,
            "object_position": null,
            "order": null,
            "overflow": null,
            "overflow_x": null,
            "overflow_y": null,
            "padding": null,
            "right": null,
            "top": null,
            "visibility": null,
            "width": null
          }
        },
        "48f9754e8b5647a288c82a44ab8d23a3": {
          "model_module": "@jupyter-widgets/controls",
          "model_name": "ProgressStyleModel",
          "model_module_version": "1.5.0",
          "state": {
            "_model_module": "@jupyter-widgets/controls",
            "_model_module_version": "1.5.0",
            "_model_name": "ProgressStyleModel",
            "_view_count": null,
            "_view_module": "@jupyter-widgets/base",
            "_view_module_version": "1.2.0",
            "_view_name": "StyleView",
            "bar_color": null,
            "description_width": ""
          }
        },
        "c52d72dd029d4a6d80b139683a349193": {
          "model_module": "@jupyter-widgets/base",
          "model_name": "LayoutModel",
          "model_module_version": "1.2.0",
          "state": {
            "_model_module": "@jupyter-widgets/base",
            "_model_module_version": "1.2.0",
            "_model_name": "LayoutModel",
            "_view_count": null,
            "_view_module": "@jupyter-widgets/base",
            "_view_module_version": "1.2.0",
            "_view_name": "LayoutView",
            "align_content": null,
            "align_items": null,
            "align_self": null,
            "border": null,
            "bottom": null,
            "display": null,
            "flex": null,
            "flex_flow": null,
            "grid_area": null,
            "grid_auto_columns": null,
            "grid_auto_flow": null,
            "grid_auto_rows": null,
            "grid_column": null,
            "grid_gap": null,
            "grid_row": null,
            "grid_template_areas": null,
            "grid_template_columns": null,
            "grid_template_rows": null,
            "height": null,
            "justify_content": null,
            "justify_items": null,
            "left": null,
            "margin": null,
            "max_height": null,
            "max_width": null,
            "min_height": null,
            "min_width": null,
            "object_fit": null,
            "object_position": null,
            "order": null,
            "overflow": null,
            "overflow_x": null,
            "overflow_y": null,
            "padding": null,
            "right": null,
            "top": null,
            "visibility": null,
            "width": null
          }
        },
        "4326ddd909604482b6ba17e50dc38c58": {
          "model_module": "@jupyter-widgets/controls",
          "model_name": "DescriptionStyleModel",
          "model_module_version": "1.5.0",
          "state": {
            "_model_module": "@jupyter-widgets/controls",
            "_model_module_version": "1.5.0",
            "_model_name": "DescriptionStyleModel",
            "_view_count": null,
            "_view_module": "@jupyter-widgets/base",
            "_view_module_version": "1.2.0",
            "_view_name": "StyleView",
            "description_width": ""
          }
        },
        "223d04968941466396a6e047a3952789": {
          "model_module": "@jupyter-widgets/controls",
          "model_name": "HBoxModel",
          "model_module_version": "1.5.0",
          "state": {
            "_dom_classes": [],
            "_model_module": "@jupyter-widgets/controls",
            "_model_module_version": "1.5.0",
            "_model_name": "HBoxModel",
            "_view_count": null,
            "_view_module": "@jupyter-widgets/controls",
            "_view_module_version": "1.5.0",
            "_view_name": "HBoxView",
            "box_style": "",
            "children": [
              "IPY_MODEL_73735d05ba984d5abb26c0bea78a3f39",
              "IPY_MODEL_17352fdd321d48838254a87355943eb9",
              "IPY_MODEL_1a40c88fd13c4bc88a3994be51566843"
            ],
            "layout": "IPY_MODEL_56774cda822e471a8e5dd88747bae335"
          }
        },
        "73735d05ba984d5abb26c0bea78a3f39": {
          "model_module": "@jupyter-widgets/controls",
          "model_name": "HTMLModel",
          "model_module_version": "1.5.0",
          "state": {
            "_dom_classes": [],
            "_model_module": "@jupyter-widgets/controls",
            "_model_module_version": "1.5.0",
            "_model_name": "HTMLModel",
            "_view_count": null,
            "_view_module": "@jupyter-widgets/controls",
            "_view_module_version": "1.5.0",
            "_view_name": "HTMLView",
            "description": "",
            "description_tooltip": null,
            "layout": "IPY_MODEL_5f0562388af3475498196773b86a0447",
            "placeholder": "​",
            "style": "IPY_MODEL_8f0a4f8c597f4a27848cab718171f2f4",
            "value": "100%"
          }
        },
        "17352fdd321d48838254a87355943eb9": {
          "model_module": "@jupyter-widgets/controls",
          "model_name": "FloatProgressModel",
          "model_module_version": "1.5.0",
          "state": {
            "_dom_classes": [],
            "_model_module": "@jupyter-widgets/controls",
            "_model_module_version": "1.5.0",
            "_model_name": "FloatProgressModel",
            "_view_count": null,
            "_view_module": "@jupyter-widgets/controls",
            "_view_module_version": "1.5.0",
            "_view_name": "ProgressView",
            "bar_style": "success",
            "description": "",
            "description_tooltip": null,
            "layout": "IPY_MODEL_eccf479550684c38b3ba4ccddf695980",
            "max": 8,
            "min": 0,
            "orientation": "horizontal",
            "style": "IPY_MODEL_00eb6fb66be34b1a82044fc3b47fe30b",
            "value": 8
          }
        },
        "1a40c88fd13c4bc88a3994be51566843": {
          "model_module": "@jupyter-widgets/controls",
          "model_name": "HTMLModel",
          "model_module_version": "1.5.0",
          "state": {
            "_dom_classes": [],
            "_model_module": "@jupyter-widgets/controls",
            "_model_module_version": "1.5.0",
            "_model_name": "HTMLModel",
            "_view_count": null,
            "_view_module": "@jupyter-widgets/controls",
            "_view_module_version": "1.5.0",
            "_view_name": "HTMLView",
            "description": "",
            "description_tooltip": null,
            "layout": "IPY_MODEL_4b0037a59ee1482da495a07158fecc6a",
            "placeholder": "​",
            "style": "IPY_MODEL_db475d4e03464f219f29c50f50b77d4e",
            "value": " 8/8 [07:15&lt;00:00, 52.56s/it]"
          }
        },
        "56774cda822e471a8e5dd88747bae335": {
          "model_module": "@jupyter-widgets/base",
          "model_name": "LayoutModel",
          "model_module_version": "1.2.0",
          "state": {
            "_model_module": "@jupyter-widgets/base",
            "_model_module_version": "1.2.0",
            "_model_name": "LayoutModel",
            "_view_count": null,
            "_view_module": "@jupyter-widgets/base",
            "_view_module_version": "1.2.0",
            "_view_name": "LayoutView",
            "align_content": null,
            "align_items": null,
            "align_self": null,
            "border": null,
            "bottom": null,
            "display": null,
            "flex": null,
            "flex_flow": null,
            "grid_area": null,
            "grid_auto_columns": null,
            "grid_auto_flow": null,
            "grid_auto_rows": null,
            "grid_column": null,
            "grid_gap": null,
            "grid_row": null,
            "grid_template_areas": null,
            "grid_template_columns": null,
            "grid_template_rows": null,
            "height": null,
            "justify_content": null,
            "justify_items": null,
            "left": null,
            "margin": null,
            "max_height": null,
            "max_width": null,
            "min_height": null,
            "min_width": null,
            "object_fit": null,
            "object_position": null,
            "order": null,
            "overflow": null,
            "overflow_x": null,
            "overflow_y": null,
            "padding": null,
            "right": null,
            "top": null,
            "visibility": null,
            "width": null
          }
        },
        "5f0562388af3475498196773b86a0447": {
          "model_module": "@jupyter-widgets/base",
          "model_name": "LayoutModel",
          "model_module_version": "1.2.0",
          "state": {
            "_model_module": "@jupyter-widgets/base",
            "_model_module_version": "1.2.0",
            "_model_name": "LayoutModel",
            "_view_count": null,
            "_view_module": "@jupyter-widgets/base",
            "_view_module_version": "1.2.0",
            "_view_name": "LayoutView",
            "align_content": null,
            "align_items": null,
            "align_self": null,
            "border": null,
            "bottom": null,
            "display": null,
            "flex": null,
            "flex_flow": null,
            "grid_area": null,
            "grid_auto_columns": null,
            "grid_auto_flow": null,
            "grid_auto_rows": null,
            "grid_column": null,
            "grid_gap": null,
            "grid_row": null,
            "grid_template_areas": null,
            "grid_template_columns": null,
            "grid_template_rows": null,
            "height": null,
            "justify_content": null,
            "justify_items": null,
            "left": null,
            "margin": null,
            "max_height": null,
            "max_width": null,
            "min_height": null,
            "min_width": null,
            "object_fit": null,
            "object_position": null,
            "order": null,
            "overflow": null,
            "overflow_x": null,
            "overflow_y": null,
            "padding": null,
            "right": null,
            "top": null,
            "visibility": null,
            "width": null
          }
        },
        "8f0a4f8c597f4a27848cab718171f2f4": {
          "model_module": "@jupyter-widgets/controls",
          "model_name": "DescriptionStyleModel",
          "model_module_version": "1.5.0",
          "state": {
            "_model_module": "@jupyter-widgets/controls",
            "_model_module_version": "1.5.0",
            "_model_name": "DescriptionStyleModel",
            "_view_count": null,
            "_view_module": "@jupyter-widgets/base",
            "_view_module_version": "1.2.0",
            "_view_name": "StyleView",
            "description_width": ""
          }
        },
        "eccf479550684c38b3ba4ccddf695980": {
          "model_module": "@jupyter-widgets/base",
          "model_name": "LayoutModel",
          "model_module_version": "1.2.0",
          "state": {
            "_model_module": "@jupyter-widgets/base",
            "_model_module_version": "1.2.0",
            "_model_name": "LayoutModel",
            "_view_count": null,
            "_view_module": "@jupyter-widgets/base",
            "_view_module_version": "1.2.0",
            "_view_name": "LayoutView",
            "align_content": null,
            "align_items": null,
            "align_self": null,
            "border": null,
            "bottom": null,
            "display": null,
            "flex": null,
            "flex_flow": null,
            "grid_area": null,
            "grid_auto_columns": null,
            "grid_auto_flow": null,
            "grid_auto_rows": null,
            "grid_column": null,
            "grid_gap": null,
            "grid_row": null,
            "grid_template_areas": null,
            "grid_template_columns": null,
            "grid_template_rows": null,
            "height": null,
            "justify_content": null,
            "justify_items": null,
            "left": null,
            "margin": null,
            "max_height": null,
            "max_width": null,
            "min_height": null,
            "min_width": null,
            "object_fit": null,
            "object_position": null,
            "order": null,
            "overflow": null,
            "overflow_x": null,
            "overflow_y": null,
            "padding": null,
            "right": null,
            "top": null,
            "visibility": null,
            "width": null
          }
        },
        "00eb6fb66be34b1a82044fc3b47fe30b": {
          "model_module": "@jupyter-widgets/controls",
          "model_name": "ProgressStyleModel",
          "model_module_version": "1.5.0",
          "state": {
            "_model_module": "@jupyter-widgets/controls",
            "_model_module_version": "1.5.0",
            "_model_name": "ProgressStyleModel",
            "_view_count": null,
            "_view_module": "@jupyter-widgets/base",
            "_view_module_version": "1.2.0",
            "_view_name": "StyleView",
            "bar_color": null,
            "description_width": ""
          }
        },
        "4b0037a59ee1482da495a07158fecc6a": {
          "model_module": "@jupyter-widgets/base",
          "model_name": "LayoutModel",
          "model_module_version": "1.2.0",
          "state": {
            "_model_module": "@jupyter-widgets/base",
            "_model_module_version": "1.2.0",
            "_model_name": "LayoutModel",
            "_view_count": null,
            "_view_module": "@jupyter-widgets/base",
            "_view_module_version": "1.2.0",
            "_view_name": "LayoutView",
            "align_content": null,
            "align_items": null,
            "align_self": null,
            "border": null,
            "bottom": null,
            "display": null,
            "flex": null,
            "flex_flow": null,
            "grid_area": null,
            "grid_auto_columns": null,
            "grid_auto_flow": null,
            "grid_auto_rows": null,
            "grid_column": null,
            "grid_gap": null,
            "grid_row": null,
            "grid_template_areas": null,
            "grid_template_columns": null,
            "grid_template_rows": null,
            "height": null,
            "justify_content": null,
            "justify_items": null,
            "left": null,
            "margin": null,
            "max_height": null,
            "max_width": null,
            "min_height": null,
            "min_width": null,
            "object_fit": null,
            "object_position": null,
            "order": null,
            "overflow": null,
            "overflow_x": null,
            "overflow_y": null,
            "padding": null,
            "right": null,
            "top": null,
            "visibility": null,
            "width": null
          }
        },
        "db475d4e03464f219f29c50f50b77d4e": {
          "model_module": "@jupyter-widgets/controls",
          "model_name": "DescriptionStyleModel",
          "model_module_version": "1.5.0",
          "state": {
            "_model_module": "@jupyter-widgets/controls",
            "_model_module_version": "1.5.0",
            "_model_name": "DescriptionStyleModel",
            "_view_count": null,
            "_view_module": "@jupyter-widgets/base",
            "_view_module_version": "1.2.0",
            "_view_name": "StyleView",
            "description_width": ""
          }
        },
        "5446b4fe48f94d6485b44ae38636c406": {
          "model_module": "@jupyter-widgets/controls",
          "model_name": "HBoxModel",
          "model_module_version": "1.5.0",
          "state": {
            "_dom_classes": [],
            "_model_module": "@jupyter-widgets/controls",
            "_model_module_version": "1.5.0",
            "_model_name": "HBoxModel",
            "_view_count": null,
            "_view_module": "@jupyter-widgets/controls",
            "_view_module_version": "1.5.0",
            "_view_name": "HBoxView",
            "box_style": "",
            "children": [
              "IPY_MODEL_07d3d01481974140a482389b0b0f80a9",
              "IPY_MODEL_e3ccf5b5566e4086acbd71fae28a96e7",
              "IPY_MODEL_4c9bd27531ef4c1bb4240ed771609de8"
            ],
            "layout": "IPY_MODEL_8b039945706a41cea5bf9c946a2ea47f"
          }
        },
        "07d3d01481974140a482389b0b0f80a9": {
          "model_module": "@jupyter-widgets/controls",
          "model_name": "HTMLModel",
          "model_module_version": "1.5.0",
          "state": {
            "_dom_classes": [],
            "_model_module": "@jupyter-widgets/controls",
            "_model_module_version": "1.5.0",
            "_model_name": "HTMLModel",
            "_view_count": null,
            "_view_module": "@jupyter-widgets/controls",
            "_view_module_version": "1.5.0",
            "_view_name": "HTMLView",
            "description": "",
            "description_tooltip": null,
            "layout": "IPY_MODEL_de2ae9ab424a4c16a3442ef5513060b7",
            "placeholder": "​",
            "style": "IPY_MODEL_c4223e6c2ac74d41828665234fd8832f",
            "value": "100%"
          }
        },
        "e3ccf5b5566e4086acbd71fae28a96e7": {
          "model_module": "@jupyter-widgets/controls",
          "model_name": "FloatProgressModel",
          "model_module_version": "1.5.0",
          "state": {
            "_dom_classes": [],
            "_model_module": "@jupyter-widgets/controls",
            "_model_module_version": "1.5.0",
            "_model_name": "FloatProgressModel",
            "_view_count": null,
            "_view_module": "@jupyter-widgets/controls",
            "_view_module_version": "1.5.0",
            "_view_name": "ProgressView",
            "bar_style": "success",
            "description": "",
            "description_tooltip": null,
            "layout": "IPY_MODEL_469e82821cd94fa98a4aa925ce021152",
            "max": 8,
            "min": 0,
            "orientation": "horizontal",
            "style": "IPY_MODEL_88b94b33b6264cbb922c0f8174a849ac",
            "value": 8
          }
        },
        "4c9bd27531ef4c1bb4240ed771609de8": {
          "model_module": "@jupyter-widgets/controls",
          "model_name": "HTMLModel",
          "model_module_version": "1.5.0",
          "state": {
            "_dom_classes": [],
            "_model_module": "@jupyter-widgets/controls",
            "_model_module_version": "1.5.0",
            "_model_name": "HTMLModel",
            "_view_count": null,
            "_view_module": "@jupyter-widgets/controls",
            "_view_module_version": "1.5.0",
            "_view_name": "HTMLView",
            "description": "",
            "description_tooltip": null,
            "layout": "IPY_MODEL_b4a7f00803ad418e9f59a966f507bb4d",
            "placeholder": "​",
            "style": "IPY_MODEL_eb634abfcaae441cadd05ca3539d1479",
            "value": " 8/8 [00:34&lt;00:00,  4.43s/it]"
          }
        },
        "8b039945706a41cea5bf9c946a2ea47f": {
          "model_module": "@jupyter-widgets/base",
          "model_name": "LayoutModel",
          "model_module_version": "1.2.0",
          "state": {
            "_model_module": "@jupyter-widgets/base",
            "_model_module_version": "1.2.0",
            "_model_name": "LayoutModel",
            "_view_count": null,
            "_view_module": "@jupyter-widgets/base",
            "_view_module_version": "1.2.0",
            "_view_name": "LayoutView",
            "align_content": null,
            "align_items": null,
            "align_self": null,
            "border": null,
            "bottom": null,
            "display": null,
            "flex": null,
            "flex_flow": null,
            "grid_area": null,
            "grid_auto_columns": null,
            "grid_auto_flow": null,
            "grid_auto_rows": null,
            "grid_column": null,
            "grid_gap": null,
            "grid_row": null,
            "grid_template_areas": null,
            "grid_template_columns": null,
            "grid_template_rows": null,
            "height": null,
            "justify_content": null,
            "justify_items": null,
            "left": null,
            "margin": null,
            "max_height": null,
            "max_width": null,
            "min_height": null,
            "min_width": null,
            "object_fit": null,
            "object_position": null,
            "order": null,
            "overflow": null,
            "overflow_x": null,
            "overflow_y": null,
            "padding": null,
            "right": null,
            "top": null,
            "visibility": null,
            "width": null
          }
        },
        "de2ae9ab424a4c16a3442ef5513060b7": {
          "model_module": "@jupyter-widgets/base",
          "model_name": "LayoutModel",
          "model_module_version": "1.2.0",
          "state": {
            "_model_module": "@jupyter-widgets/base",
            "_model_module_version": "1.2.0",
            "_model_name": "LayoutModel",
            "_view_count": null,
            "_view_module": "@jupyter-widgets/base",
            "_view_module_version": "1.2.0",
            "_view_name": "LayoutView",
            "align_content": null,
            "align_items": null,
            "align_self": null,
            "border": null,
            "bottom": null,
            "display": null,
            "flex": null,
            "flex_flow": null,
            "grid_area": null,
            "grid_auto_columns": null,
            "grid_auto_flow": null,
            "grid_auto_rows": null,
            "grid_column": null,
            "grid_gap": null,
            "grid_row": null,
            "grid_template_areas": null,
            "grid_template_columns": null,
            "grid_template_rows": null,
            "height": null,
            "justify_content": null,
            "justify_items": null,
            "left": null,
            "margin": null,
            "max_height": null,
            "max_width": null,
            "min_height": null,
            "min_width": null,
            "object_fit": null,
            "object_position": null,
            "order": null,
            "overflow": null,
            "overflow_x": null,
            "overflow_y": null,
            "padding": null,
            "right": null,
            "top": null,
            "visibility": null,
            "width": null
          }
        },
        "c4223e6c2ac74d41828665234fd8832f": {
          "model_module": "@jupyter-widgets/controls",
          "model_name": "DescriptionStyleModel",
          "model_module_version": "1.5.0",
          "state": {
            "_model_module": "@jupyter-widgets/controls",
            "_model_module_version": "1.5.0",
            "_model_name": "DescriptionStyleModel",
            "_view_count": null,
            "_view_module": "@jupyter-widgets/base",
            "_view_module_version": "1.2.0",
            "_view_name": "StyleView",
            "description_width": ""
          }
        },
        "469e82821cd94fa98a4aa925ce021152": {
          "model_module": "@jupyter-widgets/base",
          "model_name": "LayoutModel",
          "model_module_version": "1.2.0",
          "state": {
            "_model_module": "@jupyter-widgets/base",
            "_model_module_version": "1.2.0",
            "_model_name": "LayoutModel",
            "_view_count": null,
            "_view_module": "@jupyter-widgets/base",
            "_view_module_version": "1.2.0",
            "_view_name": "LayoutView",
            "align_content": null,
            "align_items": null,
            "align_self": null,
            "border": null,
            "bottom": null,
            "display": null,
            "flex": null,
            "flex_flow": null,
            "grid_area": null,
            "grid_auto_columns": null,
            "grid_auto_flow": null,
            "grid_auto_rows": null,
            "grid_column": null,
            "grid_gap": null,
            "grid_row": null,
            "grid_template_areas": null,
            "grid_template_columns": null,
            "grid_template_rows": null,
            "height": null,
            "justify_content": null,
            "justify_items": null,
            "left": null,
            "margin": null,
            "max_height": null,
            "max_width": null,
            "min_height": null,
            "min_width": null,
            "object_fit": null,
            "object_position": null,
            "order": null,
            "overflow": null,
            "overflow_x": null,
            "overflow_y": null,
            "padding": null,
            "right": null,
            "top": null,
            "visibility": null,
            "width": null
          }
        },
        "88b94b33b6264cbb922c0f8174a849ac": {
          "model_module": "@jupyter-widgets/controls",
          "model_name": "ProgressStyleModel",
          "model_module_version": "1.5.0",
          "state": {
            "_model_module": "@jupyter-widgets/controls",
            "_model_module_version": "1.5.0",
            "_model_name": "ProgressStyleModel",
            "_view_count": null,
            "_view_module": "@jupyter-widgets/base",
            "_view_module_version": "1.2.0",
            "_view_name": "StyleView",
            "bar_color": null,
            "description_width": ""
          }
        },
        "b4a7f00803ad418e9f59a966f507bb4d": {
          "model_module": "@jupyter-widgets/base",
          "model_name": "LayoutModel",
          "model_module_version": "1.2.0",
          "state": {
            "_model_module": "@jupyter-widgets/base",
            "_model_module_version": "1.2.0",
            "_model_name": "LayoutModel",
            "_view_count": null,
            "_view_module": "@jupyter-widgets/base",
            "_view_module_version": "1.2.0",
            "_view_name": "LayoutView",
            "align_content": null,
            "align_items": null,
            "align_self": null,
            "border": null,
            "bottom": null,
            "display": null,
            "flex": null,
            "flex_flow": null,
            "grid_area": null,
            "grid_auto_columns": null,
            "grid_auto_flow": null,
            "grid_auto_rows": null,
            "grid_column": null,
            "grid_gap": null,
            "grid_row": null,
            "grid_template_areas": null,
            "grid_template_columns": null,
            "grid_template_rows": null,
            "height": null,
            "justify_content": null,
            "justify_items": null,
            "left": null,
            "margin": null,
            "max_height": null,
            "max_width": null,
            "min_height": null,
            "min_width": null,
            "object_fit": null,
            "object_position": null,
            "order": null,
            "overflow": null,
            "overflow_x": null,
            "overflow_y": null,
            "padding": null,
            "right": null,
            "top": null,
            "visibility": null,
            "width": null
          }
        },
        "eb634abfcaae441cadd05ca3539d1479": {
          "model_module": "@jupyter-widgets/controls",
          "model_name": "DescriptionStyleModel",
          "model_module_version": "1.5.0",
          "state": {
            "_model_module": "@jupyter-widgets/controls",
            "_model_module_version": "1.5.0",
            "_model_name": "DescriptionStyleModel",
            "_view_count": null,
            "_view_module": "@jupyter-widgets/base",
            "_view_module_version": "1.2.0",
            "_view_name": "StyleView",
            "description_width": ""
          }
        },
        "6002c442501b456a87375d2a2b731249": {
          "model_module": "@jupyter-widgets/controls",
          "model_name": "HBoxModel",
          "model_module_version": "1.5.0",
          "state": {
            "_dom_classes": [],
            "_model_module": "@jupyter-widgets/controls",
            "_model_module_version": "1.5.0",
            "_model_name": "HBoxModel",
            "_view_count": null,
            "_view_module": "@jupyter-widgets/controls",
            "_view_module_version": "1.5.0",
            "_view_name": "HBoxView",
            "box_style": "",
            "children": [
              "IPY_MODEL_404a257f1364401c8b91f4b701b7f1c7",
              "IPY_MODEL_2b4c77ae89a841959e3688272e70fb61",
              "IPY_MODEL_ca53a44663334e5ab866db310d5bb6d0"
            ],
            "layout": "IPY_MODEL_d12b5e98a17a4633a0cf21dd7806e093"
          }
        },
        "404a257f1364401c8b91f4b701b7f1c7": {
          "model_module": "@jupyter-widgets/controls",
          "model_name": "HTMLModel",
          "model_module_version": "1.5.0",
          "state": {
            "_dom_classes": [],
            "_model_module": "@jupyter-widgets/controls",
            "_model_module_version": "1.5.0",
            "_model_name": "HTMLModel",
            "_view_count": null,
            "_view_module": "@jupyter-widgets/controls",
            "_view_module_version": "1.5.0",
            "_view_name": "HTMLView",
            "description": "",
            "description_tooltip": null,
            "layout": "IPY_MODEL_960c0f2b55284708ab8ed482804e1dd5",
            "placeholder": "​",
            "style": "IPY_MODEL_249b70db1fb54da78691f6584d4f5b36",
            "value": "100%"
          }
        },
        "2b4c77ae89a841959e3688272e70fb61": {
          "model_module": "@jupyter-widgets/controls",
          "model_name": "FloatProgressModel",
          "model_module_version": "1.5.0",
          "state": {
            "_dom_classes": [],
            "_model_module": "@jupyter-widgets/controls",
            "_model_module_version": "1.5.0",
            "_model_name": "FloatProgressModel",
            "_view_count": null,
            "_view_module": "@jupyter-widgets/controls",
            "_view_module_version": "1.5.0",
            "_view_name": "ProgressView",
            "bar_style": "success",
            "description": "",
            "description_tooltip": null,
            "layout": "IPY_MODEL_01173b7fb21e470bb308ef7b710b7628",
            "max": 8,
            "min": 0,
            "orientation": "horizontal",
            "style": "IPY_MODEL_271ab4906f014aa78556affd90548406",
            "value": 8
          }
        },
        "ca53a44663334e5ab866db310d5bb6d0": {
          "model_module": "@jupyter-widgets/controls",
          "model_name": "HTMLModel",
          "model_module_version": "1.5.0",
          "state": {
            "_dom_classes": [],
            "_model_module": "@jupyter-widgets/controls",
            "_model_module_version": "1.5.0",
            "_model_name": "HTMLModel",
            "_view_count": null,
            "_view_module": "@jupyter-widgets/controls",
            "_view_module_version": "1.5.0",
            "_view_name": "HTMLView",
            "description": "",
            "description_tooltip": null,
            "layout": "IPY_MODEL_39443083c9cd46d8b84088c224f0317a",
            "placeholder": "​",
            "style": "IPY_MODEL_842e254f98e64cbea66b88536d0c28d1",
            "value": " 8/8 [00:00&lt;00:00,  9.82it/s]"
          }
        },
        "d12b5e98a17a4633a0cf21dd7806e093": {
          "model_module": "@jupyter-widgets/base",
          "model_name": "LayoutModel",
          "model_module_version": "1.2.0",
          "state": {
            "_model_module": "@jupyter-widgets/base",
            "_model_module_version": "1.2.0",
            "_model_name": "LayoutModel",
            "_view_count": null,
            "_view_module": "@jupyter-widgets/base",
            "_view_module_version": "1.2.0",
            "_view_name": "LayoutView",
            "align_content": null,
            "align_items": null,
            "align_self": null,
            "border": null,
            "bottom": null,
            "display": null,
            "flex": null,
            "flex_flow": null,
            "grid_area": null,
            "grid_auto_columns": null,
            "grid_auto_flow": null,
            "grid_auto_rows": null,
            "grid_column": null,
            "grid_gap": null,
            "grid_row": null,
            "grid_template_areas": null,
            "grid_template_columns": null,
            "grid_template_rows": null,
            "height": null,
            "justify_content": null,
            "justify_items": null,
            "left": null,
            "margin": null,
            "max_height": null,
            "max_width": null,
            "min_height": null,
            "min_width": null,
            "object_fit": null,
            "object_position": null,
            "order": null,
            "overflow": null,
            "overflow_x": null,
            "overflow_y": null,
            "padding": null,
            "right": null,
            "top": null,
            "visibility": null,
            "width": null
          }
        },
        "960c0f2b55284708ab8ed482804e1dd5": {
          "model_module": "@jupyter-widgets/base",
          "model_name": "LayoutModel",
          "model_module_version": "1.2.0",
          "state": {
            "_model_module": "@jupyter-widgets/base",
            "_model_module_version": "1.2.0",
            "_model_name": "LayoutModel",
            "_view_count": null,
            "_view_module": "@jupyter-widgets/base",
            "_view_module_version": "1.2.0",
            "_view_name": "LayoutView",
            "align_content": null,
            "align_items": null,
            "align_self": null,
            "border": null,
            "bottom": null,
            "display": null,
            "flex": null,
            "flex_flow": null,
            "grid_area": null,
            "grid_auto_columns": null,
            "grid_auto_flow": null,
            "grid_auto_rows": null,
            "grid_column": null,
            "grid_gap": null,
            "grid_row": null,
            "grid_template_areas": null,
            "grid_template_columns": null,
            "grid_template_rows": null,
            "height": null,
            "justify_content": null,
            "justify_items": null,
            "left": null,
            "margin": null,
            "max_height": null,
            "max_width": null,
            "min_height": null,
            "min_width": null,
            "object_fit": null,
            "object_position": null,
            "order": null,
            "overflow": null,
            "overflow_x": null,
            "overflow_y": null,
            "padding": null,
            "right": null,
            "top": null,
            "visibility": null,
            "width": null
          }
        },
        "249b70db1fb54da78691f6584d4f5b36": {
          "model_module": "@jupyter-widgets/controls",
          "model_name": "DescriptionStyleModel",
          "model_module_version": "1.5.0",
          "state": {
            "_model_module": "@jupyter-widgets/controls",
            "_model_module_version": "1.5.0",
            "_model_name": "DescriptionStyleModel",
            "_view_count": null,
            "_view_module": "@jupyter-widgets/base",
            "_view_module_version": "1.2.0",
            "_view_name": "StyleView",
            "description_width": ""
          }
        },
        "01173b7fb21e470bb308ef7b710b7628": {
          "model_module": "@jupyter-widgets/base",
          "model_name": "LayoutModel",
          "model_module_version": "1.2.0",
          "state": {
            "_model_module": "@jupyter-widgets/base",
            "_model_module_version": "1.2.0",
            "_model_name": "LayoutModel",
            "_view_count": null,
            "_view_module": "@jupyter-widgets/base",
            "_view_module_version": "1.2.0",
            "_view_name": "LayoutView",
            "align_content": null,
            "align_items": null,
            "align_self": null,
            "border": null,
            "bottom": null,
            "display": null,
            "flex": null,
            "flex_flow": null,
            "grid_area": null,
            "grid_auto_columns": null,
            "grid_auto_flow": null,
            "grid_auto_rows": null,
            "grid_column": null,
            "grid_gap": null,
            "grid_row": null,
            "grid_template_areas": null,
            "grid_template_columns": null,
            "grid_template_rows": null,
            "height": null,
            "justify_content": null,
            "justify_items": null,
            "left": null,
            "margin": null,
            "max_height": null,
            "max_width": null,
            "min_height": null,
            "min_width": null,
            "object_fit": null,
            "object_position": null,
            "order": null,
            "overflow": null,
            "overflow_x": null,
            "overflow_y": null,
            "padding": null,
            "right": null,
            "top": null,
            "visibility": null,
            "width": null
          }
        },
        "271ab4906f014aa78556affd90548406": {
          "model_module": "@jupyter-widgets/controls",
          "model_name": "ProgressStyleModel",
          "model_module_version": "1.5.0",
          "state": {
            "_model_module": "@jupyter-widgets/controls",
            "_model_module_version": "1.5.0",
            "_model_name": "ProgressStyleModel",
            "_view_count": null,
            "_view_module": "@jupyter-widgets/base",
            "_view_module_version": "1.2.0",
            "_view_name": "StyleView",
            "bar_color": null,
            "description_width": ""
          }
        },
        "39443083c9cd46d8b84088c224f0317a": {
          "model_module": "@jupyter-widgets/base",
          "model_name": "LayoutModel",
          "model_module_version": "1.2.0",
          "state": {
            "_model_module": "@jupyter-widgets/base",
            "_model_module_version": "1.2.0",
            "_model_name": "LayoutModel",
            "_view_count": null,
            "_view_module": "@jupyter-widgets/base",
            "_view_module_version": "1.2.0",
            "_view_name": "LayoutView",
            "align_content": null,
            "align_items": null,
            "align_self": null,
            "border": null,
            "bottom": null,
            "display": null,
            "flex": null,
            "flex_flow": null,
            "grid_area": null,
            "grid_auto_columns": null,
            "grid_auto_flow": null,
            "grid_auto_rows": null,
            "grid_column": null,
            "grid_gap": null,
            "grid_row": null,
            "grid_template_areas": null,
            "grid_template_columns": null,
            "grid_template_rows": null,
            "height": null,
            "justify_content": null,
            "justify_items": null,
            "left": null,
            "margin": null,
            "max_height": null,
            "max_width": null,
            "min_height": null,
            "min_width": null,
            "object_fit": null,
            "object_position": null,
            "order": null,
            "overflow": null,
            "overflow_x": null,
            "overflow_y": null,
            "padding": null,
            "right": null,
            "top": null,
            "visibility": null,
            "width": null
          }
        },
        "842e254f98e64cbea66b88536d0c28d1": {
          "model_module": "@jupyter-widgets/controls",
          "model_name": "DescriptionStyleModel",
          "model_module_version": "1.5.0",
          "state": {
            "_model_module": "@jupyter-widgets/controls",
            "_model_module_version": "1.5.0",
            "_model_name": "DescriptionStyleModel",
            "_view_count": null,
            "_view_module": "@jupyter-widgets/base",
            "_view_module_version": "1.2.0",
            "_view_name": "StyleView",
            "description_width": ""
          }
        }
      }
    }
  },
  "nbformat": 4,
  "nbformat_minor": 0
}